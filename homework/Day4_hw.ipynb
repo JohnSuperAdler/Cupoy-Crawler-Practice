{
 "cells": [
  {
   "cell_type": "markdown",
   "metadata": {
    "id": "RmEW9BEct8Fk"
   },
   "source": [
    "## 作業說明\n",
    "\n",
    "今天我們介紹了爬蟲所需的 HTTP 基本知識，包含 server-client 架構、 Requests 方法、HTTP Response 狀態碼及 HTTP協定中的 cookie 和 seesions。\n",
    "\n",
    "請學員回答以下問題：\n"
   ]
  },
  {
   "cell_type": "markdown",
   "metadata": {
    "id": "A12euxEYyD_y"
   },
   "source": [
    "### HTTP Response Status Code 狀態碼\n",
    "- Status code: **200** 代表的意思是？\n",
    "- Status code: **301** 代表的意思是？\n",
    "- Status code: **302** 代表的意思是？\n",
    "- Status code: **502** 代表的意思是？\n",
    "\n",
    "Hint: 可以到[這個網址](https://developer.mozilla.org/zh-TW/docs/Web/HTTP/Status)查詢相關資料"
   ]
  },
  {
   "cell_type": "markdown",
   "metadata": {
    "id": "jD3-yxQ4uAaL"
   },
   "source": [
    "1. **200** : 請求成功。細節依HTTP方法不同有所不同。\n",
    "2. **301** : 請求資源的URI已被改變。有時候會在回應內給予新的 URI。\n",
    "3. **302** : 請求資源的URI被暫時改變。\n",
    "4. **502** : 在連結閘道伺服器時沒有得到有效的回應。"
   ]
  },
  {
   "cell_type": "code",
   "execution_count": null,
   "metadata": {},
   "outputs": [],
   "source": []
  }
 ],
 "metadata": {
  "colab": {
   "authorship_tag": "ABX9TyNFiQWZYRwukoEMBTHCLuGy",
   "collapsed_sections": [],
   "name": "Day4_hw.ipynb",
   "provenance": []
  },
  "kernelspec": {
   "display_name": "Python 3",
   "language": "python",
   "name": "python3"
  },
  "language_info": {
   "codemirror_mode": {
    "name": "ipython",
    "version": 3
   },
   "file_extension": ".py",
   "mimetype": "text/x-python",
   "name": "python",
   "nbconvert_exporter": "python",
   "pygments_lexer": "ipython3",
   "version": "3.7.7"
  }
 },
 "nbformat": 4,
 "nbformat_minor": 1
}
