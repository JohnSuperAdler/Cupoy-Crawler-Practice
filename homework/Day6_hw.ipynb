{
 "cells": [
  {
   "cell_type": "markdown",
   "metadata": {
    "id": "RmEW9BEct8Fk"
   },
   "source": [
    "## 作業說明\n",
    "\n",
    "Day6 我們介紹了靜態網頁的運作原理和網頁結構，並且示範了如何使用 CSS selector 及 XPath 選取網頁物件\n",
    "\n",
    "今日作業我們要實地拿一個經典的靜態網頁來練習物件的定位。猜到了嗎，就是 YCombinator Blog\n",
    "\n",
    "- 目標網站： [YCombinator](https://news.ycombinator.com/)\n",
    "- 爬蟲目標：能透過 CSS selector 成功選取第一頁所有文章標題\n",
    "- 示意圖\n",
    "![](https://i.imgur.com/egRGiWg.png)"
   ]
  },
  {
   "cell_type": "markdown",
   "metadata": {},
   "source": [
    "## Self memo\n",
    "\n",
    "- [PythonでHTMLを解析してデータ収集してみる？(BeautifulSoup)](https://codezine.jp/article/detail/12230)"
   ]
  },
  {
   "cell_type": "code",
   "execution_count": 1,
   "metadata": {
    "id": "jD3-yxQ4uAaL"
   },
   "outputs": [],
   "source": [
    "import requests\n",
    "from bs4 import BeautifulSoup"
   ]
  },
  {
   "cell_type": "code",
   "execution_count": 2,
   "metadata": {},
   "outputs": [],
   "source": [
    "load_url = 'https://news.ycombinator.com/'\n",
    "html = requests.get(load_url)\n",
    "soup = BeautifulSoup(html.content, 'html.parser')"
   ]
  },
  {
   "cell_type": "code",
   "execution_count": 3,
   "metadata": {},
   "outputs": [
    {
     "name": "stdout",
     "output_type": "stream",
     "text": [
      "<class 'bs4.BeautifulSoup'>\n",
      "<html lang=\"en\" op=\"news\"><head><meta content=\"origin\" name=\"referrer\"/><meta content=\"width=device-width, initial-scale=1.0\" name=\"viewport\"/><link href=\"news.css?hkwvlixxTJxfjhlDsBv9\" rel=\"stylesheet\" type=\"text/css\"/>\n",
      "<link href=\"favicon.ico\" rel=\"shortcut icon\"/>\n",
      "<link href=\"rss\" rel=\"alternate\" title=\"RSS\" type=\"application/rss+xml\"/>\n",
      "<title>Hacker News</title></head><body><center><table bgcolor=\"#f6f6ef\" border=\"0\" cellpadding=\"0\" cellspacing=\"0\" id=\"hnmain\" width=\"85%\">\n",
      "<tr><td bgcolor=\"#ff6600\"><table border=\"0\" cellpadding=\"0\" cellspacing=\"0\" style=\"padding:2px\" width=\"100%\"><tr><td style=\"width:18px;padding-right:4px\"><a href=\"https://news.ycombinator.com\"><img height=\"18\" src=\"y18.gif\" style=\"border:1px white solid;\" width=\"18\"/></a></td>\n",
      "<td style=\"line-height:12pt; height:10px;\"><span class=\"pagetop\"><b class=\"hnname\"><a href=\"news\">Hacker News</a></b>\n",
      "<a href=\"newest\">new</a> | <a href=\"front\">past</a> | <a href=\"newcomments\">comments</a> | <a href=\"ask\">ask</a> | <a href=\"show\">show</a> | <a href=\"jobs\">jobs</a> | <a href=\"submit\">submit</a> </span></td><td style=\"text-align:right;padding-right:4px;\"><span class=\"pagetop\">\n",
      "<a href=\"login?goto=news\">login</a>\n",
      "</span></td>\n",
      "</tr></table></td></tr>\n",
      "<tr id=\"pagespace\" style=\"height:10px\" title=\"\"></tr><tr><td><table border=\"0\" cellpadding=\"0\" cellspacing=\"0\" class=\"itemlist\">\n",
      "<tr class=\"athing\" id=\"32210438\">\n",
      "<td align=\"right\" class=\"title\" valign=\"top\"><span class=\"rank\">1.</span></td> <td class=\"votelinks\" valign=\"top\"><center><a href=\"vote?id=32210438&amp;how=up&amp;goto=news\" id=\"up_32210438\"><div class=\"votearrow\" title=\"upvote\"></div></a></center></td><td class=\"title\"><a class=\"titlelink\" href=\"https://www.nongnu.org/lzip/xz_inadequate.html\">Xz format considered inadequate for long-term archiving (2016)</a><span class=\"sitebit comhead\"> (<a href=\"from?site=nongnu.org\"><span class=\"sitestr\">nongnu.org</span></a>)</span></td></tr><tr><td colspan=\"2\"></td><td class=\"subtext\">\n",
      "<span class=\"score\" id=\"score_32210438\">111 points</span> by <a class=\"hnuser\" href=\"user?id=pcr910303\">pcr910303</a> <span class=\"age\" title=\"2022-07-24T04:52:02\"><a href=\"item?id=32210438\">3 hours ago</a></span> <span id=\"unv_32210438\"></span> | <a href=\"hide?id=32210438&amp;goto=news\">hide</a> | <a href=\"item?id=32210438\">61 comments</a> </td></tr>\n",
      "<tr class=\"spacer\" style=\"height:5px\"></tr>\n",
      "<tr class=\"athing\" id=\"32210140\">\n",
      "<td align=\"right\" class=\"title\" valign=\"top\"><span class=\"rank\">2.</span></td> <td class=\"votelinks\" valign=\"top\"><center><a href=\"vote?id=32210140&amp;how=up&amp;goto=news\" id=\"up_32210140\"><div class=\"votearrow\" title=\"upvote\"></div></a></center></td><td class=\"title\"><a class=\"titlelink\" href=\"http://www.paulbourke.net/fractals/burnship/\">\"Burning Ship\" fractal</a><span class=\"sitebit comhead\"> (<a href=\"from?site=paulbourke.net\"><span class=\"sitestr\">paulbourke.net</span></a>)</span></td></tr><tr><td colspan=\"2\"></td><td class=\"subtext\">\n",
      "<span class=\"score\" id=\"score_32210140\">118 points</span> by <a class=\"hnuser\" href=\"user?id=daqnal\">daqnal</a> <span class=\"age\" title=\"2022-07-24T03:47:55\"><a href=\"item?id=32210140\">4 hours ago</a></span> <span id=\"unv_32210140\"></span> | <a href=\"hide?id=32210140&amp;goto=news\">hide</a> | <a href=\"item?id=32210140\">13 comments</a> </td></tr>\n",
      "<tr class=\"spacer\" style=\"height:5px\"></tr>\n",
      "<tr class=\"athing\" id=\"32207152\">\n",
      "<td align=\"right\" class=\"title\" valign=\"top\"><span class=\"rank\">3.</span></td> <td class=\"votelinks\" valign=\"top\"><center><a href=\"vote?id=32207152&amp;how=up&amp;goto=news\" id=\"up_32207152\"><div class=\"votearrow\" title=\"upvote\"></div></a></center></td><td class=\"title\"><a class=\"titlelink\" href=\"https://www.growthbusiness.co.uk/more-invested-in-nuclear-fusion-in-last-12-months-than-past-decade-2560528/\">More invested in nuclear fusion in last 12 months than past decade</a><span class=\"sitebit comhead\"> (<a href=\"from?site=growthbusiness.co.uk\"><span class=\"sitestr\">growthbusiness.co.uk</span></a>)</span></td></tr><tr><td colspan=\"2\"></td><td class=\"subtext\">\n",
      "<span class=\"score\" id=\"score_32207152\">521 points</span> by <a class=\"hnuser\" href=\"user?id=bilsbie\">bilsbie</a> <span class=\"age\" title=\"2022-07-23T20:11:55\"><a href=\"item?id=32207152\">11 hours ago</a></span> <span id=\"unv_32207152\"></span> | <a href=\"hide?id=32207152&amp;goto=news\">hide</a> | <a href=\"item?id=32207152\">380 comments</a> </td></tr>\n",
      "<tr class=\"spacer\" style=\"height:5px\"></tr>\n",
      "<tr class=\"athing\" id=\"32210695\">\n",
      "<td align=\"right\" class=\"title\" valign=\"top\"><span class=\"rank\">4.</span></td> <td class=\"votelinks\" valign=\"top\"><center><a href=\"vote?id=32210695&amp;how=up&amp;goto=news\" id=\"up_32210695\"><div class=\"votearrow\" title=\"upvote\"></div></a></center></td><td class=\"title\"><a class=\"titlelink\" href=\"https://www.axios.com/2022/07/22/ford-lithium-iron-phosphate-batteries\">Ford's answer to EV supply chain hell: Cheaper batteries</a><span class=\"sitebit comhead\"> (<a href=\"from?site=axios.com\"><span class=\"sitestr\">axios.com</span></a>)</span></td></tr><tr><td colspan=\"2\"></td><td class=\"subtext\">\n",
      "<span class=\"score\" id=\"score_32210695\">26 points</span> by <a class=\"hnuser\" href=\"user?id=elsewhen\">elsewhen</a> <span class=\"age\" title=\"2022-07-24T05:44:30\"><a href=\"item?id=32210695\">2 hours ago</a></span> <span id=\"unv_32210695\"></span> | <a href=\"hide?id=32210695&amp;goto=news\">hide</a> | <a href=\"item?id=32210695\">18 comments</a> </td></tr>\n",
      "<tr class=\"spacer\" style=\"height:5px\"></tr>\n",
      "<tr class=\"athing\" id=\"32210258\">\n",
      "<td align=\"right\" class=\"title\" valign=\"top\"><span class=\"rank\">5.</span></td> <td class=\"votelinks\" valign=\"top\"><center><a href=\"vote?id=32210258&amp;how=up&amp;goto=news\" id=\"up_32210258\"><div class=\"votearrow\" title=\"upvote\"></div></a></center></td><td class=\"title\"><a class=\"titlelink\" href=\"https://wikenigma.org.uk/\">Wikenigma is an encyclopedia for topics with unknown answers</a><span class=\"sitebit comhead\"> (<a href=\"from?site=wikenigma.org.uk\"><span class=\"sitestr\">wikenigma.org.uk</span></a>)</span></td></tr><tr><td colspan=\"2\"></td><td class=\"subtext\">\n",
      "<span class=\"score\" id=\"score_32210258\">61 points</span> by <a class=\"hnuser\" href=\"user?id=pranavnt\">pranavnt</a> <span class=\"age\" title=\"2022-07-24T04:10:14\"><a href=\"item?id=32210258\">3 hours ago</a></span> <span id=\"unv_32210258\"></span> | <a href=\"hide?id=32210258&amp;goto=news\">hide</a> | <a href=\"item?id=32210258\">23 comments</a> </td></tr>\n",
      "<tr class=\"spacer\" style=\"height:5px\"></tr>\n",
      "<tr class=\"athing\" id=\"32210256\">\n",
      "<td align=\"right\" class=\"title\" valign=\"top\"><span class=\"rank\">6.</span></td> <td class=\"votelinks\" valign=\"top\"><center><a href=\"vote?id=32210256&amp;how=up&amp;goto=news\" id=\"up_32210256\"><div class=\"votearrow\" title=\"upvote\"></div></a></center></td><td class=\"title\"><a class=\"titlelink\" href=\"https://twitter.com/fchollet/status/1550930876183166976\">Amazon sales of “Deep Learning with Python” are counterfeit</a><span class=\"sitebit comhead\"> (<a href=\"from?site=twitter.com/fchollet\"><span class=\"sitestr\">twitter.com/fchollet</span></a>)</span></td></tr><tr><td colspan=\"2\"></td><td class=\"subtext\">\n",
      "<span class=\"score\" id=\"score_32210256\">223 points</span> by <a class=\"hnuser\" href=\"user?id=jmillikin\">jmillikin</a> <span class=\"age\" title=\"2022-07-24T04:10:04\"><a href=\"item?id=32210256\">3 hours ago</a></span> <span id=\"unv_32210256\"></span> | <a href=\"hide?id=32210256&amp;goto=news\">hide</a> | <a href=\"item?id=32210256\">58 comments</a> </td></tr>\n",
      "<tr class=\"spacer\" style=\"height:5px\"></tr>\n",
      "<tr class=\"athing\" id=\"32206579\">\n",
      "<td align=\"right\" class=\"title\" valign=\"top\"><span class=\"rank\">7.</span></td> <td class=\"votelinks\" valign=\"top\"><center><a href=\"vote?id=32206579&amp;how=up&amp;goto=news\" id=\"up_32206579\"><div class=\"votearrow\" title=\"upvote\"></div></a></center></td><td class=\"title\"><a class=\"titlelink\" href=\"https://mort.coffee/home/tar/\">The tar archive format, and why GNU tar extracts in quadratic time</a><span class=\"sitebit comhead\"> (<a href=\"from?site=mort.coffee\"><span class=\"sitestr\">mort.coffee</span></a>)</span></td></tr><tr><td colspan=\"2\"></td><td class=\"subtext\">\n",
      "<span class=\"score\" id=\"score_32206579\">248 points</span> by <a class=\"hnuser\" href=\"user?id=mort96\">mort96</a> <span class=\"age\" title=\"2022-07-23T19:11:49\"><a href=\"item?id=32206579\">12 hours ago</a></span> <span id=\"unv_32206579\"></span> | <a href=\"hide?id=32206579&amp;goto=news\">hide</a> | <a href=\"item?id=32206579\">96 comments</a> </td></tr>\n",
      "<tr class=\"spacer\" style=\"height:5px\"></tr>\n",
      "<tr class=\"athing\" id=\"32209168\">\n",
      "<td align=\"right\" class=\"title\" valign=\"top\"><span class=\"rank\">8.</span></td> <td class=\"votelinks\" valign=\"top\"><center><a href=\"vote?id=32209168&amp;how=up&amp;goto=news\" id=\"up_32209168\"><div class=\"votearrow\" title=\"upvote\"></div></a></center></td><td class=\"title\"><a class=\"titlelink\" href=\"http://backreaction.blogspot.com/2022/07/does-past-still-exist.html\">Does the Past Still Exist?</a><span class=\"sitebit comhead\"> (<a href=\"from?site=backreaction.blogspot.com\"><span class=\"sitestr\">backreaction.blogspot.com</span></a>)</span></td></tr><tr><td colspan=\"2\"></td><td class=\"subtext\">\n",
      "<span class=\"score\" id=\"score_32209168\">71 points</span> by <a class=\"hnuser\" href=\"user?id=nsoonhui\">nsoonhui</a> <span class=\"age\" title=\"2022-07-24T01:04:39\"><a href=\"item?id=32209168\">7 hours ago</a></span> <span id=\"unv_32209168\"></span> | <a href=\"hide?id=32209168&amp;goto=news\">hide</a> | <a href=\"item?id=32209168\">35 comments</a> </td></tr>\n",
      "<tr class=\"spacer\" style=\"height:5px\"></tr>\n",
      "<tr class=\"athing\" id=\"32207606\">\n",
      "<td align=\"right\" class=\"title\" valign=\"top\"><span class=\"rank\">9.</span></td> <td class=\"votelinks\" valign=\"top\"><center><a href=\"vote?id=32207606&amp;how=up&amp;goto=news\" id=\"up_32207606\"><div class=\"votearrow\" title=\"upvote\"></div></a></center></td><td class=\"title\"><a class=\"titlelink\" href=\"https://github.com/nedlir/OfficerBreaker\">OfficerBreaker – pptx/docx/xlsx password remover</a><span class=\"sitebit comhead\"> (<a href=\"from?site=github.com/nedlir\"><span class=\"sitestr\">github.com/nedlir</span></a>)</span></td></tr><tr><td colspan=\"2\"></td><td class=\"subtext\">\n",
      "<span class=\"score\" id=\"score_32207606\">139 points</span> by <a class=\"hnuser\" href=\"user?id=Anonymous4272\">Anonymous4272</a> <span class=\"age\" title=\"2022-07-23T21:10:25\"><a href=\"item?id=32207606\">10 hours ago</a></span> <span id=\"unv_32207606\"></span> | <a href=\"hide?id=32207606&amp;goto=news\">hide</a> | <a href=\"item?id=32207606\">18 comments</a> </td></tr>\n",
      "<tr class=\"spacer\" style=\"height:5px\"></tr>\n",
      "<tr class=\"athing\" id=\"32211063\">\n",
      "<td align=\"right\" class=\"title\" valign=\"top\"><span class=\"rank\">10.</span></td> <td class=\"votelinks\" valign=\"top\"><center><a href=\"vote?id=32211063&amp;how=up&amp;goto=news\" id=\"up_32211063\"><div class=\"votearrow\" title=\"upvote\"></div></a></center></td><td class=\"title\"><a class=\"titlelink\" href=\"https://guzey.com/personal/what-should-you-do-with-your-life/\" rel=\"nofollow\">Cold Emails and Twitter</a><span class=\"sitebit comhead\"> (<a href=\"from?site=guzey.com\"><span class=\"sitestr\">guzey.com</span></a>)</span></td></tr><tr><td colspan=\"2\"></td><td class=\"subtext\">\n",
      "<span class=\"score\" id=\"score_32211063\">5 points</span> by <a class=\"hnuser\" href=\"user?id=herbertl\">herbertl</a> <span class=\"age\" title=\"2022-07-24T06:59:24\"><a href=\"item?id=32211063\">1 hour ago</a></span> <span id=\"unv_32211063\"></span> | <a href=\"hide?id=32211063&amp;goto=news\">hide</a> | <a href=\"item?id=32211063\">discuss</a> </td></tr>\n",
      "<tr class=\"spacer\" style=\"height:5px\"></tr>\n",
      "<tr class=\"athing\" id=\"32205535\">\n",
      "<td align=\"right\" class=\"title\" valign=\"top\"><span class=\"rank\">11.</span></td> <td class=\"votelinks\" valign=\"top\"><center><a href=\"vote?id=32205535&amp;how=up&amp;goto=news\" id=\"up_32205535\"><div class=\"votearrow\" title=\"upvote\"></div></a></center></td><td class=\"title\"><a class=\"titlelink\" href=\"https://queue.acm.org/detail.cfm?id=988407\">Writing your own search engine is hard (2004)</a><span class=\"sitebit comhead\"> (<a href=\"from?site=acm.org\"><span class=\"sitestr\">acm.org</span></a>)</span></td></tr><tr><td colspan=\"2\"></td><td class=\"subtext\">\n",
      "<span class=\"score\" id=\"score_32205535\">140 points</span> by <a class=\"hnuser\" href=\"user?id=georgehill\">georgehill</a> <span class=\"age\" title=\"2022-07-23T17:34:02\"><a href=\"item?id=32205535\">14 hours ago</a></span> <span id=\"unv_32205535\"></span> | <a href=\"hide?id=32205535&amp;goto=news\">hide</a> | <a href=\"item?id=32205535\">57 comments</a> </td></tr>\n",
      "<tr class=\"spacer\" style=\"height:5px\"></tr>\n",
      "<tr class=\"athing\" id=\"32209345\">\n",
      "<td align=\"right\" class=\"title\" valign=\"top\"><span class=\"rank\">12.</span></td> <td class=\"votelinks\" valign=\"top\"><center><a href=\"vote?id=32209345&amp;how=up&amp;goto=news\" id=\"up_32209345\"><div class=\"votearrow\" title=\"upvote\"></div></a></center></td><td class=\"title\"><a class=\"titlelink\" href=\"https://newsbeezer.com/czechrepubliceng/a-chess-robot-in-moscow-has-broken-the-finger-of-its-human-opponent/\">A chess robot in Moscow has broken the finger of its human opponent</a><span class=\"sitebit comhead\"> (<a href=\"from?site=newsbeezer.com\"><span class=\"sitestr\">newsbeezer.com</span></a>)</span></td></tr><tr><td colspan=\"2\"></td><td class=\"subtext\">\n",
      "<span class=\"score\" id=\"score_32209345\">199 points</span> by <a class=\"hnuser\" href=\"user?id=jedberg\">jedberg</a> <span class=\"age\" title=\"2022-07-24T01:31:45\"><a href=\"item?id=32209345\">6 hours ago</a></span> <span id=\"unv_32209345\"></span> | <a href=\"hide?id=32209345&amp;goto=news\">hide</a> | <a href=\"item?id=32209345\">239 comments</a> </td></tr>\n",
      "<tr class=\"spacer\" style=\"height:5px\"></tr>\n",
      "<tr class=\"athing\" id=\"32209192\">\n",
      "<td align=\"right\" class=\"title\" valign=\"top\"><span class=\"rank\">13.</span></td> <td class=\"votelinks\" valign=\"top\"><center><a href=\"vote?id=32209192&amp;how=up&amp;goto=news\" id=\"up_32209192\"><div class=\"votearrow\" title=\"upvote\"></div></a></center></td><td class=\"title\"><a class=\"titlelink\" href=\"https://acko.net/blog/how-to-fold-a-julia-fractal/\">How to fold a Julia fractal (2013)</a><span class=\"sitebit comhead\"> (<a href=\"from?site=acko.net\"><span class=\"sitestr\">acko.net</span></a>)</span></td></tr><tr><td colspan=\"2\"></td><td class=\"subtext\">\n",
      "<span class=\"score\" id=\"score_32209192\">30 points</span> by <a class=\"hnuser\" href=\"user?id=mkl\">mkl</a> <span class=\"age\" title=\"2022-07-24T01:07:53\"><a href=\"item?id=32209192\">6 hours ago</a></span> <span id=\"unv_32209192\"></span> | <a href=\"hide?id=32209192&amp;goto=news\">hide</a> | <a href=\"item?id=32209192\">3 comments</a> </td></tr>\n",
      "<tr class=\"spacer\" style=\"height:5px\"></tr>\n",
      "<tr class=\"athing\" id=\"32207093\">\n",
      "<td align=\"right\" class=\"title\" valign=\"top\"><span class=\"rank\">14.</span></td> <td class=\"votelinks\" valign=\"top\"><center><a href=\"vote?id=32207093&amp;how=up&amp;goto=news\" id=\"up_32207093\"><div class=\"votearrow\" title=\"upvote\"></div></a></center></td><td class=\"title\"><a class=\"titlelink\" href=\"https://ishadeed.com/article/figma-css/\">The CSS Behind Figma</a><span class=\"sitebit comhead\"> (<a href=\"from?site=ishadeed.com\"><span class=\"sitestr\">ishadeed.com</span></a>)</span></td></tr><tr><td colspan=\"2\"></td><td class=\"subtext\">\n",
      "<span class=\"score\" id=\"score_32207093\">106 points</span> by <a class=\"hnuser\" href=\"user?id=WallyFunk\">WallyFunk</a> <span class=\"age\" title=\"2022-07-23T20:05:25\"><a href=\"item?id=32207093\">11 hours ago</a></span> <span id=\"unv_32207093\"></span> | <a href=\"hide?id=32207093&amp;goto=news\">hide</a> | <a href=\"item?id=32207093\">16 comments</a> </td></tr>\n",
      "<tr class=\"spacer\" style=\"height:5px\"></tr>\n",
      "<tr class=\"athing\" id=\"32202861\">\n",
      "<td align=\"right\" class=\"title\" valign=\"top\"><span class=\"rank\">15.</span></td> <td class=\"votelinks\" valign=\"top\"><center><a href=\"vote?id=32202861&amp;how=up&amp;goto=news\" id=\"up_32202861\"><div class=\"votearrow\" title=\"upvote\"></div></a></center></td><td class=\"title\"><a class=\"titlelink\" href=\"https://github.com/redstar/llvm-m88k\">LLVM backend for m88k architecture</a><span class=\"sitebit comhead\"> (<a href=\"from?site=github.com/redstar\"><span class=\"sitestr\">github.com/redstar</span></a>)</span></td></tr><tr><td colspan=\"2\"></td><td class=\"subtext\">\n",
      "<span class=\"score\" id=\"score_32202861\">41 points</span> by <a class=\"hnuser\" href=\"user?id=fcambus\">fcambus</a> <span class=\"age\" title=\"2022-07-23T12:55:50\"><a href=\"item?id=32202861\">9 hours ago</a></span> <span id=\"unv_32202861\"></span> | <a href=\"hide?id=32202861&amp;goto=news\">hide</a> | <a href=\"item?id=32202861\">7 comments</a> </td></tr>\n",
      "<tr class=\"spacer\" style=\"height:5px\"></tr>\n",
      "<tr class=\"athing\" id=\"32208096\">\n",
      "<td align=\"right\" class=\"title\" valign=\"top\"><span class=\"rank\">16.</span></td> <td class=\"votelinks\" valign=\"top\"><center><a href=\"vote?id=32208096&amp;how=up&amp;goto=news\" id=\"up_32208096\"><div class=\"votearrow\" title=\"upvote\"></div></a></center></td><td class=\"title\"><a class=\"titlelink\" href=\"https://9to5mac.com/2022/07/22/twitter-data-breach/\">Twitter data breach exposes contact details for 5.4M accounts; on sale for $30k</a><span class=\"sitebit comhead\"> (<a href=\"from?site=9to5mac.com\"><span class=\"sitestr\">9to5mac.com</span></a>)</span></td></tr><tr><td colspan=\"2\"></td><td class=\"subtext\">\n",
      "<span class=\"score\" id=\"score_32208096\">243 points</span> by <a class=\"hnuser\" href=\"user?id=arkadiyt\">arkadiyt</a> <span class=\"age\" title=\"2022-07-23T22:16:12\"><a href=\"item?id=32208096\">9 hours ago</a></span> <span id=\"unv_32208096\"></span> | <a href=\"hide?id=32208096&amp;goto=news\">hide</a> | <a href=\"item?id=32208096\">76 comments</a> </td></tr>\n",
      "<tr class=\"spacer\" style=\"height:5px\"></tr>\n",
      "<tr class=\"athing\" id=\"32201926\">\n",
      "<td align=\"right\" class=\"title\" valign=\"top\"><span class=\"rank\">17.</span></td> <td class=\"votelinks\" valign=\"top\"><center><a href=\"vote?id=32201926&amp;how=up&amp;goto=news\" id=\"up_32201926\"><div class=\"votearrow\" title=\"upvote\"></div></a></center></td><td class=\"title\"><a class=\"titlelink\" href=\"https://phys.org/news/2022-07-ancient-siberian-dogs-humans-seafood.html\">Ancient Siberian dogs relied on humans for seafood diets</a><span class=\"sitebit comhead\"> (<a href=\"from?site=phys.org\"><span class=\"sitestr\">phys.org</span></a>)</span></td></tr><tr><td colspan=\"2\"></td><td class=\"subtext\">\n",
      "<span class=\"score\" id=\"score_32201926\">34 points</span> by <a class=\"hnuser\" href=\"user?id=rntn\">rntn</a> <span class=\"age\" title=\"2022-07-23T10:05:59\"><a href=\"item?id=32201926\">8 hours ago</a></span> <span id=\"unv_32201926\"></span> | <a href=\"hide?id=32201926&amp;goto=news\">hide</a> | <a href=\"item?id=32201926\">9 comments</a> </td></tr>\n",
      "<tr class=\"spacer\" style=\"height:5px\"></tr>\n",
      "<tr class=\"athing\" id=\"32178099\">\n",
      "<td align=\"right\" class=\"title\" valign=\"top\"><span class=\"rank\">18.</span></td> <td class=\"votelinks\" valign=\"top\"><center><a href=\"vote?id=32178099&amp;how=up&amp;goto=news\" id=\"up_32178099\"><div class=\"votearrow\" title=\"upvote\"></div></a></center></td><td class=\"title\"><a class=\"titlelink\" href=\"https://elisehe.in/2022/07/19/the-fun-in-accessibility\">Where's the fun in accessibility?</a><span class=\"sitebit comhead\"> (<a href=\"from?site=elisehe.in\"><span class=\"sitestr\">elisehe.in</span></a>)</span></td></tr><tr><td colspan=\"2\"></td><td class=\"subtext\">\n",
      "<span class=\"score\" id=\"score_32178099\">24 points</span> by <a class=\"hnuser\" href=\"user?id=elisehein\">elisehein</a> <span class=\"age\" title=\"2022-07-21T11:29:15\"><a href=\"item?id=32178099\">7 hours ago</a></span> <span id=\"unv_32178099\"></span> | <a href=\"hide?id=32178099&amp;goto=news\">hide</a> | <a href=\"item?id=32178099\">9 comments</a> </td></tr>\n",
      "<tr class=\"spacer\" style=\"height:5px\"></tr>\n",
      "<tr class=\"athing\" id=\"32203234\">\n",
      "<td align=\"right\" class=\"title\" valign=\"top\"><span class=\"rank\">19.</span></td> <td class=\"votelinks\" valign=\"top\"><center><a href=\"vote?id=32203234&amp;how=up&amp;goto=news\" id=\"up_32203234\"><div class=\"votearrow\" title=\"upvote\"></div></a></center></td><td class=\"title\"><a class=\"titlelink\" href=\"https://blog.cbs.dk/inframethodology/?p=5386\">Are language models deprived of electric sleep?</a><span class=\"sitebit comhead\"> (<a href=\"from?site=cbs.dk\"><span class=\"sitestr\">cbs.dk</span></a>)</span></td></tr><tr><td colspan=\"2\"></td><td class=\"subtext\">\n",
      "<span class=\"score\" id=\"score_32203234\">74 points</span> by <a class=\"hnuser\" href=\"user?id=rahimnathwani\">rahimnathwani</a> <span class=\"age\" title=\"2022-07-23T13:38:57\"><a href=\"item?id=32203234\">14 hours ago</a></span> <span id=\"unv_32203234\"></span> | <a href=\"hide?id=32203234&amp;goto=news\">hide</a> | <a href=\"item?id=32203234\">81 comments</a> </td></tr>\n",
      "<tr class=\"spacer\" style=\"height:5px\"></tr>\n",
      "<tr class=\"athing\" id=\"32209148\">\n",
      "<td align=\"right\" class=\"title\" valign=\"top\"><span class=\"rank\">20.</span></td> <td></td><td class=\"title\"><a class=\"titlelink\" href=\"https://www.ycombinator.com/companies/ivy/jobs\" rel=\"nofollow\">Ivy (YC W23) is hiring engineers to help unify ML</a><span class=\"sitebit comhead\"> (<a href=\"from?site=ycombinator.com\"><span class=\"sitestr\">ycombinator.com</span></a>)</span></td></tr><tr><td colspan=\"2\"></td><td class=\"subtext\">\n",
      "<span class=\"age\" title=\"2022-07-24T01:00:29\"><a href=\"item?id=32209148\">7 hours ago</a></span> | <a href=\"hide?id=32209148&amp;goto=news\">hide</a> </td></tr>\n",
      "<tr class=\"spacer\" style=\"height:5px\"></tr>\n",
      "<tr class=\"athing\" id=\"32178217\">\n",
      "<td align=\"right\" class=\"title\" valign=\"top\"><span class=\"rank\">21.</span></td> <td class=\"votelinks\" valign=\"top\"><center><a href=\"vote?id=32178217&amp;how=up&amp;goto=news\" id=\"up_32178217\"><div class=\"votearrow\" title=\"upvote\"></div></a></center></td><td class=\"title\"><a class=\"titlelink\" href=\"https://mamoniem.com/behind-the-pretty-frames-resident-evil/\">Behind the pretty frames: Resident evil</a><span class=\"sitebit comhead\"> (<a href=\"from?site=mamoniem.com\"><span class=\"sitestr\">mamoniem.com</span></a>)</span></td></tr><tr><td colspan=\"2\"></td><td class=\"subtext\">\n",
      "<span class=\"score\" id=\"score_32178217\">97 points</span> by <a class=\"hnuser\" href=\"user?id=nbaksalyar\">nbaksalyar</a> <span class=\"age\" title=\"2022-07-21T11:46:07\"><a href=\"item?id=32178217\">14 hours ago</a></span> <span id=\"unv_32178217\"></span> | <a href=\"hide?id=32178217&amp;goto=news\">hide</a> | <a href=\"item?id=32178217\">13 comments</a> </td></tr>\n",
      "<tr class=\"spacer\" style=\"height:5px\"></tr>\n",
      "<tr class=\"athing\" id=\"32201548\">\n",
      "<td align=\"right\" class=\"title\" valign=\"top\"><span class=\"rank\">22.</span></td> <td class=\"votelinks\" valign=\"top\"><center><a href=\"vote?id=32201548&amp;how=up&amp;goto=news\" id=\"up_32201548\"><div class=\"votearrow\" title=\"upvote\"></div></a></center></td><td class=\"title\"><a class=\"titlelink\" href=\"https://dothemath.ucsd.edu/2011/07/galactic-scale-energy/\">Galactic-Scale Energy (2011)</a><span class=\"sitebit comhead\"> (<a href=\"from?site=ucsd.edu\"><span class=\"sitestr\">ucsd.edu</span></a>)</span></td></tr><tr><td colspan=\"2\"></td><td class=\"subtext\">\n",
      "<span class=\"score\" id=\"score_32201548\">65 points</span> by <a class=\"hnuser\" href=\"user?id=grey_earthling\">grey_earthling</a> <span class=\"age\" title=\"2022-07-23T08:46:54\"><a href=\"item?id=32201548\">13 hours ago</a></span> <span id=\"unv_32201548\"></span> | <a href=\"hide?id=32201548&amp;goto=news\">hide</a> | <a href=\"item?id=32201548\">46 comments</a> </td></tr>\n",
      "<tr class=\"spacer\" style=\"height:5px\"></tr>\n",
      "<tr class=\"athing\" id=\"32193220\">\n",
      "<td align=\"right\" class=\"title\" valign=\"top\"><span class=\"rank\">23.</span></td> <td class=\"votelinks\" valign=\"top\"><center><a href=\"vote?id=32193220&amp;how=up&amp;goto=news\" id=\"up_32193220\"><div class=\"votearrow\" title=\"upvote\"></div></a></center></td><td class=\"title\"><a class=\"titlelink\" href=\"https://next.redhat.com/2022/07/13/the-uor-framework/\">The UOR-Universal Object Reference Framework</a><span class=\"sitebit comhead\"> (<a href=\"from?site=redhat.com\"><span class=\"sitestr\">redhat.com</span></a>)</span></td></tr><tr><td colspan=\"2\"></td><td class=\"subtext\">\n",
      "<span class=\"score\" id=\"score_32193220\">26 points</span> by <a class=\"hnuser\" href=\"user?id=kiyanwang\">kiyanwang</a> <span class=\"age\" title=\"2022-07-22T15:44:52\"><a href=\"item?id=32193220\">8 hours ago</a></span> <span id=\"unv_32193220\"></span> | <a href=\"hide?id=32193220&amp;goto=news\">hide</a> | <a href=\"item?id=32193220\">8 comments</a> </td></tr>\n",
      "<tr class=\"spacer\" style=\"height:5px\"></tr>\n",
      "<tr class=\"athing\" id=\"32204938\">\n",
      "<td align=\"right\" class=\"title\" valign=\"top\"><span class=\"rank\">24.</span></td> <td class=\"votelinks\" valign=\"top\"><center><a href=\"vote?id=32204938&amp;how=up&amp;goto=news\" id=\"up_32204938\"><div class=\"votearrow\" title=\"upvote\"></div></a></center></td><td class=\"title\"><a class=\"titlelink\" href=\"https://www.famnom.com\">Show HN: Famnom – Nutrition tracker and meal planner for families</a><span class=\"sitebit comhead\"> (<a href=\"from?site=famnom.com\"><span class=\"sitestr\">famnom.com</span></a>)</span></td></tr><tr><td colspan=\"2\"></td><td class=\"subtext\">\n",
      "<span class=\"score\" id=\"score_32204938\">62 points</span> by <a class=\"hnuser\" href=\"user?id=umangsh\">umangsh</a> <span class=\"age\" title=\"2022-07-23T16:40:21\"><a href=\"item?id=32204938\">15 hours ago</a></span> <span id=\"unv_32204938\"></span> | <a href=\"hide?id=32204938&amp;goto=news\">hide</a> | <a href=\"item?id=32204938\">50 comments</a> </td></tr>\n",
      "<tr class=\"spacer\" style=\"height:5px\"></tr>\n",
      "<tr class=\"athing\" id=\"32201951\">\n",
      "<td align=\"right\" class=\"title\" valign=\"top\"><span class=\"rank\">25.</span></td> <td class=\"votelinks\" valign=\"top\"><center><a href=\"vote?id=32201951&amp;how=up&amp;goto=news\" id=\"up_32201951\"><div class=\"votearrow\" title=\"upvote\"></div></a></center></td><td class=\"title\"><a class=\"titlelink\" href=\"https://thephd.dev/finally-embed-in-c23\">Embed is in C23</a><span class=\"sitebit comhead\"> (<a href=\"from?site=thephd.dev\"><span class=\"sitestr\">thephd.dev</span></a>)</span></td></tr><tr><td colspan=\"2\"></td><td class=\"subtext\">\n",
      "<span class=\"score\" id=\"score_32201951\">428 points</span> by <a class=\"hnuser\" href=\"user?id=aw1621107\">aw1621107</a> <span class=\"age\" title=\"2022-07-23T10:09:44\"><a href=\"item?id=32201951\">21 hours ago</a></span> <span id=\"unv_32201951\"></span> | <a href=\"hide?id=32201951&amp;goto=news\">hide</a> | <a href=\"item?id=32201951\">294 comments</a> </td></tr>\n",
      "<tr class=\"spacer\" style=\"height:5px\"></tr>\n",
      "<tr class=\"athing\" id=\"32209794\">\n",
      "<td align=\"right\" class=\"title\" valign=\"top\"><span class=\"rank\">26.</span></td> <td class=\"votelinks\" valign=\"top\"><center><a href=\"vote?id=32209794&amp;how=up&amp;goto=news\" id=\"up_32209794\"><div class=\"votearrow\" title=\"upvote\"></div></a></center></td><td class=\"title\"><a class=\"titlelink\" href=\"https://typst.app/\">Typst: Compose Papers Faster</a><span class=\"sitebit comhead\"> (<a href=\"from?site=typst.app\"><span class=\"sitestr\">typst.app</span></a>)</span></td></tr><tr><td colspan=\"2\"></td><td class=\"subtext\">\n",
      "<span class=\"score\" id=\"score_32209794\">10 points</span> by <a class=\"hnuser\" href=\"user?id=ZeroCool2u\">ZeroCool2u</a> <span class=\"age\" title=\"2022-07-24T02:43:12\"><a href=\"item?id=32209794\">5 hours ago</a></span> <span id=\"unv_32209794\"></span> | <a href=\"hide?id=32209794&amp;goto=news\">hide</a> | <a href=\"item?id=32209794\">1 comment</a> </td></tr>\n",
      "<tr class=\"spacer\" style=\"height:5px\"></tr>\n",
      "<tr class=\"athing\" id=\"32201349\">\n",
      "<td align=\"right\" class=\"title\" valign=\"top\"><span class=\"rank\">27.</span></td> <td class=\"votelinks\" valign=\"top\"><center><a href=\"vote?id=32201349&amp;how=up&amp;goto=news\" id=\"up_32201349\"><div class=\"votearrow\" title=\"upvote\"></div></a></center></td><td class=\"title\"><a class=\"titlelink\" href=\"https://web.archive.org/web/20220408185159/https://corpgov.law.harvard.edu/wp-content/uploads/2019/11/John-Coates.pdf\">The Future of Corporate Governance Part I: The Problem of Twelve (2018) [pdf]</a><span class=\"sitebit comhead\"> (<a href=\"from?site=archive.org\"><span class=\"sitestr\">archive.org</span></a>)</span></td></tr><tr><td colspan=\"2\"></td><td class=\"subtext\">\n",
      "<span class=\"score\" id=\"score_32201349\">12 points</span> by <a class=\"hnuser\" href=\"user?id=Tomte\">Tomte</a> <span class=\"age\" title=\"2022-07-23T08:02:46\"><a href=\"item?id=32201349\">4 hours ago</a></span> <span id=\"unv_32201349\"></span> | <a href=\"hide?id=32201349&amp;goto=news\">hide</a> | <a href=\"item?id=32201349\">2 comments</a> </td></tr>\n",
      "<tr class=\"spacer\" style=\"height:5px\"></tr>\n",
      "<tr class=\"athing\" id=\"32195352\">\n",
      "<td align=\"right\" class=\"title\" valign=\"top\"><span class=\"rank\">28.</span></td> <td class=\"votelinks\" valign=\"top\"><center><a href=\"vote?id=32195352&amp;how=up&amp;goto=news\" id=\"up_32195352\"><div class=\"votearrow\" title=\"upvote\"></div></a></center></td><td class=\"title\"><a class=\"titlelink\" href=\"https://punchdrink.com/articles/worlds-fairs-cocktail-history/\">World’s fairs acted as showcases for American cocktail ingenuity</a><span class=\"sitebit comhead\"> (<a href=\"from?site=punchdrink.com\"><span class=\"sitestr\">punchdrink.com</span></a>)</span></td></tr><tr><td colspan=\"2\"></td><td class=\"subtext\">\n",
      "<span class=\"score\" id=\"score_32195352\">49 points</span> by <a class=\"hnuser\" href=\"user?id=samclemens\">samclemens</a> <span class=\"age\" title=\"2022-07-22T18:20:32\"><a href=\"item?id=32195352\">12 hours ago</a></span> <span id=\"unv_32195352\"></span> | <a href=\"hide?id=32195352&amp;goto=news\">hide</a> | <a href=\"item?id=32195352\">2 comments</a> </td></tr>\n",
      "<tr class=\"spacer\" style=\"height:5px\"></tr>\n",
      "<tr class=\"athing\" id=\"32204408\">\n",
      "<td align=\"right\" class=\"title\" valign=\"top\"><span class=\"rank\">29.</span></td> <td class=\"votelinks\" valign=\"top\"><center><a href=\"vote?id=32204408&amp;how=up&amp;goto=news\" id=\"up_32204408\"><div class=\"votearrow\" title=\"upvote\"></div></a></center></td><td class=\"title\"><a class=\"titlelink\" href=\"https://github.com/GetPublii/Publii\">Publii: Open-source local WYSIWYG static site CMS</a><span class=\"sitebit comhead\"> (<a href=\"from?site=github.com/getpublii\"><span class=\"sitestr\">github.com/getpublii</span></a>)</span></td></tr><tr><td colspan=\"2\"></td><td class=\"subtext\">\n",
      "<span class=\"score\" id=\"score_32204408\">237 points</span> by <a class=\"hnuser\" href=\"user?id=api\">api</a> <span class=\"age\" title=\"2022-07-23T15:48:33\"><a href=\"item?id=32204408\">16 hours ago</a></span> <span id=\"unv_32204408\"></span> | <a href=\"hide?id=32204408&amp;goto=news\">hide</a> | <a href=\"item?id=32204408\">64 comments</a> </td></tr>\n",
      "<tr class=\"spacer\" style=\"height:5px\"></tr>\n",
      "<tr class=\"athing\" id=\"32204595\">\n",
      "<td align=\"right\" class=\"title\" valign=\"top\"><span class=\"rank\">30.</span></td> <td class=\"votelinks\" valign=\"top\"><center><a href=\"vote?id=32204595&amp;how=up&amp;goto=news\" id=\"up_32204595\"><div class=\"votearrow\" title=\"upvote\"></div></a></center></td><td class=\"title\"><a class=\"titlelink\" href=\"https://newrepublic.com/article/167099/growing-frank-ohara-ada-calhoun-book-review\" rel=\"nofollow\">Growing Up with Frank O’Hara</a><span class=\"sitebit comhead\"> (<a href=\"from?site=newrepublic.com\"><span class=\"sitestr\">newrepublic.com</span></a>)</span></td></tr><tr><td colspan=\"2\"></td><td class=\"subtext\">\n",
      "<span class=\"score\" id=\"score_32204595\">5 points</span> by <a class=\"hnuser\" href=\"user?id=apollinaire\">apollinaire</a> <span class=\"age\" title=\"2022-07-23T16:07:18\"><a href=\"item?id=32204595\">3 hours ago</a></span> <span id=\"unv_32204595\"></span> | <a href=\"hide?id=32204595&amp;goto=news\">hide</a> | <a href=\"item?id=32204595\">discuss</a> </td></tr>\n",
      "<tr class=\"spacer\" style=\"height:5px\"></tr>\n",
      "<tr class=\"morespace\" style=\"height:10px\"></tr><tr><td colspan=\"2\"></td>\n",
      "<td class=\"title\"><a class=\"morelink\" href=\"news?p=2\" rel=\"next\">More</a></td> </tr>\n",
      "</table>\n",
      "</td></tr>\n",
      "<tr><td><img height=\"10\" src=\"s.gif\" width=\"0\"/><table cellpadding=\"1\" cellspacing=\"0\" width=\"100%\"><tr><td bgcolor=\"#ff6600\"></td></tr></table><br/><center><span class=\"yclinks\"><a href=\"newsguidelines.html\">Guidelines</a>\n",
      "        | <a href=\"newsfaq.html\">FAQ</a>\n",
      "        | <a href=\"lists\">Lists</a>\n",
      "        | <a href=\"https://github.com/HackerNews/API\">API</a>\n",
      "        | <a href=\"security.html\">Security</a>\n",
      "        | <a href=\"http://www.ycombinator.com/legal/\">Legal</a>\n",
      "        | <a href=\"http://www.ycombinator.com/apply/\">Apply to YC</a>\n",
      "        | <a href=\"mailto:hn@ycombinator.com\">Contact</a></span><br/><br/><form action=\"//hn.algolia.com/\" method=\"get\">Search:\n",
      "          <input autocapitalize=\"off\" autocomplete=\"false\" autocorrect=\"off\" name=\"q\" size=\"17\" spellcheck=\"false\" type=\"text\" value=\"\"/></form>\n",
      "</center></td></tr>\n",
      "</table></center></body>\n",
      "<script src=\"hn.js?hkwvlixxTJxfjhlDsBv9\" type=\"text/javascript\"></script>\n",
      "</html>\n",
      "\n"
     ]
    }
   ],
   "source": [
    "print(type(soup))\n",
    "print(soup)"
   ]
  },
  {
   "cell_type": "code",
   "execution_count": 4,
   "metadata": {},
   "outputs": [
    {
     "name": "stdout",
     "output_type": "stream",
     "text": [
      "<class 'bs4.element.ResultSet'>\n",
      "[<a class=\"titlelink\" href=\"https://www.nongnu.org/lzip/xz_inadequate.html\">Xz format considered inadequate for long-term archiving (2016)</a>, <a class=\"titlelink\" href=\"http://www.paulbourke.net/fractals/burnship/\">\"Burning Ship\" fractal</a>, <a class=\"titlelink\" href=\"https://www.growthbusiness.co.uk/more-invested-in-nuclear-fusion-in-last-12-months-than-past-decade-2560528/\">More invested in nuclear fusion in last 12 months than past decade</a>, <a class=\"titlelink\" href=\"https://www.axios.com/2022/07/22/ford-lithium-iron-phosphate-batteries\">Ford's answer to EV supply chain hell: Cheaper batteries</a>, <a class=\"titlelink\" href=\"https://wikenigma.org.uk/\">Wikenigma is an encyclopedia for topics with unknown answers</a>, <a class=\"titlelink\" href=\"https://twitter.com/fchollet/status/1550930876183166976\">Amazon sales of “Deep Learning with Python” are counterfeit</a>, <a class=\"titlelink\" href=\"https://mort.coffee/home/tar/\">The tar archive format, and why GNU tar extracts in quadratic time</a>, <a class=\"titlelink\" href=\"http://backreaction.blogspot.com/2022/07/does-past-still-exist.html\">Does the Past Still Exist?</a>, <a class=\"titlelink\" href=\"https://github.com/nedlir/OfficerBreaker\">OfficerBreaker – pptx/docx/xlsx password remover</a>, <a class=\"titlelink\" href=\"https://guzey.com/personal/what-should-you-do-with-your-life/\" rel=\"nofollow\">Cold Emails and Twitter</a>, <a class=\"titlelink\" href=\"https://queue.acm.org/detail.cfm?id=988407\">Writing your own search engine is hard (2004)</a>, <a class=\"titlelink\" href=\"https://newsbeezer.com/czechrepubliceng/a-chess-robot-in-moscow-has-broken-the-finger-of-its-human-opponent/\">A chess robot in Moscow has broken the finger of its human opponent</a>, <a class=\"titlelink\" href=\"https://acko.net/blog/how-to-fold-a-julia-fractal/\">How to fold a Julia fractal (2013)</a>, <a class=\"titlelink\" href=\"https://ishadeed.com/article/figma-css/\">The CSS Behind Figma</a>, <a class=\"titlelink\" href=\"https://github.com/redstar/llvm-m88k\">LLVM backend for m88k architecture</a>, <a class=\"titlelink\" href=\"https://9to5mac.com/2022/07/22/twitter-data-breach/\">Twitter data breach exposes contact details for 5.4M accounts; on sale for $30k</a>, <a class=\"titlelink\" href=\"https://phys.org/news/2022-07-ancient-siberian-dogs-humans-seafood.html\">Ancient Siberian dogs relied on humans for seafood diets</a>, <a class=\"titlelink\" href=\"https://elisehe.in/2022/07/19/the-fun-in-accessibility\">Where's the fun in accessibility?</a>, <a class=\"titlelink\" href=\"https://blog.cbs.dk/inframethodology/?p=5386\">Are language models deprived of electric sleep?</a>, <a class=\"titlelink\" href=\"https://www.ycombinator.com/companies/ivy/jobs\" rel=\"nofollow\">Ivy (YC W23) is hiring engineers to help unify ML</a>, <a class=\"titlelink\" href=\"https://mamoniem.com/behind-the-pretty-frames-resident-evil/\">Behind the pretty frames: Resident evil</a>, <a class=\"titlelink\" href=\"https://dothemath.ucsd.edu/2011/07/galactic-scale-energy/\">Galactic-Scale Energy (2011)</a>, <a class=\"titlelink\" href=\"https://next.redhat.com/2022/07/13/the-uor-framework/\">The UOR-Universal Object Reference Framework</a>, <a class=\"titlelink\" href=\"https://www.famnom.com\">Show HN: Famnom – Nutrition tracker and meal planner for families</a>, <a class=\"titlelink\" href=\"https://thephd.dev/finally-embed-in-c23\">Embed is in C23</a>, <a class=\"titlelink\" href=\"https://typst.app/\">Typst: Compose Papers Faster</a>, <a class=\"titlelink\" href=\"https://web.archive.org/web/20220408185159/https://corpgov.law.harvard.edu/wp-content/uploads/2019/11/John-Coates.pdf\">The Future of Corporate Governance Part I: The Problem of Twelve (2018) [pdf]</a>, <a class=\"titlelink\" href=\"https://punchdrink.com/articles/worlds-fairs-cocktail-history/\">World’s fairs acted as showcases for American cocktail ingenuity</a>, <a class=\"titlelink\" href=\"https://github.com/GetPublii/Publii\">Publii: Open-source local WYSIWYG static site CMS</a>, <a class=\"titlelink\" href=\"https://newrepublic.com/article/167099/growing-frank-ohara-ada-calhoun-book-review\" rel=\"nofollow\">Growing Up with Frank O’Hara</a>]\n"
     ]
    }
   ],
   "source": [
    "print(type(soup.find_all('a', href=True)))\n",
    "print(soup.find_all('a', href=True, class_='titlelink'))"
   ]
  },
  {
   "cell_type": "code",
   "execution_count": 5,
   "metadata": {},
   "outputs": [
    {
     "name": "stdout",
     "output_type": "stream",
     "text": [
      "Xz format considered inadequate for long-term archiving (2016)\n",
      "\"Burning Ship\" fractal\n",
      "More invested in nuclear fusion in last 12 months than past decade\n",
      "Ford's answer to EV supply chain hell: Cheaper batteries\n",
      "Wikenigma is an encyclopedia for topics with unknown answers\n",
      "Amazon sales of “Deep Learning with Python” are counterfeit\n",
      "The tar archive format, and why GNU tar extracts in quadratic time\n",
      "Does the Past Still Exist?\n",
      "OfficerBreaker – pptx/docx/xlsx password remover\n",
      "Cold Emails and Twitter\n",
      "Writing your own search engine is hard (2004)\n",
      "A chess robot in Moscow has broken the finger of its human opponent\n",
      "How to fold a Julia fractal (2013)\n",
      "The CSS Behind Figma\n",
      "LLVM backend for m88k architecture\n",
      "Twitter data breach exposes contact details for 5.4M accounts; on sale for $30k\n",
      "Ancient Siberian dogs relied on humans for seafood diets\n",
      "Where's the fun in accessibility?\n",
      "Are language models deprived of electric sleep?\n",
      "Ivy (YC W23) is hiring engineers to help unify ML\n",
      "Behind the pretty frames: Resident evil\n",
      "Galactic-Scale Energy (2011)\n",
      "The UOR-Universal Object Reference Framework\n",
      "Show HN: Famnom – Nutrition tracker and meal planner for families\n",
      "Embed is in C23\n",
      "Typst: Compose Papers Faster\n",
      "The Future of Corporate Governance Part I: The Problem of Twelve (2018) [pdf]\n",
      "World’s fairs acted as showcases for American cocktail ingenuity\n",
      "Publii: Open-source local WYSIWYG static site CMS\n",
      "Growing Up with Frank O’Hara\n"
     ]
    }
   ],
   "source": [
    "title_link_li = soup.find_all('a', href=True, class_='titlelink')\n",
    "\n",
    "for i in range(len(title_link_li)):\n",
    "    print(title_link_li[i].text)"
   ]
  },
  {
   "cell_type": "code",
   "execution_count": null,
   "metadata": {},
   "outputs": [],
   "source": []
  }
 ],
 "metadata": {
  "colab": {
   "authorship_tag": "ABX9TyPt+rpyqAotmmkf/Nu7/DbQ",
   "collapsed_sections": [],
   "name": "Day6_hw.ipynb",
   "provenance": []
  },
  "kernelspec": {
   "display_name": "Python 3",
   "language": "python",
   "name": "python3"
  },
  "language_info": {
   "codemirror_mode": {
    "name": "ipython",
    "version": 3
   },
   "file_extension": ".py",
   "mimetype": "text/x-python",
   "name": "python",
   "nbconvert_exporter": "python",
   "pygments_lexer": "ipython3",
   "version": "3.7.7"
  }
 },
 "nbformat": 4,
 "nbformat_minor": 1
}
