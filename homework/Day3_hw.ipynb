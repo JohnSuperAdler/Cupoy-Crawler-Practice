{
 "cells": [
  {
   "cell_type": "markdown",
   "metadata": {
    "id": "RmEW9BEct8Fk"
   },
   "source": [
    "## 作業說明\n",
    "\n",
    "今天我們介紹了多種常見的資料儲存格式：CSV, TSV, JSON, HTML, XML, TXT\n",
    "\n",
    "請學員回答以下網址連結到的資料：\n",
    "- 他們的格式分別是？\n",
    "- 你是如何判斷格式的 （＊請寫出至少一個**檔名以外的理由**）\n",
    "\n",
    "  1. https://raw.githubusercontent.com/jpakkane/glib/966db8efc6303fafbf7265e0adc12aab4e55fcd8/docs/reference/gio/gio-docs.xml\n",
    "\n",
    "  2. https://raw.githubusercontent.com/hpcc-systems/EDGAR-SEC-Filings/1727820ffa2216ed2447bb6a265a54ef6503f001/Data/labelguide_all_10k.csv\n",
    "\n",
    "  3. https://raw.githubusercontent.com/Foglio1024/Tera-custom-cooldowns/12d3b15d813d415185c6c718bb0ff43bc2285485/database-hashes.json\n",
    "\n",
    "  4. https://raw.githubusercontent.com/rbroc/diversity_abm/4de1922101dd2320b5c085577c8cc2622781ae14/animal_game/models/21_08_20/sampled_pairs.tsv\n",
    "\n",
    "  5. https://raw.githubusercontent.com/njm2015/vested/1244e9ce02298ab954d0f1011ff0bd3952b8b4d1/OpenLayers/tests/list-tests.html\n",
    "  "
   ]
  },
  {
   "cell_type": "markdown",
   "metadata": {
    "id": "jD3-yxQ4uAaL"
   },
   "source": [
    "## Q1\n",
    "\n",
    "1. xml\n",
    "2. csv\n",
    "3. json\n",
    "4. tsv\n",
    "5. html"
   ]
  },
  {
   "cell_type": "markdown",
   "metadata": {},
   "source": [
    "## Q2\n",
    "\n",
    "- 可以從開頭的宣告文字確認，像xml開頭就有類似‵ xml version=\"1.0\" ‵的字樣，雖然類似html，但有xl:一類html不會見到的格式。\n",
    "- csv和tsv不會有任何表頭而且格式單純明顯。\n",
    "- json有特定的key: value格式"
   ]
  },
  {
   "cell_type": "code",
   "execution_count": null,
   "metadata": {},
   "outputs": [],
   "source": []
  }
 ],
 "metadata": {
  "colab": {
   "authorship_tag": "ABX9TyOu6ydmoHk8InoEDzFcbfMH",
   "collapsed_sections": [],
   "name": "Day3_hw.ipynb",
   "provenance": []
  },
  "kernelspec": {
   "display_name": "Python 3",
   "language": "python",
   "name": "python3"
  },
  "language_info": {
   "codemirror_mode": {
    "name": "ipython",
    "version": 3
   },
   "file_extension": ".py",
   "mimetype": "text/x-python",
   "name": "python",
   "nbconvert_exporter": "python",
   "pygments_lexer": "ipython3",
   "version": "3.7.7"
  }
 },
 "nbformat": 4,
 "nbformat_minor": 1
}
