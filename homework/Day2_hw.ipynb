{
 "cells": [
  {
   "cell_type": "markdown",
   "metadata": {
    "id": "RmEW9BEct8Fk"
   },
   "source": [
    "## 作業說明\n",
    "\n",
    "今天我們介紹了 Open Data 開放資料，也列舉了一些國內常見的公開資料平台。\n",
    "\n",
    "本日的作業請學員找出一種網路上公開、我們沒介紹到的 Open Data，以下方的格式來認識這份資料：\n",
    "\n",
    "- Open Data API 或平台名稱\n",
    "- 資料網址來源\n",
    "- 資料架構\n",
    "- 資料的取得方式\n",
    "- 是否有多張表格、他們之間的脈絡和關係是？（至少列舉一種）"
   ]
  },
  {
   "cell_type": "markdown",
   "metadata": {
    "id": "LNdVdb19zxgh"
   },
   "source": [
    "### 作業回答區"
   ]
  },
  {
   "cell_type": "markdown",
   "metadata": {
    "id": "nMrCfn64z2DA"
   },
   "source": [
    "- Open Data API 或平台名稱\n",
    "\n",
    "  VGMdb API\n",
    "\n",
    "\n",
    "- 資料網址來源\n",
    "\n",
    "  https://vgmdb.info/\n",
    "\n",
    "\n",
    "- 資料架構\n",
    "\n",
    "  JSON、html、rdf、turtle等\n",
    "\n",
    "\n",
    "- 資料的取得方式\n",
    "\n",
    "  API、檔案下載\n",
    "\n",
    "\n",
    "- 是否有多張表格、他們之間的脈絡和關係是？（至少列舉一種）\n",
    "\n",
    "  https://vgmdb.info/album/25954?format=json\n",
    "  \n",
    "  記載了音樂專輯「Michi no Hana, Michi no Tabi -ZUN's Music Collection vol.5.5-」的各種資訊（演出者、曲目名稱）\n",
    "  \n",
    "  而另一筆資料\n",
    "  \n",
    "  https://vgmdb.info/artist/1?format=json\n",
    "  \n",
    "  的表格記載了作曲家「ZUN」的各種資訊（出過的專輯等）\n",
    "  \n",
    "  作曲家ZUN製作了專輯Michi no Hana, Michi no Tabi -ZUN's Music Collection vol.5.5-"
   ]
  },
  {
   "cell_type": "code",
   "execution_count": null,
   "metadata": {},
   "outputs": [],
   "source": []
  }
 ],
 "metadata": {
  "colab": {
   "collapsed_sections": [],
   "name": "Day2_hw.ipynb",
   "provenance": []
  },
  "kernelspec": {
   "display_name": "Python 3",
   "language": "python",
   "name": "python3"
  },
  "language_info": {
   "codemirror_mode": {
    "name": "ipython",
    "version": 3
   },
   "file_extension": ".py",
   "mimetype": "text/x-python",
   "name": "python",
   "nbconvert_exporter": "python",
   "pygments_lexer": "ipython3",
   "version": "3.7.7"
  }
 },
 "nbformat": 4,
 "nbformat_minor": 1
}
