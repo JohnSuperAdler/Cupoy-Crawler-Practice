{
 "cells": [
  {
   "cell_type": "markdown",
   "metadata": {
    "id": "fum1PgnN5JA4"
   },
   "source": [
    "# 其他工具：Grab、PyQuery\n",
    "\n",
    "\n",
    "* 利用 Grab 套件的存取 HTML 資源\n",
    "* 利用 PyQuery 套件的解析 HTML 格式\n"
   ]
  },
  {
   "cell_type": "markdown",
   "metadata": {
    "id": "Llz1amU75JA5"
   },
   "source": [
    "## 作業目標\n",
    "\n",
    "將之前用 requests + beatifulsoup 實作的方式，改寫成 grab + pyquery，並且比較有哪些地方不同。\n",
    "\n",
    "\n",
    "\n"
   ]
  },
  {
   "cell_type": "markdown",
   "metadata": {
    "id": "s2Dipmjj5JA6"
   },
   "source": [
    "## requests + BeautifulSoup\n"
   ]
  },
  {
   "cell_type": "code",
   "execution_count": null,
   "metadata": {
    "id": "m_jH2zjF5JA7",
    "outputId": "d1598dc8-5a28-4498-e2d3-d4119e54f7ec"
   },
   "outputs": [],
   "source": [
    "from bs4 import BeautifulSoup\n",
    "import requests"
   ]
  },
  {
   "cell_type": "code",
   "execution_count": 2,
   "metadata": {
    "id": "m_jH2zjF5JA7",
    "outputId": "d1598dc8-5a28-4498-e2d3-d4119e54f7ec"
   },
   "outputs": [
    {
     "name": "stdout",
     "output_type": "stream",
     "text": [
      "Status code: 200\n",
      "\n",
      "Main text:\n",
      "<!DOCTYPE html>\n",
      "<html lang=\"en\">\n",
      "<head>\n",
      "<meta charset=\"utf-8\">\n",
      "<title>Pokémon Pokédex: list of Pokémon with stats | Pokémon Database</title>\n",
      "<link rel=\"preconnect\" href=\"https://img.pokemondb.net\">\n",
      "<style>@font-face{font-family:\"Fira Sans\";font-style:normal;font-weight:400;font-display:swap;src:url(\"/static/fonts/fira-sans-v10-latin-400.woff2\") format(\"woff2\");unicode-range:U+0000-00FF,U+0131,U+0152-0153,U+02BB-02BC,U+02C6,U+02DA,U+02DC,U+2000-206F,U+2074,U+20AC,U+2122,U+2191,U+2193,U+2212,U+2215,U+FEFF,U+FFFD}@font-face{font-family:\"Fira Sans\";font-style:italic;font-weight:400;font-display:swap;src:url(\"/static/fonts/fira-sans-v10-latin-400i.woff2\") format(\"woff2\");unicode-range:U+0000-00FF,U+0131,U+0152-0153,U+02BB-02BC,U+02C6,U+02DA,U+02DC,U+2000-206F,U+2074,U+20AC,U+2122,U+2191,U+2193,U+2212,U+2215,U+FEFF,U+FFFD}@font-face{font-family:\"Fira Sans\";font-style:normal;font-weight:700;font-display:swap;src:url(\"/static/fonts/fira-sans-v10-latin-600.woff2\") format(\"woff2\");unicode-range:U+0000-00FF,U+0131,U+0152-0153,U+02BB-02BC,U+02C6,U+02DA,U+02DC,U+2000-206F,U+2074,U+20AC,U+2122,U+2191,U+2193,U+2212,U+2215,U+FEFF,U+FFFD}@font-face{font-family:\"Fira Sans\";font-style:italic;font-weight:700;font-display:swap;src:url(\"/static/fonts/fira-sans-v10-latin-600i.woff2\") format(\"woff2\");unicode-range:U+0000-00FF,U+0131,U+0152-0153,U+02BB-02BC,U+02C6,U+02DA,U+02DC,U+2000-206F,U+2074,U+20AC,U+2122,U+2191,U+2193,U+2212,U+2215,U+FEFF,U+FFFD}</style>\n",
      "<link rel=\"stylesheet\" href=\"/static/css/pokemondb-ba9dd1500d.css\">\n",
      "<meta name=\"viewport\" content=\"width=device-width, initial-scale=1\">\n",
      "<meta property=\"og:description\" name=\"description\" content=\"The Pokédex contains detailed stats for every creature from the Pokémon games, up to and including the latest Sword/Shield/Brilliant Diamond/Shining Pearl/Legends: Arceus games.\">\n",
      "<link rel=\"canonical\" href=\"https://pokemondb.net/pokedex/all\">\n",
      "<meta property=\"og:url\" content=\"https://pokemondb.net/pokedex/all\">\n",
      "<meta name=\"twitter:card\" cont\n"
     ]
    }
   ],
   "source": [
    "url = 'https://pokemondb.net/pokedex/all'\n",
    "req_text = requests.get(url)\n",
    "print(f'Status code: {req_text.status_code}\\n\\nMain text:\\n{req_text.text[:2000]}')"
   ]
  },
  {
   "cell_type": "code",
   "execution_count": 12,
   "metadata": {},
   "outputs": [
    {
     "name": "stdout",
     "output_type": "stream",
     "text": [
      "Title:\n",
      "<title>Pokémon Pokédex: list of Pokémon with stats | Pokémon Database</title>\n"
     ]
    }
   ],
   "source": [
    "soup = BeautifulSoup(req_text.text, 'html.parser')\n",
    "print(f'Title:\\n{soup.title}')"
   ]
  },
  {
   "cell_type": "markdown",
   "metadata": {
    "id": "99QvxJbZ5JA8"
   },
   "source": [
    "## Grab + PyQuery"
   ]
  },
  {
   "cell_type": "code",
   "execution_count": 3,
   "metadata": {
    "id": "eptiCsNC5kz3"
   },
   "outputs": [],
   "source": [
    "# install packages\n",
    "\n",
    "from grab import Grab\n",
    "from pyquery import PyQuery as pq"
   ]
  },
  {
   "cell_type": "code",
   "execution_count": 11,
   "metadata": {
    "id": "0w1QYM-u5JA9",
    "outputId": "37aed5c8-b8d4-4514-df26-0ee1c7306ffa",
    "scrolled": false
   },
   "outputs": [
    {
     "name": "stdout",
     "output_type": "stream",
     "text": [
      "nMain text:\n",
      "<!DOCTYPE html>\n",
      "<html lang=\"en\">\n",
      "<head>\n",
      "<meta charset=\"utf-8\">\n",
      "<title>Pokémon Pokédex: list of Pokémon with stats | Pokémon Database</title>\n",
      "<link rel=\"preconnect\" href=\"https://img.pokemondb.net\">\n",
      "<style>@font-face{font-family:\"Fira Sans\";font-style:normal;font-weight:400;font-display:swap;src:url(\"/static/fonts/fira-sans-v10-latin-400.woff2\") format(\"woff2\");unicode-range:U+0000-00FF,U+0131,U+0152-0153,U+02BB-02BC,U+02C6,U+02DA,U+02DC,U+2000-206F,U+2074,U+20AC,U+2122,U+2191,U+2193,U+2212,U+2215,U+FEFF,U+FFFD}@font-face{font-family:\"Fira Sans\";font-style:italic;font-weight:400;font-display:swap;src:url(\"/static/fonts/fira-sans-v10-latin-400i.woff2\") format(\"woff2\");unicode-range:U+0000-00FF,U+0131,U+0152-0153,U+02BB-02BC,U+02C6,U+02DA,U+02DC,U+2000-206F,U+2074,U+20AC,U+2122,U+2191,U+2193,U+2212,U+2215,U+FEFF,U+FFFD}@font-face{font-family:\"Fira Sans\";font-style:normal;font-weight:700;font-display:swap;src:url(\"/static/fonts/fira-sans-v10-latin-600.woff2\") format(\"woff2\");unicode-range:U+0000-00FF,U+0131,U+0152-0153,U+02BB-02BC,U+02C6,U+02DA,U+02DC,U+2000-206F,U+2074,U+20AC,U+2122,U+2191,U+2193,U+2212,U+2215,U+FEFF,U+FFFD}@font-face{font-family:\"Fira Sans\";font-style:italic;font-weight:700;font-display:swap;src:url(\"/static/fonts/fira-sans-v10-latin-600i.woff2\") format(\"woff2\");unicode-range:U+0000-00FF,U+0131,U+0152-0153,U+02BB-02BC,U+02C6,U+02DA,U+02DC,U+2000-206F,U+2074,U+20AC,U+2122,U+2191,U+2193,U+2212,U+2215,U+FEFF,U+FFFD}</style>\n",
      "<link rel=\"stylesheet\" href=\"/static/css/pokemondb-ba9dd1500d.css\">\n",
      "<meta name=\"viewport\" content=\"width=device-width, initial-scale=1\">\n",
      "<meta property=\"og:description\" name=\"description\" content=\"The Pokédex contains detailed stats for every creature from the Pokémon games, up to and including the latest Sword/Shield/Brilliant Diamond/Shining Pearl/Legends: Arceus games.\">\n",
      "<link rel=\"canonical\" href=\"https://pokemondb.net/pokedex/all\">\n",
      "<meta property=\"og:url\" content=\"https://pokemondb.net/pokedex/all\">\n",
      "<meta name=\"twitter:card\" cont\n"
     ]
    }
   ],
   "source": [
    "g = Grab()\n",
    "resp = g.go(url)\n",
    "print(f'Main text:\\n{resp.body.decode()[:2000]}')"
   ]
  },
  {
   "cell_type": "code",
   "execution_count": 13,
   "metadata": {
    "id": "iOj2WUZn5JA9"
   },
   "outputs": [
    {
     "name": "stdout",
     "output_type": "stream",
     "text": [
      "Type of title: <class 'pyquery.pyquery.PyQuery'>\n",
      "Title:\n",
      "Pokémon Pokédex: list of Pokémon with stats | Pokémon Database\n"
     ]
    }
   ],
   "source": [
    "doc = pq(resp.body.decode())\n",
    "title = doc('title')\n",
    "print(f'Title:\\n{title.text()}')"
   ]
  },
  {
   "cell_type": "markdown",
   "metadata": {},
   "source": [
    "## 兩者差異\n",
    "\n",
    "- requests 和 grab 都是去抓取特定網站的原始碼，都可以轉換成純文字字串。\n",
    "- BeautifulSoup parse 過的文字轉換出的物件可以將 tag 當作 attribute 來使用，print 出來時也會保留 tag，"
   ]
  }
 ],
 "metadata": {
  "colab": {
   "collapsed_sections": [],
   "name": "Day21_hw.ipynb",
   "provenance": []
  },
  "kernelspec": {
   "display_name": "Python 3",
   "language": "python",
   "name": "python3"
  },
  "language_info": {
   "codemirror_mode": {
    "name": "ipython",
    "version": 3
   },
   "file_extension": ".py",
   "mimetype": "text/x-python",
   "name": "python",
   "nbconvert_exporter": "python",
   "pygments_lexer": "ipython3",
   "version": "3.7.7"
  }
 },
 "nbformat": 4,
 "nbformat_minor": 1
}
