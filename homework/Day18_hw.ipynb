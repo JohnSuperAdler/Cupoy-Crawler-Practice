{
 "cells": [
  {
   "cell_type": "markdown",
   "metadata": {
    "id": "RmEW9BEct8Fk"
   },
   "source": [
    "# Day18\n",
    "## 網頁結構解析：使用網頁結構定位工具\n",
    "- 複習網頁結構組成\n",
    "- 使用定位工具擷取網頁節點\n",
    "  - CSS Selector\n",
    "  - XPath"
   ]
  },
  {
   "cell_type": "markdown",
   "metadata": {
    "id": "CmrQ2eOx7X2U"
   },
   "source": [
    "## 作業說明\n",
    "請跟著引導填空程式碼，練習以下題目\n",
    "1. 使用 CSS Selector 定位元素 （搭配 `BeautifulSoup` 套件使用）\n",
    "2. 使用 XPath 定位元素 （搭配 `lxml` 套件使用）\n",
    "\n",
    "題目網站：自由時報文章列表\n",
    "\n",
    "https://search.ltn.com.tw/list?keyword=%E5%B7%9D%E6%99%AE"
   ]
  },
  {
   "cell_type": "markdown",
   "metadata": {},
   "source": []
  },
  {
   "cell_type": "markdown",
   "metadata": {},
   "source": [
    "## Self Memo\n",
    "\n",
    "- [HTMLのスクレイピング：lxmlを使う](https://hiroronn.hatenablog.jp/entry/20180511/1526044297)\n",
    "- [lxml の基本的な使用方法](https://python.keicode.com/advanced/xml-lxml-1.php)"
   ]
  },
  {
   "cell_type": "markdown",
   "metadata": {},
   "source": []
  },
  {
   "cell_type": "code",
   "execution_count": 1,
   "metadata": {
    "id": "2vDuolRl88hz"
   },
   "outputs": [],
   "source": [
    "from bs4 import BeautifulSoup\n",
    "import lxml.html\n",
    "import requests"
   ]
  },
  {
   "cell_type": "markdown",
   "metadata": {
    "id": "ZbDTtqaRTnGD"
   },
   "source": [
    "### `GET` Request"
   ]
  },
  {
   "cell_type": "code",
   "execution_count": 2,
   "metadata": {
    "colab": {
     "base_uri": "https://localhost:8080/"
    },
    "id": "K1ONgiThK57V",
    "outputId": "17cad055-d70d-4a11-e378-3c4606022ee9"
   },
   "outputs": [
    {
     "name": "stdout",
     "output_type": "stream",
     "text": [
      "200\n",
      "<!DOCTYPE html>\n",
      "<html>\n",
      "<head>\n",
      "    <script> var pvDomain = 'pv.ltn.com.tw'; </script>\n",
      "<script> var pvServer = 'pv.ltn.com.tw'; </script>\n",
      "<script>var interstitialSlot;</script>\n",
      "<script>var staticSlot = false;</script>\n",
      "<script src=\"https://cache.ltn.com.tw/js/c.js\"></script>\n",
      "    <title>川普 - 全域查詢 - 自由時報電子報</title>\n",
      "<meta charset=\"utf-8\" />\n",
      "<meta name=\"viewport\" content=\"width=device-width, initial-scale=1.0, maximum-scale=2.0, minimum-scale=1.0\" />\n",
      "<meta http-equiv=\"X-UA-Compatible\" content=\"IE=edge,chrome=1\" />\n",
      "<meta property=\"og:site_name\" content=\"自由時報電子報\" />\n",
      "<meta name=\"author\" content=\"自由時報電子報\" />\n",
      "<meta name=\"dcterms.rightsHolder\" content=\"自由時報電子報\" />\n",
      "<meta name=\"copyright\" content=\"自由時報電子報\" />\n",
      "<meta property=\"og:title\" content=\"川普 - 全域查詢 - 自由時報電子報\" />\n",
      "<meta name=\"keywords\" content=\"川普\" />\n",
      "<meta name=\"news_keywords\" content=\"川普\" />\n",
      "<meta property=\"og:image\" content=\"https://www.ltn.com.tw/assets/images/250_ltn.png?upload=20191119\" />\n",
      "<meta property=\"og:image:type\" content=\"image/jpeg\" />\n",
      "<meta property=\"article:section\" content=\"LTN\" />\n",
      "<meta name=\"description\" content=\"自由時報，為網友提供重要的新聞訊息，提供第一手全球各地最即時的突發事件報導，為網友精準掌握新聞脈動，配合時事不定時推出各類新聞專區，服務廣大網友\" />\n",
      "<meta property=\"og:description\" content=\"自由時報，為網友提供重要的新聞訊息，提供第一手全球各地最即時的突發事件報導，為網友精準掌握新聞脈動，配合時事不定時推出各類新聞專區，服務廣大網友\" />\n",
      "<meta property=\"og:url\" content=\"https://search.ltn.com.tw/list\" />\n",
      "<meta property=\"fb:app_id\" content=\"140490219413038\" />\n",
      "<meta property=\"twitter:card\" content=\"summary\" />\n",
      "<meta property=\"twitter:site\" content=\"@ltn\n"
     ]
    }
   ],
   "source": [
    "##### Get\n",
    "\n",
    "url = 'https://search.ltn.com.tw/list'\n",
    "headers = {\n",
    "    'Accept'    : 'text/html,application/xhtml+xml,application/xml;q=0.9,image/avif,image/webp,image/apng,*/*;q=0.8,application/signed-exchange;v=b3;q=0.9',\n",
    "    'Accept-Encoding': 'gzip, deflate, br',\n",
    "    'Accept-Language': 'zh-TW,zh;q=0.9,en-US;q=0.8,en;q=0.7', \n",
    "    'Cookie'    : 'ReaderInfo=51a1000537218; _fbp=fb.2.1641781316862.230877472; _ss_pp_id=2af7c2b8b7f6cf3091f1641752516979; fcmToken=0; start_time=20220109; end_time=20220110; type=%E5%85%A8%E9%83%A8; date=%E4%B8%8D%E9%99%90%E6%99%82%E9%96%93; ltnTagDate=20220523; sort=%E4%BE%9D%E9%97%9C%E8%81%AF%E6%80%A7; keyword=%E5%B7%9D%E6%99%AE; ltnSession=1653298877265; ltnSessionLast=1653298880029', \n",
    "    'User-Agent': 'Mozilla/5.0 (Macintosh; Intel Mac OS X 10_15_7) AppleWebKit/537.36 (KHTML, like Gecko) Chrome/101.0.4951.64 Safari/537.36', \n",
    "}\n",
    "\n",
    "params = {\n",
    "    'keyword'   : '川普'\n",
    "}\n",
    "\n",
    "r = requests.get(url, headers=headers, params=params)\n",
    "r.encoding = 'utf-8'\n",
    "print(r.status_code)\n",
    "print(r.text[:1500])"
   ]
  },
  {
   "cell_type": "markdown",
   "metadata": {
    "id": "aTkbyICTKk9R"
   },
   "source": [
    "### (1) 使用 CSS Selector 定位元素"
   ]
  },
  {
   "cell_type": "markdown",
   "metadata": {
    "id": "7CSa5er4TtJO"
   },
   "source": [
    "#### 定位文章列表處\n"
   ]
  },
  {
   "cell_type": "code",
   "execution_count": 3,
   "metadata": {
    "colab": {
     "base_uri": "https://localhost:8080/"
    },
    "id": "5OFshcBqTzWM",
    "outputId": "be0662f8-d726-4f97-9583-6669cef6d337"
   },
   "outputs": [
    {
     "data": {
      "text/plain": [
       "<ul class=\"list boxTitle\" data-desc=\"列表\">\n",
       "<li>\n",
       "<a class=\"ph\" data-desc=\"P:0:美學者：比起裴洛西訪台 中國更怕拿不到晶片\" href=\"https://ec.ltn.com.tw/article/breakingnews/4011898\" title=\"美學者：比起裴洛西訪台 中國更怕拿不到晶片\">\n",
       "<img alt=\"美學者：比起裴洛西訪台 中國更怕拿不到晶片\" class=\"lazy_imgs\" data-src=\"https://img.ltn.com.tw/Upload/business/page/400S/2022/08/02/4011898_1.jpg\" onerror=\"setDefault(this)\" src=\"https://news.ltn.com.tw/assets/images/default.png\" title=\"美學者：比起裴洛西訪台 中國更怕拿不到晶片\"/>\n",
       "</a>\n",
       "<div class=\"cont\" href=\"https://ec.ltn.com.tw/article/breakingnews/4011898\">\n",
       "<a class=\"tit\" data-desc=\"T:0:美學者：比起裴洛西訪台 中國更怕拿不到晶片\" href=\"https://ec.ltn.com.tw/article/breakingnews/4011898\" title=\"美學者：比起裴洛西訪台 中國更怕拿不到晶片\">美學者：比起裴洛西訪台 中國更怕拿不到晶片</a>\n",
       "<i class=\"immtag chan\" href=\"https://ec.ltn.com.tw/article/breakingnews/4011898\">財經</i>\n",
       "<span class=\"time\">4小時前</span>\n",
       "<a class=\"http\" data-desc=\"T:0:美學者：比起裴洛西訪台 中國更怕拿不到晶片\" href=\"https://ec.ltn.com.tw/article/breakingnews/4011898\" title=\"美學者：比起裴洛西訪台 中國更怕拿不到晶片\">https://ec.ltn.com.tw/article/breakingnews/4011898</a>\n",
       "<p>美國聯邦眾議院議長裴洛西訪問台灣，瞬間升高美中緊張關係。對此，美國維吉尼亞大學國際事務教授兼米勒公共事務中心資深研究員柯普蘭（Dale Copeland）2日投書《日經亞洲評論》指出，比起裴洛西訪台，北京更擔心美國決心阻止中國在經濟和科技領域超越美國，尤其是在半導體領域的脫鉤，這使得北京認為必須向軍</p>\n",
       "</div>\n",
       "</li>\n",
       "<li>\n",
       "<a class=\"ph\" data-desc=\"P:1:趙少康︰歡迎裴洛西訪台 台灣要小心不被利用\" href=\"https://news.ltn.com.tw/news/politics/breakingnews/4011677\" title=\"趙少康︰歡迎裴洛西訪台 台灣要小心不被利用\">\n",
       "<img alt=\"趙少康︰歡迎裴洛西訪台 台灣要小心不被利用\" class=\"lazy_imgs\" data-src=\"https://img.ltn.com.tw/Upload/news/300/2022/08/02/php6C6wM3.jpg\" onerror=\"setDefault(this)\" src=\"https://news.ltn.com.tw/assets/images/default.png\" title=\"趙少康︰歡迎裴洛西訪台 台灣要小心不被利用\"/>\n",
       "</a>\n",
       "<div class=\"cont\" href=\"https://news.ltn.com.tw/news/politics/breakingnews/4011677\">\n",
       "<a class=\"tit\" data-desc=\"T:1:趙少康︰歡迎裴洛西訪台 台灣要小心不被利用\" href=\"https://news.ltn.com.tw/news/politics/breakingnews/4011677\" title=\"趙少康︰歡迎裴洛西訪台 台灣要小心不被利用\">趙少康︰歡迎裴洛西訪台 台灣要小心不被利用</a>\n",
       "<i class=\"immtag chan\" href=\"https://news.ltn.com.tw/news/politics/breakingnews/4011677\">政治</i>\n",
       "<span class=\"time\">6小時前</span>\n",
       "<a class=\"http\" data-desc=\"T:1:趙少康︰歡迎裴洛西訪台 台灣要小心不被利用\" href=\"https://news.ltn.com.tw/news/politics/breakingnews/4011677\" title=\"趙少康︰歡迎裴洛西訪台 台灣要小心不被利用\">https://news.ltn.com.tw/news/politics/breakingnews/4011677</a>\n",
       "<p>美國眾議院議長裴洛西（Nancy Pelosi）今晚訪台，國民黨「戰鬥藍」領袖、中廣董事長趙少康認為，裴洛西即將卸任，來台灣也「沒有什麼了不起」，但以台灣的外交處境，不論藍綠，當然要歡迎，但北京也有生氣的理由，台灣要小心不要被利用還見獵心喜。</p>\n",
       "</div>\n",
       "</li>\n",
       "<li>\n",
       "<a class=\"ph\" data-desc=\"P:2:自由廣場》裴洛西揭穿了中國「國王的新衣」\" href=\"https://talk.ltn.com.tw/article/paper/1532013\" title=\"自由廣場》裴洛西揭穿了中國「國王的新衣」\">\n",
       "<img alt=\"自由廣場》裴洛西揭穿了中國「國王的新衣」\" class=\"lazy_imgs\" data-src=\"https://news.ltn.com.tw/assets/images/default.png\" onerror=\"setDefault(this)\" src=\"https://news.ltn.com.tw/assets/images/default.png\" title=\"自由廣場》裴洛西揭穿了中國「國王的新衣」\"/>\n",
       "</a>\n",
       "<div class=\"cont\" href=\"https://talk.ltn.com.tw/article/paper/1532013\">\n",
       "<a class=\"tit\" data-desc=\"T:2:自由廣場》裴洛西揭穿了中國「國王的新衣」\" href=\"https://talk.ltn.com.tw/article/paper/1532013\" title=\"自由廣場》裴洛西揭穿了中國「國王的新衣」\">自由廣場》裴洛西揭穿了中國「國王的新衣」</a>\n",
       "<i class=\"immtag chan1\" href=\"https://talk.ltn.com.tw/article/paper/1532013\">評論</i>\n",
       "<span class=\"time\">15小時前</span>\n",
       "<a class=\"http\" data-desc=\"T:2:自由廣場》裴洛西揭穿了中國「國王的新衣」\" href=\"https://talk.ltn.com.tw/article/paper/1532013\" title=\"自由廣場》裴洛西揭穿了中國「國王的新衣」\">https://talk.ltn.com.tw/article/paper/1532013</a>\n",
       "<p>美國眾議院議長，也是資深反共鬥士裴洛西，提出可能於亞洲之行訪台，在美國政壇引起一陣旋風，而中國則崩潰叫囂，使台灣民心大為振奮，雖然裴洛西最終是否訪台仍諱莫如深，台灣人民也既期待又怕受傷害。不過，光是裴洛西提出訪台主張，其實已將台灣主權彰顯於全世界。</p>\n",
       "</div>\n",
       "</li>\n",
       "<li>\n",
       "<a class=\"ph\" data-desc=\"P:3:研調：美國晶片法案加碼對中限制 將影響28、40奈米擴產\" href=\"https://ec.ltn.com.tw/article/breakingnews/4010769\" title=\"研調：美國晶片法案加碼對中限制 將影響28、40奈米擴產\">\n",
       "<img alt=\"研調：美國晶片法案加碼對中限制 將影響28、40奈米擴產\" class=\"lazy_imgs\" data-src=\"https://img.ltn.com.tw/Upload/business/page/400S/2022/08/01/4010769_1.jpg\" onerror=\"setDefault(this)\" src=\"https://news.ltn.com.tw/assets/images/default.png\" title=\"研調：美國晶片法案加碼對中限制 將影響28、40奈米擴產\"/>\n",
       "</a>\n",
       "<div class=\"cont\" href=\"https://ec.ltn.com.tw/article/breakingnews/4010769\">\n",
       "<a class=\"tit\" data-desc=\"T:3:研調：美國晶片法案加碼對中限制 將影響28、40奈米擴產\" href=\"https://ec.ltn.com.tw/article/breakingnews/4010769\" title=\"研調：美國晶片法案加碼對中限制 將影響28、40奈米擴產\">研調：美國晶片法案加碼對中限制 將影響28、40奈米擴產</a>\n",
       "<i class=\"immtag chan\" href=\"https://ec.ltn.com.tw/article/breakingnews/4010769\">財經</i>\n",
       "<span class=\"time\">1天前</span>\n",
       "<a class=\"http\" data-desc=\"T:3:研調：美國晶片法案加碼對中限制 將影響28、40奈米擴產\" href=\"https://ec.ltn.com.tw/article/breakingnews/4010769\" title=\"研調：美國晶片法案加碼對中限制 將影響28、40奈米擴產\">https://ec.ltn.com.tw/article/breakingnews/4010769</a>\n",
       "<p>美國補貼性的晶片法案進入倒數計時，待總統拜登簽署後即可正式生效；研調機構TrendForce指出，該法案草案不僅涵蓋晶圓製造研發與建廠補助、稅務優惠補貼等，同時也提出附加限制條款，擬針對獲美國國家補貼的公司，限制獲補助期間不得在中國投資28奈米以下製程技術，以確保該法案對美國半導體產業競爭力的保護，</p>\n",
       "</div>\n",
       "</li>\n",
       "<li>\n",
       "<a class=\"ph\" data-desc=\"P:4:自由開講》其實根本可以不用賣面子給臉書的！\" href=\"https://talk.ltn.com.tw/article/breakingnews/4010429\" title=\"自由開講》其實根本可以不用賣面子給臉書的！\">\n",
       "<img alt=\"自由開講》其實根本可以不用賣面子給臉書的！\" class=\"lazy_imgs\" data-src=\"https://img.ltn.com.tw/Upload/talk/page/400S/2022/08/01/phpw7eZC8.jpg\" onerror=\"setDefault(this)\" src=\"https://news.ltn.com.tw/assets/images/default.png\" title=\"自由開講》其實根本可以不用賣面子給臉書的！\"/>\n",
       "</a>\n",
       "<div class=\"cont\" href=\"https://talk.ltn.com.tw/article/breakingnews/4010429\">\n",
       "<a class=\"tit\" data-desc=\"T:4:自由開講》其實根本可以不用賣面子給臉書的！\" href=\"https://talk.ltn.com.tw/article/breakingnews/4010429\" title=\"自由開講》其實根本可以不用賣面子給臉書的！\">自由開講》其實根本可以不用賣面子給臉書的！</a>\n",
       "<i class=\"immtag chan1\" href=\"https://talk.ltn.com.tw/article/breakingnews/4010429\">評論</i>\n",
       "<span class=\"time\">1天前</span>\n",
       "<a class=\"http\" data-desc=\"T:4:自由開講》其實根本可以不用賣面子給臉書的！\" href=\"https://talk.ltn.com.tw/article/breakingnews/4010429\" title=\"自由開講》其實根本可以不用賣面子給臉書的！\">https://talk.ltn.com.tw/article/breakingnews/4010429</a>\n",
       "<p>洪昱睿對於今早刊於《自由廣場》的台灣史大師李筱峰教授大作《臉書不給我臉》，筆者有些看法，一方面同情李教授的遭遇，一方面也覺得李教授可以稍作平常心看待。第一點、臉書會遭封鎖通常是因遭人檢舉，而不是其官方24小時都在巡邏。而被檢舉後臉書官方也未必會有反應，但有時先封鎖比較快，只是一種凍結而不是刪文，如果</p>\n",
       "</div>\n",
       "</li>\n",
       "<li>\n",
       "<a class=\"ph\" data-desc=\"P:5:ASML 總裁大聊EUV避談中國  中芯想拿貨「作夢」？\" href=\"https://ec.ltn.com.tw/article/breakingnews/4009807\" title=\"ASML 總裁大聊EUV避談中國  中芯想拿貨「作夢」？\">\n",
       "<img alt=\"ASML 總裁大聊EUV避談中國  中芯想拿貨「作夢」？\" class=\"lazy_imgs\" data-src=\"https://img.ltn.com.tw/Upload/business/page/400S/2022/07/31/phpogzGhc.jpg\" onerror=\"setDefault(this)\" src=\"https://news.ltn.com.tw/assets/images/default.png\" title=\"ASML 總裁大聊EUV避談中國  中芯想拿貨「作夢」？\"/>\n",
       "</a>\n",
       "<div class=\"cont\" href=\"https://ec.ltn.com.tw/article/breakingnews/4009807\">\n",
       "<a class=\"tit\" data-desc=\"T:5:ASML 總裁大聊EUV避談中國  中芯想拿貨「作夢」？\" href=\"https://ec.ltn.com.tw/article/breakingnews/4009807\" title=\"ASML 總裁大聊EUV避談中國  中芯想拿貨「作夢」？\">ASML 總裁大聊EUV避談中國  中芯想拿貨「作夢」？</a>\n",
       "<i class=\"immtag chan\" href=\"https://ec.ltn.com.tw/article/breakingnews/4009807\">財經</i>\n",
       "<span class=\"time\">1天前</span>\n",
       "<a class=\"http\" data-desc=\"T:5:ASML 總裁大聊EUV避談中國  中芯想拿貨「作夢」？\" href=\"https://ec.ltn.com.tw/article/breakingnews/4009807\" title=\"ASML 總裁大聊EUV避談中國  中芯想拿貨「作夢」？\">https://ec.ltn.com.tw/article/breakingnews/4009807</a>\n",
       "<p>手握台積電、英特爾大單的荷蘭半導體設備商ASML因大客戶相繼擴產，滿手訂單，中國眼巴巴望著希望能取得EUV曝光機，挺進先進製程。不過在美國遊說下，連ASML舊型 EUV、DUV 曝光設備都不賣給中國。ASML總裁兼技術長布林克（Martin van den Brink）週六（30日）接受荷媒專訪時，</p>\n",
       "</div>\n",
       "</li>\n",
       "<li>\n",
       "<a class=\"ph\" data-desc=\"P:6:自由廣場》裴洛西來不來的推算\" href=\"https://talk.ltn.com.tw/article/paper/1531860\" title=\"自由廣場》裴洛西來不來的推算\">\n",
       "<img alt=\"自由廣場》裴洛西來不來的推算\" class=\"lazy_imgs\" data-src=\"https://news.ltn.com.tw/assets/images/default.png\" onerror=\"setDefault(this)\" src=\"https://news.ltn.com.tw/assets/images/default.png\" title=\"自由廣場》裴洛西來不來的推算\"/>\n",
       "</a>\n",
       "<div class=\"cont\" href=\"https://talk.ltn.com.tw/article/paper/1531860\">\n",
       "<a class=\"tit\" data-desc=\"T:6:自由廣場》裴洛西來不來的推算\" href=\"https://talk.ltn.com.tw/article/paper/1531860\" title=\"自由廣場》裴洛西來不來的推算\">自由廣場》裴洛西來不來的推算</a>\n",
       "<i class=\"immtag chan1\" href=\"https://talk.ltn.com.tw/article/paper/1531860\">評論</i>\n",
       "<span class=\"time\">1天前</span>\n",
       "<a class=\"http\" data-desc=\"T:6:自由廣場》裴洛西來不來的推算\" href=\"https://talk.ltn.com.tw/article/paper/1531860\" title=\"自由廣場》裴洛西來不來的推算\">https://talk.ltn.com.tw/article/paper/1531860</a>\n",
       "<p>第一個曝光裴洛西可能訪問台灣的媒體是英國的金融時報，除此之外就不知道誰先放出消息了。拜登本人是真的不希望裴洛西這時候訪問台灣，因為他要和習近平會面，並認為至少到九月之前裴洛西先不要輕舉妄動。拜登考量的點就是希望在一邊堅定立場時，可以為美中關係設立一個護欄。</p>\n",
       "</div>\n",
       "</li>\n",
       "<li>\n",
       "<a class=\"ph\" data-desc=\"P:7:社論》誰在玩火自焚？\" href=\"https://talk.ltn.com.tw/article/paper/1531846\" title=\"社論》誰在玩火自焚？\">\n",
       "<img alt=\"社論》誰在玩火自焚？\" class=\"lazy_imgs\" data-src=\"https://news.ltn.com.tw/assets/images/default.png\" onerror=\"setDefault(this)\" src=\"https://news.ltn.com.tw/assets/images/default.png\" title=\"社論》誰在玩火自焚？\"/>\n",
       "</a>\n",
       "<div class=\"cont\" href=\"https://talk.ltn.com.tw/article/paper/1531846\">\n",
       "<a class=\"tit\" data-desc=\"T:7:社論》誰在玩火自焚？\" href=\"https://talk.ltn.com.tw/article/paper/1531846\" title=\"社論》誰在玩火自焚？\">社論》誰在玩火自焚？</a>\n",
       "<i class=\"immtag chan1\" href=\"https://talk.ltn.com.tw/article/paper/1531846\">評論</i>\n",
       "<span class=\"time\">1天前</span>\n",
       "<a class=\"http\" data-desc=\"T:7:社論》誰在玩火自焚？\" href=\"https://talk.ltn.com.tw/article/paper/1531846\" title=\"社論》誰在玩火自焚？\">https://talk.ltn.com.tw/article/paper/1531846</a>\n",
       "<p>美中領導人日前進行視訊會議，兩國歧見未獲化解，且有兩大爭議更形擴大。一是台灣議題，特別針對眾議院議長裴洛西計畫訪台事件，習近平嗆聲︰「民意不可違，玩火必自焚。」其二，習近平試圖掩飾中國擴張帶來的全球衝突風險，稱「把中國視為最主要對手和最嚴峻的長期挑戰，是對中美關係的誤判和對中國發展的誤讀」、「違背規</p>\n",
       "</div>\n",
       "</li>\n",
       "<li>\n",
       "<a class=\"ph\" data-desc=\"P:8:自由廣場》中國青年談裴洛西訪台\" href=\"https://talk.ltn.com.tw/article/paper/1531627\" title=\"自由廣場》中國青年談裴洛西訪台\">\n",
       "<img alt=\"自由廣場》中國青年談裴洛西訪台\" class=\"lazy_imgs\" data-src=\"https://news.ltn.com.tw/assets/images/default.png\" onerror=\"setDefault(this)\" src=\"https://news.ltn.com.tw/assets/images/default.png\" title=\"自由廣場》中國青年談裴洛西訪台\"/>\n",
       "</a>\n",
       "<div class=\"cont\" href=\"https://talk.ltn.com.tw/article/paper/1531627\">\n",
       "<a class=\"tit\" data-desc=\"T:8:自由廣場》中國青年談裴洛西訪台\" href=\"https://talk.ltn.com.tw/article/paper/1531627\" title=\"自由廣場》中國青年談裴洛西訪台\">自由廣場》中國青年談裴洛西訪台</a>\n",
       "<i class=\"immtag chan1\" href=\"https://talk.ltn.com.tw/article/paper/1531627\">評論</i>\n",
       "<span class=\"time\">2天前</span>\n",
       "<a class=\"http\" data-desc=\"T:8:自由廣場》中國青年談裴洛西訪台\" href=\"https://talk.ltn.com.tw/article/paper/1531627\" title=\"自由廣場》中國青年談裴洛西訪台\">https://talk.ltn.com.tw/article/paper/1531627</a>\n",
       "<p>且不論成效，當美國川普總統站出來對抗中國的貿易壁壘，我是非常感動的，對抗政治審查有望了。當眾議院易手之時，我也擔心過這些政策是否還能得到美國國會的支持，所幸是裴嬸當頭。眾議院議長閣下對中國的人權問題有著堅定的立場，我們從她六四後的抗議相信她的信念，相信她不會拿我們的人權做什麼交易。</p>\n",
       "</div>\n",
       "</li>\n",
       "<li>\n",
       "<a class=\"ph\" data-desc=\"P:9:中國開抖音帳號 偷渡大外宣\" href=\"https://news.ltn.com.tw/news/world/paper/1531677\" title=\"中國開抖音帳號 偷渡大外宣\">\n",
       "<img alt=\"中國開抖音帳號 偷渡大外宣\" class=\"lazy_imgs\" data-src=\"https://img.ltn.com.tw/Upload/news/250/2022/07/31/148.jpg\" onerror=\"setDefault(this)\" src=\"https://news.ltn.com.tw/assets/images/default.png\" title=\"中國開抖音帳號 偷渡大外宣\"/>\n",
       "</a>\n",
       "<div class=\"cont\" href=\"https://news.ltn.com.tw/news/world/paper/1531677\">\n",
       "<a class=\"tit\" data-desc=\"T:9:中國開抖音帳號 偷渡大外宣\" href=\"https://news.ltn.com.tw/news/world/paper/1531677\" title=\"中國開抖音帳號 偷渡大外宣\">中國開抖音帳號 偷渡大外宣</a>\n",
       "<i class=\"immtag chan\" href=\"https://news.ltn.com.tw/news/world/paper/1531677\">國際</i>\n",
       "<span class=\"time\">2天前</span>\n",
       "<a class=\"http\" data-desc=\"T:9:中國開抖音帳號 偷渡大外宣\" href=\"https://news.ltn.com.tw/news/world/paper/1531677\" title=\"中國開抖音帳號 偷渡大外宣\">https://news.ltn.com.tw/news/world/paper/1531677</a>\n",
       "<p>彭博廿九日獨家報導指出，中國政府二○二○年四月曾接洽中國企業「字節跳動」旗下引發美國國家安全疑慮的智慧型手機影音社群應用程式「抖音」國際版「TikTok」，試圖開設「隱形帳號」以針對西方受眾進行政治宣傳，但兩企業高層最終讓提出「敏感」要求的中國官方碰釘子。</p>\n",
       "</div>\n",
       "</li>\n",
       "<li>\n",
       "<a class=\"ph\" data-desc=\"P:10:紐時：布林肯抗拒將俄羅斯列為「支持恐怖主義國家」\" href=\"https://news.ltn.com.tw/news/world/breakingnews/4009219\" title=\"紐時：布林肯抗拒將俄羅斯列為「支持恐怖主義國家」\">\n",
       "<img alt=\"紐時：布林肯抗拒將俄羅斯列為「支持恐怖主義國家」\" class=\"lazy_imgs\" data-src=\"https://img.ltn.com.tw/Upload/news/300/2022/07/30/4009219_1_1.jpg\" onerror=\"setDefault(this)\" src=\"https://news.ltn.com.tw/assets/images/default.png\" title=\"紐時：布林肯抗拒將俄羅斯列為「支持恐怖主義國家」\"/>\n",
       "</a>\n",
       "<div class=\"cont\" href=\"https://news.ltn.com.tw/news/world/breakingnews/4009219\">\n",
       "<a class=\"tit\" data-desc=\"T:10:紐時：布林肯抗拒將俄羅斯列為「支持恐怖主義國家」\" href=\"https://news.ltn.com.tw/news/world/breakingnews/4009219\" title=\"紐時：布林肯抗拒將俄羅斯列為「支持恐怖主義國家」\">紐時：布林肯抗拒將俄羅斯列為「支持恐怖主義國家」</a>\n",
       "<i class=\"immtag chan\" href=\"https://news.ltn.com.tw/news/world/breakingnews/4009219\">國際</i>\n",
       "<span class=\"time\">3天前</span>\n",
       "<a class=\"http\" data-desc=\"T:10:紐時：布林肯抗拒將俄羅斯列為「支持恐怖主義國家」\" href=\"https://news.ltn.com.tw/news/world/breakingnews/4009219\" title=\"紐時：布林肯抗拒將俄羅斯列為「支持恐怖主義國家」\">https://news.ltn.com.tw/news/world/breakingnews/4009219</a>\n",
       "<p>美國《紐約時報》29日指出，俄羅斯入侵烏克蘭以來，美國國會和烏克蘭總統澤倫斯基等人，一再呼籲美國國務卿布林肯正式將俄國列為「支持恐怖主義國家」，但布林肯始終避重就輕。分析指出，此舉可使美國擴大制裁與俄國商業往來的第三方，進一步孤立俄國，但也暗藏美俄全面撕破臉的風險，使2國僅存的外交聯繫蕩然無存。</p>\n",
       "</div>\n",
       "</li>\n",
       "<li>\n",
       "<a class=\"ph\" data-desc=\"P:11:裴洛西訪台 川普批：她只會讓事情更糟\" href=\"https://news.ltn.com.tw/news/world/breakingnews/4008573\" title=\"裴洛西訪台 川普批：她只會讓事情更糟\">\n",
       "<img alt=\"裴洛西訪台 川普批：她只會讓事情更糟\" class=\"lazy_imgs\" data-src=\"https://img.ltn.com.tw/Upload/news/300/2022/07/30/phpvxApU8.jpg\" onerror=\"setDefault(this)\" src=\"https://news.ltn.com.tw/assets/images/default.png\" title=\"裴洛西訪台 川普批：她只會讓事情更糟\"/>\n",
       "</a>\n",
       "<div class=\"cont\" href=\"https://news.ltn.com.tw/news/world/breakingnews/4008573\">\n",
       "<a class=\"tit\" data-desc=\"T:11:裴洛西訪台 川普批：她只會讓事情更糟\" href=\"https://news.ltn.com.tw/news/world/breakingnews/4008573\" title=\"裴洛西訪台 川普批：她只會讓事情更糟\">裴洛西訪台 川普批：她只會讓事情更糟</a>\n",
       "<i class=\"immtag chan\" href=\"https://news.ltn.com.tw/news/world/breakingnews/4008573\">國際</i>\n",
       "<span class=\"time\">3天前</span>\n",
       "<a class=\"http\" data-desc=\"T:11:裴洛西訪台 川普批：她只會讓事情更糟\" href=\"https://news.ltn.com.tw/news/world/breakingnews/4008573\" title=\"裴洛西訪台 川普批：她只會讓事情更糟\">https://news.ltn.com.tw/news/world/breakingnews/4008573</a>\n",
       "<p>美國眾議院議長裴洛西是否訪問台灣引發各界關注，在位期間與她關係不睦的前總統川普也發表看法，抨擊不應攪和中國問題，只會讓事情變得更糟。綜合外媒報導，川普當地時間週五在自家社群平台「Truth Social」談論裴洛西訪台爭議，他寫道，「裴洛西不應涉入關於中國的難題，她只會讓事情變得更糟」、「凡是裴洛西</p>\n",
       "</div>\n",
       "</li>\n",
       "<li>\n",
       "<a class=\"ph\" data-desc=\"P:12:裴洛西不訪台將「三輸一贏」 范世平：台灣成唯一贏家\" href=\"https://news.ltn.com.tw/news/politics/breakingnews/4008539\" title=\"裴洛西不訪台將「三輸一贏」 范世平：台灣成唯一贏家\">\n",
       "<img alt=\"裴洛西不訪台將「三輸一贏」 范世平：台灣成唯一贏家\" class=\"lazy_imgs\" data-src=\"https://img.ltn.com.tw/Upload/news/300/2022/07/29/phpoBlWhe.jpg\" onerror=\"setDefault(this)\" src=\"https://news.ltn.com.tw/assets/images/default.png\" title=\"裴洛西不訪台將「三輸一贏」 范世平：台灣成唯一贏家\"/>\n",
       "</a>\n",
       "<div class=\"cont\" href=\"https://news.ltn.com.tw/news/politics/breakingnews/4008539\">\n",
       "<a class=\"tit\" data-desc=\"T:12:裴洛西不訪台將「三輸一贏」 范世平：台灣成唯一贏家\" href=\"https://news.ltn.com.tw/news/politics/breakingnews/4008539\" title=\"裴洛西不訪台將「三輸一贏」 范世平：台灣成唯一贏家\">裴洛西不訪台將「三輸一贏」 范世平：台灣成唯一贏家</a>\n",
       "<i class=\"immtag chan\" href=\"https://news.ltn.com.tw/news/politics/breakingnews/4008539\">政治</i>\n",
       "<span class=\"time\">3天前</span>\n",
       "<a class=\"http\" data-desc=\"T:12:裴洛西不訪台將「三輸一贏」 范世平：台灣成唯一贏家\" href=\"https://news.ltn.com.tw/news/politics/breakingnews/4008539\" title=\"裴洛西不訪台將「三輸一贏」 范世平：台灣成唯一贏家\">https://news.ltn.com.tw/news/politics/breakingnews/4008539</a>\n",
       "<p>美國眾議院議長裴洛西的亞洲行，究竟會不會來台灣，引發關注。台師大政研所教授范世平分析，裴洛西若不來台，將會是「三輸一贏」，她自己輸、美國總統拜登輸、民主黨也輸，而贏的是台灣。范世平在臉書發文指出，裴洛西一向「反中挺台」，1991年她以眾議員身分訪問中國，就在北京天安門廣場拉出支持「六四民運」的橫幅，</p>\n",
       "</div>\n",
       "</li>\n",
       "<li>\n",
       "<a class=\"ph\" data-desc=\"P:13:川普打小白球「誤用」總統徽章 有違法之虞\" href=\"https://news.ltn.com.tw/news/world/breakingnews/4008541\" title=\"川普打小白球「誤用」總統徽章 有違法之虞\">\n",
       "<img alt=\"川普打小白球「誤用」總統徽章 有違法之虞\" class=\"lazy_imgs\" data-src=\"https://img.ltn.com.tw/Upload/news/300/2022/07/29/4008541_1_1.jpg\" onerror=\"setDefault(this)\" src=\"https://news.ltn.com.tw/assets/images/default.png\" title=\"川普打小白球「誤用」總統徽章 有違法之虞\"/>\n",
       "</a>\n",
       "<div class=\"cont\" href=\"https://news.ltn.com.tw/news/world/breakingnews/4008541\">\n",
       "<a class=\"tit\" data-desc=\"T:13:川普打小白球「誤用」總統徽章 有違法之虞\" href=\"https://news.ltn.com.tw/news/world/breakingnews/4008541\" title=\"川普打小白球「誤用」總統徽章 有違法之虞\">川普打小白球「誤用」總統徽章 有違法之虞</a>\n",
       "<i class=\"immtag chan\" href=\"https://news.ltn.com.tw/news/world/breakingnews/4008541\">國際</i>\n",
       "<span class=\"time\">3天前</span>\n",
       "<a class=\"http\" data-desc=\"T:13:川普打小白球「誤用」總統徽章 有違法之虞\" href=\"https://news.ltn.com.tw/news/world/breakingnews/4008541\" title=\"川普打小白球「誤用」總統徽章 有違法之虞\">https://news.ltn.com.tw/news/world/breakingnews/4008541</a>\n",
       "<p>華盛頓郵報29日報導，美國前總統川普28日被目擊到在新澤西州的自家高球場上出賽時，所使用的多項個人用品上都有印有美國總統徽章，涉嫌違法。包括毛巾、高球車與其他用品上，都有此一象徵美國總統的圖徽。此舉涉嫌違反美國聯邦法律，因為如此使用代表美國總統與副總統的徽章，有傳達出「（獲得）美國政府贊助或支持的錯</p>\n",
       "</div>\n",
       "</li>\n",
       "<li>\n",
       "<a class=\"ph\" data-desc=\"P:14:美國第三政黨「前進黨」成立 台裔楊安澤任共同主席\" href=\"https://news.ltn.com.tw/news/world/breakingnews/4007227\" title=\"美國第三政黨「前進黨」成立 台裔楊安澤任共同主席\">\n",
       "<img alt=\"美國第三政黨「前進黨」成立 台裔楊安澤任共同主席\" class=\"lazy_imgs\" data-src=\"https://img.ltn.com.tw/Upload/news/300/2022/07/28/phpI5XK7Z.jpg\" onerror=\"setDefault(this)\" src=\"https://news.ltn.com.tw/assets/images/default.png\" title=\"美國第三政黨「前進黨」成立 台裔楊安澤任共同主席\"/>\n",
       "</a>\n",
       "<div class=\"cont\" href=\"https://news.ltn.com.tw/news/world/breakingnews/4007227\">\n",
       "<a class=\"tit\" data-desc=\"T:14:美國第三政黨「前進黨」成立 台裔楊安澤任共同主席\" href=\"https://news.ltn.com.tw/news/world/breakingnews/4007227\" title=\"美國第三政黨「前進黨」成立 台裔楊安澤任共同主席\">美國第三政黨「前進黨」成立 台裔楊安澤任共同主席</a>\n",
       "<i class=\"immtag chan\" href=\"https://news.ltn.com.tw/news/world/breakingnews/4007227\">國際</i>\n",
       "<span class=\"time\">5天前</span>\n",
       "<a class=\"http\" data-desc=\"T:14:美國第三政黨「前進黨」成立 台裔楊安澤任共同主席\" href=\"https://news.ltn.com.tw/news/world/breakingnews/4007227\" title=\"美國第三政黨「前進黨」成立 台裔楊安澤任共同主席\">https://news.ltn.com.tw/news/world/breakingnews/4007227</a>\n",
       "<p>《路透》報導，數十位美國前民主黨和共和黨官員27日宣告將成立新全國性第三政黨「前進黨」（Forward），希望吸納對美國當前兩黨政治體系失能感到灰心的數百萬選民。「前進黨」創黨初期，將由曾角逐民主黨總統初選的台裔楊安澤（Andrew Yang）及前共和黨籍新澤西州州長惠特曼（Christine To</p>\n",
       "</div>\n",
       "</li>\n",
       "<li>\n",
       "<a class=\"ph\" data-desc=\"P:15:楊安澤併前兩黨成員政黨 組美國第3大黨前進黨\" href=\"https://news.ltn.com.tw/news/world/breakingnews/4007062\" title=\"楊安澤併前兩黨成員政黨 組美國第3大黨前進黨\">\n",
       "<img alt=\"楊安澤併前兩黨成員政黨 組美國第3大黨前進黨\" class=\"lazy_imgs\" data-src=\"https://img.ltn.com.tw/Upload/news/300/2022/07/28/phpyz2TVG.jpg\" onerror=\"setDefault(this)\" src=\"https://news.ltn.com.tw/assets/images/default.png\" title=\"楊安澤併前兩黨成員政黨 組美國第3大黨前進黨\"/>\n",
       "</a>\n",
       "<div class=\"cont\" href=\"https://news.ltn.com.tw/news/world/breakingnews/4007062\">\n",
       "<a class=\"tit\" data-desc=\"T:15:楊安澤併前兩黨成員政黨 組美國第3大黨前進黨\" href=\"https://news.ltn.com.tw/news/world/breakingnews/4007062\" title=\"楊安澤併前兩黨成員政黨 組美國第3大黨前進黨\">楊安澤併前兩黨成員政黨 組美國第3大黨前進黨</a>\n",
       "<i class=\"immtag chan\" href=\"https://news.ltn.com.tw/news/world/breakingnews/4007062\">國際</i>\n",
       "<span class=\"time\">5天前</span>\n",
       "<a class=\"http\" data-desc=\"T:15:楊安澤併前兩黨成員政黨 組美國第3大黨前進黨\" href=\"https://news.ltn.com.tw/news/world/breakingnews/4007062\" title=\"楊安澤併前兩黨成員政黨 組美國第3大黨前進黨\">https://news.ltn.com.tw/news/world/breakingnews/4007062</a>\n",
       "<p>曾爭取代表民主黨參選紐約市長與美國總統的台灣移民後裔楊安澤今天宣布，他已與前共和黨人、民主黨人和無黨派人士合組「前進黨」（Forward Party）。「國會山莊報」（The Hill）報導，最初於去年10月成立的「前進黨」，現在是由3個組織合併的政黨，分別是楊安澤（Andrew Yang）的「前進</p>\n",
       "</div>\n",
       "</li>\n",
       "<li>\n",
       "<a class=\"ph\" data-desc=\"P:16:自由廣場》中共孔子學院 死灰復燃\" href=\"https://talk.ltn.com.tw/article/paper/1531058\" title=\"自由廣場》中共孔子學院 死灰復燃\">\n",
       "<img alt=\"自由廣場》中共孔子學院 死灰復燃\" class=\"lazy_imgs\" data-src=\"https://news.ltn.com.tw/assets/images/default.png\" onerror=\"setDefault(this)\" src=\"https://news.ltn.com.tw/assets/images/default.png\" title=\"自由廣場》中共孔子學院 死灰復燃\"/>\n",
       "</a>\n",
       "<div class=\"cont\" href=\"https://talk.ltn.com.tw/article/paper/1531058\">\n",
       "<a class=\"tit\" data-desc=\"T:16:自由廣場》中共孔子學院 死灰復燃\" href=\"https://talk.ltn.com.tw/article/paper/1531058\" title=\"自由廣場》中共孔子學院 死灰復燃\">自由廣場》中共孔子學院 死灰復燃</a>\n",
       "<i class=\"immtag chan1\" href=\"https://talk.ltn.com.tw/article/paper/1531058\">評論</i>\n",
       "<span class=\"time\">5天前</span>\n",
       "<a class=\"http\" data-desc=\"T:16:自由廣場》中共孔子學院 死灰復燃\" href=\"https://talk.ltn.com.tw/article/paper/1531058\" title=\"自由廣場》中共孔子學院 死灰復燃\">https://talk.ltn.com.tw/article/paper/1531058</a>\n",
       "<p>美國國家學者學會報告透露，川普執政時期誓言消滅的中共孔子學院，在拜登執政後，正透過各種方式試圖起死回生。全盛時期，中共在美國各大學，設立了一一八所孔子學院，而今僅剩十四所。川普政府為打擊這些別有居心的孔子學院，招式盡出：首先是《國防授權法》明定，設有孔子學院的大學，不得領取國防部的語言計畫補助；接著</p>\n",
       "</div>\n",
       "</li>\n",
       "<li>\n",
       "<a class=\"ph\" data-desc=\"P:17:昔攻川普現襲拜登 中國擴大干擾期中選舉\" href=\"https://news.ltn.com.tw/news/world/paper/1531216\" title=\"昔攻川普現襲拜登 中國擴大干擾期中選舉\">\n",
       "<img alt=\"昔攻川普現襲拜登 中國擴大干擾期中選舉\" class=\"lazy_imgs\" data-src=\"https://img.ltn.com.tw/Upload/news/250/2022/07/28/197.jpg\" onerror=\"setDefault(this)\" src=\"https://news.ltn.com.tw/assets/images/default.png\" title=\"昔攻川普現襲拜登 中國擴大干擾期中選舉\"/>\n",
       "</a>\n",
       "<div class=\"cont\" href=\"https://news.ltn.com.tw/news/world/paper/1531216\">\n",
       "<a class=\"tit\" data-desc=\"T:17:昔攻川普現襲拜登 中國擴大干擾期中選舉\" href=\"https://news.ltn.com.tw/news/world/paper/1531216\" title=\"昔攻川普現襲拜登 中國擴大干擾期中選舉\">昔攻川普現襲拜登 中國擴大干擾期中選舉</a>\n",
       "<i class=\"immtag chan\" href=\"https://news.ltn.com.tw/news/world/paper/1531216\">國際</i>\n",
       "<span class=\"time\">5天前</span>\n",
       "<a class=\"http\" data-desc=\"T:17:昔攻川普現襲拜登 中國擴大干擾期中選舉\" href=\"https://news.ltn.com.tw/news/world/paper/1531216\" title=\"昔攻川普現襲拜登 中國擴大干擾期中選舉\">https://news.ltn.com.tw/news/world/paper/1531216</a>\n",
       "<p>美國安官員示警須還擊美國將於十一月八日舉行期中選舉，改選聯邦眾議院全部四三五席、聯邦參議院三分之一的卅五席，以及卅六州州長和三個屬地首長，這場期中選舉對美國共和與民主兩黨，形同二○二四年總統大選黨內前哨戰。美國國安專家警告，美國期中選舉面臨中國的干擾和威脅，美國政府亟需制定因應還擊措施。</p>\n",
       "</div>\n",
       "</li>\n",
       "<li>\n",
       "<a class=\"ph\" data-desc=\"P:18:德國遠程武器運抵烏克蘭 俄軍在南部戰線增兵（不斷更新）\" href=\"https://news.ltn.com.tw/news/world/breakingnews/4005138\" title=\"德國遠程武器運抵烏克蘭 俄軍在南部戰線增兵（不斷更新）\">\n",
       "<img alt=\"德國遠程武器運抵烏克蘭 俄軍在南部戰線增兵（不斷更新）\" class=\"lazy_imgs\" data-src=\"https://img.ltn.com.tw/Upload/news/300/2022/07/27/phpK08DWd.jpg\" onerror=\"setDefault(this)\" src=\"https://news.ltn.com.tw/assets/images/default.png\" title=\"德國遠程武器運抵烏克蘭 俄軍在南部戰線增兵（不斷更新）\"/>\n",
       "</a>\n",
       "<div class=\"cont\" href=\"https://news.ltn.com.tw/news/world/breakingnews/4005138\">\n",
       "<a class=\"tit\" data-desc=\"T:18:德國遠程武器運抵烏克蘭 俄軍在南部戰線增兵（不斷更新）\" href=\"https://news.ltn.com.tw/news/world/breakingnews/4005138\" title=\"德國遠程武器運抵烏克蘭 俄軍在南部戰線增兵（不斷更新）\">德國遠程武器運抵烏克蘭 俄軍在南部戰線增兵（不斷更新）</a>\n",
       "<i class=\"immtag chan\" href=\"https://news.ltn.com.tw/news/world/breakingnews/4005138\">國際</i>\n",
       "<span class=\"time\">5天前</span>\n",
       "<a class=\"http\" data-desc=\"T:18:德國遠程武器運抵烏克蘭 俄軍在南部戰線增兵（不斷更新）\" href=\"https://news.ltn.com.tw/news/world/breakingnews/4005138\" title=\"德國遠程武器運抵烏克蘭 俄軍在南部戰線增兵（不斷更新）\">https://news.ltn.com.tw/news/world/breakingnews/4005138</a>\n",
       "<p>俄羅斯總統普廷無視全球譴責和多國制裁，2月24日逕行宣布對烏克蘭採取特殊軍事作戰，開啟戰爭。本報根據路透、法新社、彭博、CNN、BBC等外電，整理了截至台灣時間7月27日最新情勢發展，讓讀者快速掌握俄烏衝突最新進展。*俄羅斯入侵烏克蘭5個月後，雙方戰火持續，烏克蘭軍方27日以美國援助的海馬斯（HIM</p>\n",
       "</div>\n",
       "</li>\n",
       "<li>\n",
       "<a class=\"ph\" data-desc=\"P:19:川普示警：若美國「將烏克蘭拱手讓給俄羅斯」中國將全面攻台\" href=\"https://news.ltn.com.tw/news/world/breakingnews/4006193\" title=\"川普示警：若美國「將烏克蘭拱手讓給俄羅斯」中國將全面攻台\">\n",
       "<img alt=\"川普示警：若美國「將烏克蘭拱手讓給俄羅斯」中國將全面攻台\" class=\"lazy_imgs\" data-src=\"https://img.ltn.com.tw/Upload/news/300/2022/07/27/php4ygQAL.jpg\" onerror=\"setDefault(this)\" src=\"https://news.ltn.com.tw/assets/images/default.png\" title=\"川普示警：若美國「將烏克蘭拱手讓給俄羅斯」中國將全面攻台\"/>\n",
       "</a>\n",
       "<div class=\"cont\" href=\"https://news.ltn.com.tw/news/world/breakingnews/4006193\">\n",
       "<a class=\"tit\" data-desc=\"T:19:川普示警：若美國「將烏克蘭拱手讓給俄羅斯」中國將全面攻台\" href=\"https://news.ltn.com.tw/news/world/breakingnews/4006193\" title=\"川普示警：若美國「將烏克蘭拱手讓給俄羅斯」中國將全面攻台\">川普示警：若美國「將烏克蘭拱手讓給俄羅斯」中國將全面攻台</a>\n",
       "<i class=\"immtag chan\" href=\"https://news.ltn.com.tw/news/world/breakingnews/4006193\">國際</i>\n",
       "<span class=\"time\">5天前</span>\n",
       "<a class=\"http\" data-desc=\"T:19:川普示警：若美國「將烏克蘭拱手讓給俄羅斯」中國將全面攻台\" href=\"https://news.ltn.com.tw/news/world/breakingnews/4006193\" title=\"川普示警：若美國「將烏克蘭拱手讓給俄羅斯」中國將全面攻台\">https://news.ltn.com.tw/news/world/breakingnews/4006193</a>\n",
       "<p>美國前總統川普26日針對烏俄戰局及台海情勢示警，強調美國若將烏克蘭「拱手讓給俄羅斯」，中國將全面攻佔台灣！根據《Republicworld》報導，川普在佛州棕櫚灘的「海湖莊園」（Mar-a-Lago）渡假俱樂部，接受保守派右翼電台節目《The Clay Travis and Buck Sexton </p>\n",
       "</div>\n",
       "</li>\n",
       "</ul>"
      ]
     },
     "execution_count": 3,
     "metadata": {},
     "output_type": "execute_result"
    }
   ],
   "source": [
    "##### Use soup\n",
    "\n",
    "soup = BeautifulSoup(r.text)\n",
    "soup.find(\"ul\", {\"class\": \"list boxTitle\"})"
   ]
  },
  {
   "cell_type": "markdown",
   "metadata": {
    "id": "hJ4E68xZUYq0"
   },
   "source": [
    "#### 獲取每篇文章標題、連結"
   ]
  },
  {
   "cell_type": "code",
   "execution_count": 4,
   "metadata": {
    "colab": {
     "base_uri": "https://localhost:8080/"
    },
    "id": "N9vuuBiHUMqT",
    "outputId": "e4dc42f0-6326-4fdb-8f91-ea5a06853fe9"
   },
   "outputs": [
    {
     "name": "stdout",
     "output_type": "stream",
     "text": [
      "<class 'bs4.element.ResultSet'>\n",
      "60\n"
     ]
    }
   ],
   "source": [
    "item_list = soup.find(\"ul\", {\"class\": \"list boxTitle\"}).find_all(\"a\")\n",
    "\n",
    "print(type(item_list))\n",
    "print(len(item_list))"
   ]
  },
  {
   "cell_type": "code",
   "execution_count": 5,
   "metadata": {
    "colab": {
     "base_uri": "https://localhost:8080/"
    },
    "id": "N9vuuBiHUMqT",
    "outputId": "e4dc42f0-6326-4fdb-8f91-ea5a06853fe9"
   },
   "outputs": [
    {
     "data": {
      "text/plain": [
       "[('美學者：比起裴洛西訪台 中國更怕拿不到晶片',\n",
       "  'https://ec.ltn.com.tw/article/breakingnews/4011898'),\n",
       " ('趙少康︰歡迎裴洛西訪台 台灣要小心不被利用',\n",
       "  'https://news.ltn.com.tw/news/politics/breakingnews/4011677'),\n",
       " ('自由廣場》裴洛西揭穿了中國「國王的新衣」', 'https://talk.ltn.com.tw/article/paper/1532013'),\n",
       " ('研調：美國晶片法案加碼對中限制 將影響28、40奈米擴產',\n",
       "  'https://ec.ltn.com.tw/article/breakingnews/4010769'),\n",
       " ('自由開講》其實根本可以不用賣面子給臉書的！',\n",
       "  'https://talk.ltn.com.tw/article/breakingnews/4010429'),\n",
       " ('ASML 總裁大聊EUV避談中國  中芯想拿貨「作夢」？',\n",
       "  'https://ec.ltn.com.tw/article/breakingnews/4009807'),\n",
       " ('自由廣場》裴洛西來不來的推算', 'https://talk.ltn.com.tw/article/paper/1531860'),\n",
       " ('社論》誰在玩火自焚？', 'https://talk.ltn.com.tw/article/paper/1531846'),\n",
       " ('自由廣場》中國青年談裴洛西訪台', 'https://talk.ltn.com.tw/article/paper/1531627'),\n",
       " ('中國開抖音帳號 偷渡大外宣', 'https://news.ltn.com.tw/news/world/paper/1531677'),\n",
       " ('紐時：布林肯抗拒將俄羅斯列為「支持恐怖主義國家」',\n",
       "  'https://news.ltn.com.tw/news/world/breakingnews/4009219'),\n",
       " ('裴洛西訪台 川普批：她只會讓事情更糟',\n",
       "  'https://news.ltn.com.tw/news/world/breakingnews/4008573'),\n",
       " ('裴洛西不訪台將「三輸一贏」 范世平：台灣成唯一贏家',\n",
       "  'https://news.ltn.com.tw/news/politics/breakingnews/4008539'),\n",
       " ('川普打小白球「誤用」總統徽章 有違法之虞',\n",
       "  'https://news.ltn.com.tw/news/world/breakingnews/4008541'),\n",
       " ('美國第三政黨「前進黨」成立 台裔楊安澤任共同主席',\n",
       "  'https://news.ltn.com.tw/news/world/breakingnews/4007227'),\n",
       " ('楊安澤併前兩黨成員政黨 組美國第3大黨前進黨',\n",
       "  'https://news.ltn.com.tw/news/world/breakingnews/4007062'),\n",
       " ('自由廣場》中共孔子學院 死灰復燃', 'https://talk.ltn.com.tw/article/paper/1531058'),\n",
       " ('昔攻川普現襲拜登 中國擴大干擾期中選舉', 'https://news.ltn.com.tw/news/world/paper/1531216'),\n",
       " ('德國遠程武器運抵烏克蘭 俄軍在南部戰線增兵（不斷更新）',\n",
       "  'https://news.ltn.com.tw/news/world/breakingnews/4005138'),\n",
       " ('川普示警：若美國「將烏克蘭拱手讓給俄羅斯」中國將全面攻台',\n",
       "  'https://news.ltn.com.tw/news/world/breakingnews/4006193')]"
      ]
     },
     "execution_count": 5,
     "metadata": {},
     "output_type": "execute_result"
    }
   ],
   "source": [
    "##### Collect title and url\n",
    "\n",
    "article_list = []\n",
    "\n",
    "for item in item_list:\n",
    "    if 'ph' in item.get('class'):\n",
    "        title = item.get('title')\n",
    "        url   = item.get('href')\n",
    "        article_list.append((title, url))\n",
    "\n",
    "article_list"
   ]
  },
  {
   "cell_type": "markdown",
   "metadata": {
    "id": "t9MuM-jmzeO4"
   },
   "source": [
    "### (2) 使用 XPath 定位元素"
   ]
  },
  {
   "cell_type": "markdown",
   "metadata": {
    "id": "KmforoM7Vvf-"
   },
   "source": [
    "#### 定位文章列表處\n"
   ]
  },
  {
   "cell_type": "code",
   "execution_count": 6,
   "metadata": {
    "colab": {
     "base_uri": "https://localhost:8080/",
     "height": 196
    },
    "id": "q31hROpyV1CN",
    "outputId": "911e314e-62b4-47f3-f81b-1fcea482b853"
   },
   "outputs": [],
   "source": [
    "##### String to lxml element\n",
    "\n",
    "tree = lxml.html.fromstring(r.text)\n",
    "#tree.xpath('//ul[@class=\"list boxTitle\"]')[0].text_content()"
   ]
  },
  {
   "cell_type": "markdown",
   "metadata": {
    "id": "PePqFoWbWnuq"
   },
   "source": [
    "#### 獲取每篇文章標題、連結\n"
   ]
  },
  {
   "cell_type": "code",
   "execution_count": 7,
   "metadata": {},
   "outputs": [
    {
     "data": {
      "text/plain": [
       "[('美學者：比起裴洛西訪台 中國更怕拿不到晶片',\n",
       "  'https://ec.ltn.com.tw/article/breakingnews/4011898'),\n",
       " ('趙少康︰歡迎裴洛西訪台 台灣要小心不被利用',\n",
       "  'https://news.ltn.com.tw/news/politics/breakingnews/4011677'),\n",
       " ('自由廣場》裴洛西揭穿了中國「國王的新衣」', 'https://talk.ltn.com.tw/article/paper/1532013'),\n",
       " ('研調：美國晶片法案加碼對中限制 將影響28、40奈米擴產',\n",
       "  'https://ec.ltn.com.tw/article/breakingnews/4010769'),\n",
       " ('自由開講》其實根本可以不用賣面子給臉書的！',\n",
       "  'https://talk.ltn.com.tw/article/breakingnews/4010429'),\n",
       " ('ASML 總裁大聊EUV避談中國  中芯想拿貨「作夢」？',\n",
       "  'https://ec.ltn.com.tw/article/breakingnews/4009807'),\n",
       " ('自由廣場》裴洛西來不來的推算', 'https://talk.ltn.com.tw/article/paper/1531860'),\n",
       " ('社論》誰在玩火自焚？', 'https://talk.ltn.com.tw/article/paper/1531846'),\n",
       " ('自由廣場》中國青年談裴洛西訪台', 'https://talk.ltn.com.tw/article/paper/1531627'),\n",
       " ('中國開抖音帳號 偷渡大外宣', 'https://news.ltn.com.tw/news/world/paper/1531677'),\n",
       " ('紐時：布林肯抗拒將俄羅斯列為「支持恐怖主義國家」',\n",
       "  'https://news.ltn.com.tw/news/world/breakingnews/4009219'),\n",
       " ('裴洛西訪台 川普批：她只會讓事情更糟',\n",
       "  'https://news.ltn.com.tw/news/world/breakingnews/4008573'),\n",
       " ('裴洛西不訪台將「三輸一贏」 范世平：台灣成唯一贏家',\n",
       "  'https://news.ltn.com.tw/news/politics/breakingnews/4008539'),\n",
       " ('川普打小白球「誤用」總統徽章 有違法之虞',\n",
       "  'https://news.ltn.com.tw/news/world/breakingnews/4008541'),\n",
       " ('美國第三政黨「前進黨」成立 台裔楊安澤任共同主席',\n",
       "  'https://news.ltn.com.tw/news/world/breakingnews/4007227'),\n",
       " ('楊安澤併前兩黨成員政黨 組美國第3大黨前進黨',\n",
       "  'https://news.ltn.com.tw/news/world/breakingnews/4007062'),\n",
       " ('自由廣場》中共孔子學院 死灰復燃', 'https://talk.ltn.com.tw/article/paper/1531058'),\n",
       " ('昔攻川普現襲拜登 中國擴大干擾期中選舉', 'https://news.ltn.com.tw/news/world/paper/1531216'),\n",
       " ('德國遠程武器運抵烏克蘭 俄軍在南部戰線增兵（不斷更新）',\n",
       "  'https://news.ltn.com.tw/news/world/breakingnews/4005138'),\n",
       " ('川普示警：若美國「將烏克蘭拱手讓給俄羅斯」中國將全面攻台',\n",
       "  'https://news.ltn.com.tw/news/world/breakingnews/4006193')]"
      ]
     },
     "execution_count": 7,
     "metadata": {},
     "output_type": "execute_result"
    }
   ],
   "source": [
    "article_list_lxml = []\n",
    "\n",
    "for i in tree.xpath('//ul[@class=\"list boxTitle\"]')[0].xpath('//a[@class=\"ph\"]'):\n",
    "    title = i.attrib['title']\n",
    "    url   = i.attrib['href']\n",
    "    ### using attrib\n",
    "    #print(i.attrib['href'])\n",
    "    #print(type(i.attrib['href']))\n",
    "    ### using Xpath\n",
    "    #print(i.xpath('./@href')[0])\n",
    "    #print(type(i.xpath('./@href')[0]))\n",
    "    article_list_lxml.append((title, url))\n",
    "\n",
    "article_list_lxml"
   ]
  }
 ],
 "metadata": {
  "colab": {
   "collapsed_sections": [],
   "name": "Day18_hw.ipynb",
   "provenance": [],
   "toc_visible": true
  },
  "kernelspec": {
   "display_name": "Python 3",
   "language": "python",
   "name": "python3"
  },
  "language_info": {
   "codemirror_mode": {
    "name": "ipython",
    "version": 3
   },
   "file_extension": ".py",
   "mimetype": "text/x-python",
   "name": "python",
   "nbconvert_exporter": "python",
   "pygments_lexer": "ipython3",
   "version": "3.6.13"
  }
 },
 "nbformat": 4,
 "nbformat_minor": 1
}
