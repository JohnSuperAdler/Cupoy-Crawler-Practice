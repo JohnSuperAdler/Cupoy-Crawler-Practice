{
 "cells": [
  {
   "cell_type": "markdown",
   "metadata": {},
   "source": [
    "# Ettoday 網路爬蟲實作練習\n",
    "\n",
    "\n",
    "* 能夠利用 Request + BeatifulSour 撰寫爬蟲，並存放到合適的資料結構\n"
   ]
  },
  {
   "cell_type": "markdown",
   "metadata": {},
   "source": [
    "## 作業目標\n",
    "\n",
    "根據範例 ，完成以下問題：\n",
    "\n",
    "* ① 取出今天所有的發文\n",
    "* ② 如果想要依照類別分類，怎麼儲存會比較好？\n",
    "* ③ 哪一個類別的文章最多\n",
    "\n",
    "\n"
   ]
  },
  {
   "cell_type": "markdown",
   "metadata": {},
   "source": [
    "### ① 取出今天所有的發文"
   ]
  },
  {
   "cell_type": "code",
   "execution_count": 1,
   "metadata": {},
   "outputs": [],
   "source": [
    "import requests\n",
    "from bs4 import BeautifulSoup\n",
    "import datetime\n",
    "from collections import defaultdict"
   ]
  },
  {
   "cell_type": "code",
   "execution_count": 2,
   "metadata": {},
   "outputs": [],
   "source": [
    "def convert_str_to_date(datetime_str):\n",
    "    return datetime.datetime.strptime(datetime_str, '%Y/%m/%d %H:%M').date()"
   ]
  },
  {
   "cell_type": "code",
   "execution_count": 3,
   "metadata": {},
   "outputs": [],
   "source": [
    "url = 'https://www.ettoday.net/news/news-list.htm'\n",
    "html_txt = requests.get(url)\n",
    "soup = BeautifulSoup(html_txt.text)"
   ]
  },
  {
   "cell_type": "code",
   "execution_count": 4,
   "metadata": {},
   "outputs": [
    {
     "name": "stdout",
     "output_type": "stream",
     "text": [
      "100\n",
      "['BLACKPINK「4頂級珠寶」制霸VMA紅毯\\u3000Jisoo千萬紅寶石耳環氣勢驚人', '「少女蘇媽媽」何思靜放心把第一次交給他\\u3000床戰唐綸累到睡著', '主持劉德華演唱會被譙翻！\\u3000李好「下台哭了」道歉：別說我沒準備', '孝子遭親哥分屍！7兄妹心碎招魂「擲2聖筊」逮凶手\\u3000警驚：也太巧', '普丁新外交政策方針\\u3000捍衛「俄羅斯世界」傳統', '小煜加入《全明星》「膝蓋一直咔拉咔拉」！照X光驚：竟能比完賽季', '昆凌生完三寶...聞第四胎急到秒搖頭\\u3000當眾宣布「封肚」不生了！', '阿爆談楊丞琳「海鮮奢侈論」：不能只看片段\\u3000私推《女影》兩片單', '3家壽險淨值比跌破3％紅線\\u3000三商美邦擬辦理現增', '英國新首相特拉斯出任\\u3000外交部：盼拓展雙邊實質友好', '導演憂不能拍打戲\\u3000王一博堅定能吃苦「健身增肌」演緝毒警察', '專輔學校公布\\u3000私校工會估「最多2年退場」提醒考生避開', '新北五股守讓堂首座民俗童玩\\u3000獲融合遊戲認證歷史建築', '烤肉最佳配角！新北教自種青蔥不求人\\u3000打造居家新鮮食材庫', '歡慶週年大日子「夏宇童竟缺席」\\u3000孫協志親揭真實原因', '民進黨批國民黨「抄襲團隊持續擴大」\\u3000點名「這四人」組驚奇四抄人', '宋文華美國經紀人達成共識\\u3000統一獅安排體檢', '上市櫃公司H1海外投資收益6248億、年增逾8％\\u3000創史上新高', '慧洋新船長約與指數連結加高獲利\\u3000看運價在谷底邊緣年底前向上機率高', '田羽安分手楊子儀單身4年！阿西看開不催婚「不怕沒人拜」']\n"
     ]
    }
   ],
   "source": [
    "dt_today = datetime.datetime.today().date()\n",
    "\n",
    "title_store_li = []\n",
    "\n",
    "for d in soup.find(class_=\"part_list_2\").find_all('h3'):\n",
    "    item_dt_str = d.find(class_=\"date\").text\n",
    "    temp_dt = convert_str_to_date(item_dt_str)\n",
    "    if temp_dt == dt_today:\n",
    "        title_store_li.append(d.find_all('a')[-1].text)\n",
    "\n",
    "print(len(title_store_li))\n",
    "print(title_store_li[:20])"
   ]
  },
  {
   "cell_type": "markdown",
   "metadata": {},
   "source": [
    "### ② 如果想要依照類別分類，怎麼儲存會比較好？"
   ]
  },
  {
   "cell_type": "code",
   "execution_count": 5,
   "metadata": {},
   "outputs": [],
   "source": [
    "dt_today = datetime.datetime.today().date()\n",
    "class_store_di = defaultdict(list)\n",
    "\n",
    "for d in soup.find(class_=\"part_list_2\").find_all('h3'):\n",
    "    item_dt_str = d.find(class_=\"date\").text\n",
    "    temp_dt = convert_str_to_date(item_dt_str)\n",
    "    if temp_dt == dt_today:\n",
    "        #class_tag = d.find('em')['class'][1]\n",
    "        class_tag = d.find('em').text\n",
    "        class_store_di[class_tag].append(d.find_all('a')[-1].text)"
   ]
  },
  {
   "cell_type": "code",
   "execution_count": 6,
   "metadata": {},
   "outputs": [
    {
     "name": "stdout",
     "output_type": "stream",
     "text": [
      "時尚: 3\n",
      "影劇: 19\n",
      "社會: 11\n",
      "國際: 6\n",
      "財經: 8\n",
      "生活: 12\n",
      "地方: 7\n",
      "政治: 15\n",
      "體育: 6\n",
      "軍武: 1\n",
      "健康: 3\n",
      "大陸: 1\n",
      "房產雲: 2\n",
      "旅遊: 2\n",
      "3C家電: 1\n",
      "寵物動物: 1\n",
      "消費: 2\n"
     ]
    }
   ],
   "source": [
    "for key in class_store_di.keys():\n",
    "    print(f'{key}: {len(class_store_di[key])}')"
   ]
  },
  {
   "cell_type": "markdown",
   "metadata": {},
   "source": [
    "### ③ 哪一個類別的文章最多"
   ]
  },
  {
   "cell_type": "code",
   "execution_count": 7,
   "metadata": {
    "scrolled": true
   },
   "outputs": [
    {
     "name": "stdout",
     "output_type": "stream",
     "text": [
      "Max: ['影劇'], 19 items.\n"
     ]
    }
   ],
   "source": [
    "num_item = 0\n",
    "c_name = []\n",
    "\n",
    "for key, val in class_store_di.items():\n",
    "    if len(val) > num_item:\n",
    "        num_item = len(val)\n",
    "        c_name = [key]\n",
    "    elif len(val) == num_item:\n",
    "        c_name.append(key)\n",
    "\n",
    "print(f'Max: {c_name}, {num_item} items.')"
   ]
  }
 ],
 "metadata": {
  "kernelspec": {
   "display_name": "Python 3.9.12 ('megalopolis')",
   "language": "python",
   "name": "python3"
  },
  "language_info": {
   "codemirror_mode": {
    "name": "ipython",
    "version": 3
   },
   "file_extension": ".py",
   "mimetype": "text/x-python",
   "name": "python",
   "nbconvert_exporter": "python",
   "pygments_lexer": "ipython3",
   "version": "3.9.12"
  },
  "vscode": {
   "interpreter": {
    "hash": "aba495fb94a2b494fb8e77d8190c72dcfcb81a421c06460a70b223bed402d3b1"
   }
  }
 },
 "nbformat": 4,
 "nbformat_minor": 2
}
