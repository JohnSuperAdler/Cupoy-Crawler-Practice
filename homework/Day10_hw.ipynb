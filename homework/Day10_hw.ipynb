{
 "cells": [
  {
   "cell_type": "markdown",
   "metadata": {
    "id": "RmEW9BEct8Fk"
   },
   "source": [
    "## 作業說明\n",
    "\n",
    "Day10 我們介紹了 XML 檔案格式並學習如何用 Python 操作 XML 格式檔案\n",
    "\n",
    "今日作業我們針對 xml 套件來進行練習\n",
    "\n",
    "請嘗試填空以下代碼，獲得指定結果："
   ]
  },
  {
   "cell_type": "markdown",
   "metadata": {
    "id": "5kBP3fEwKVvn"
   },
   "source": [
    "# 請先上傳 `day10-example_data.xml` 到目錄\n",
    "![](https://i.imgur.com/5K6baaX.png)"
   ]
  },
  {
   "cell_type": "code",
   "execution_count": 1,
   "metadata": {
    "id": "8paO0vT8xBPE"
   },
   "outputs": [],
   "source": [
    "import xml.etree.ElementTree as ET\n",
    "import pandas as pd"
   ]
  },
  {
   "cell_type": "markdown",
   "metadata": {
    "id": "Un1sliJPKi3r"
   },
   "source": [
    "### 檔案讀取\n",
    "- 使用 `open()`"
   ]
  },
  {
   "cell_type": "code",
   "execution_count": 2,
   "metadata": {
    "colab": {
     "base_uri": "https://localhost:8080/"
    },
    "executionInfo": {
     "elapsed": 293,
     "status": "ok",
     "timestamp": 1653288654348,
     "user": {
      "displayName": "Abao JiunYiYang",
      "userId": "03267307845025036989"
     },
     "user_tz": -480
    },
    "id": "Yyied0YsLjH3",
    "outputId": "c51fe715-2aa1-4130-b56f-eb96de635f65"
   },
   "outputs": [
    {
     "data": {
      "text/plain": [
       "<Element '<book lang=\"en\" id=\"gio\" xmlns:xi=\"http://www.w3.org/2003/XInclude\">\\n<title>GIO Reference Manual</title>\\n  <bookinfo>\\n    <title>GIO Reference Manual</title>\\n    <releaseinfo>\\n      The latest version of this documentation can be found on-line at\\n      <ulink role=\"online-location\" url=\"https://developer.gnome.org/gio/unstable/\">https://developer.gnome.org/gio/unstable/</ulink>.\\n    </releaseinfo>\\n  </bookinfo>\\n\\n  <xi:include href=\"xml/overview.xml\"/>\\n\\n  <part>\\n  <title>API Reference</title>\\n    <chapter id=\"file_ops\">\\n        <title>File Operations</title>\\n        <xi:include href=\"xml/gfile.xml\"/>\\n        <xi:include href=\"xml/gfileattribute.xml\"/>\\n        <xi:include href=\"xml/gfileinfo.xml\"/>\\n        <xi:include href=\"xml/gfileenumerator.xml\"/>\\n        <xi:include href=\"xml/gioerror.xml\"/>\\n        <xi:include href=\"xml/gmountoperation.xml\"/>\\n    </chapter>\\n    <chapter id=\"file_mon\">\\n        <title>File System Monitoring</title>\\n        <xi:include href=\"xml/gfilemonitor.xml\"/>\\n    </chapter>\\n    <chapter id=\"utils\">\\n        <title>File-related Utilities</title>\\n        <xi:include href=\"xml/gfilenamecompleter.xml\"/>\\n    </chapter>\\n    <chapter id=\"async\">\\n        <title>Asynchronous I/O</title>\\n        <xi:include href=\"xml/gcancellable.xml\"/>\\n        <xi:include href=\"xml/gasyncresult.xml\"/>\\n        <xi:include href=\"xml/gtask.xml\"/>\\n        <xi:include href=\"xml/gioscheduler.xml\"/>\\n        <xi:include href=\"xml/gsimpleasyncresult.xml\"/>\\n    </chapter>\\n    <chapter id=\"conversion\">\\n        <title>Data conversion</title>\\n        <xi:include href=\"xml/gconverter.xml\"/>\\n        <xi:include href=\"xml/gcharsetconverter.xml\"/>\\n        <xi:include href=\"xml/gzcompressor.xml\"/>\\n        <xi:include href=\"xml/gzdecompressor.xml\"/>\\n    </chapter>\\n    <chapter id=\"streaming\">\\n        <title>Streaming I/O</title>\\n        <xi:include href=\"xml/gseekable.xml\"/>\\n        <xi:include href=\"xml/ginputstream.xml\"/>\\n        <xi:include href=\"xml/goutputstream.xml\"/>\\n        <xi:include href=\"xml/giostream.xml\"/>\\n        <xi:include href=\"xml/gsimpleiostream.xml\"/>\\n        <xi:include href=\"xml/gfileinputstream.xml\"/>\\n        <xi:include href=\"xml/gfileoutputstream.xml\"/>\\n        <xi:include href=\"xml/gfileiostream.xml\"/>\\n        <xi:include href=\"xml/gfiledescriptorbased.xml\"/>\\n        <xi:include href=\"xml/gfilterinputstream.xml\"/>\\n        <xi:include href=\"xml/gfilteroutputstream.xml\"/>\\n        <xi:include href=\"xml/gmemoryinputstream.xml\"/>\\n        <xi:include href=\"xml/gmemoryoutputstream.xml\"/>\\n        <xi:include href=\"xml/gbufferedinputstream.xml\"/>\\n        <xi:include href=\"xml/gbufferedoutputstream.xml\"/>\\n        <xi:include href=\"xml/gdatainputstream.xml\"/>\\n        <xi:include href=\"xml/gdataoutputstream.xml\"/>\\n        <xi:include href=\"xml/gunixinputstream.xml\"/>\\n        <xi:include href=\"xml/gunixoutputstream.xml\"/>\\n        <xi:include href=\"xml/gwin32inputstream.xml\"/>\\n        <xi:include href=\"xml/gwin32outputstream.xml\"/>\\n        <xi:include href=\"xml/gconverterinputstream.xml\"/>\\n        <xi:include href=\"xml/gconverteroutputstream.xml\"/>\\n        <xi:include href=\"xml/gpollableinputstream.xml\"/>\\n        <xi:include href=\"xml/gpollableoutputstream.xml\"/>\\n        <xi:include href=\"xml/gpollableutils.xml\"/>\\n    </chapter>\\n    <chapter id=\"types\">\\n        <title>File types and applications</title>\\n        <xi:include href=\"xml/gcontenttype.xml\"/>\\n        <xi:include href=\"xml/gappinfo.xml\"/>\\n        <xi:include href=\"xml/gappinfomonitor.xml\"/>\\n        <xi:include href=\"xml/gdesktopappinfo.xml\"/>\\n    </chapter>\\n    <chapter id=\"volume_mon\">\\n        <title>Volumes and Drives</title>\\n        <xi:include href=\"xml/gvolumemonitor.xml\"/>\\n        <xi:include href=\"xml/gvolume.xml\"/>\\n        <xi:include href=\"xml/gmount.xml\"/>\\n        <xi:include href=\"xml/gdrive.xml\"/>\\n        <xi:include href=\"xml/gunixmounts.xml\"/>\\n    </chapter>\\n    <chapter id=\"icons\">\\n        <title>Icons</title>\\n        <xi:include href=\"xml/gicon.xml\"/>\\n        <xi:include href=\"xml/gfileicon.xml\"/>\\n        <xi:include href=\"xml/gbytesicon.xml\"/>\\n        <xi:include href=\"xml/gloadableicon.xml\"/>\\n        <xi:include href=\"xml/gthemedicon.xml\"/>\\n        <xi:include href=\"xml/gemblemedicon.xml\"/>\\n        <xi:include href=\"xml/gemblem.xml\"/>\\n    </chapter>\\n    <chapter id=\"failable_initialization\">\\n        <title>Failable Initialization</title>\\n        <xi:include href=\"xml/ginitable.xml\"/>\\n        <xi:include href=\"xml/gasyncinitable.xml\"/>\\n    </chapter>\\n    <chapter id=\"subprocesses\">\\n      <title>Subprocesses</title>\\n      <xi:include href=\"xml/gsubprocess.xml\"/>\\n      <xi:include href=\"xml/gsubprocesslauncher.xml\"/>\\n    </chapter>\\n    <chapter id=\"networking\">\\n      <title>Low-level network support</title>\\n      <xi:include href=\"xml/gsocket.xml\"/>\\n      <xi:include href=\"xml/gdatagrambased.xml\"/>\\n      <xi:include href=\"xml/ginetaddress.xml\"/>\\n      <xi:include href=\"xml/ginetaddressmask.xml\"/>\\n      <xi:include href=\"xml/gsocketaddress.xml\"/>\\n      <xi:include href=\"xml/ginetsocketaddress.xml\"/>\\n      <xi:include href=\"xml/gunixsocketaddress.xml\"/>\\n      <xi:include href=\"xml/gsocketcontrolmessage.xml\"/>\\n      <xi:include href=\"xml/gunixfdlist.xml\"/>\\n      <xi:include href=\"xml/gunixfdmessage.xml\"/>\\n      <xi:include href=\"xml/gcredentials.xml\"/>\\n      <xi:include href=\"xml/gunixcredentialsmessage.xml\"/>\\n      <xi:include href=\"xml/gproxy.xml\"/>\\n      <xi:include href=\"xml/gproxyaddress.xml\"/>\\n      <xi:include href=\"xml/gnetworking.xml\"/>\\n    </chapter>\\n    <chapter id=\"highlevel-socket\">\\n      <title>High-level network functionallity</title>\\n      <xi:include href=\"xml/gsocketclient.xml\"/>\\n      <xi:include href=\"xml/gsocketconnection.xml\"/>\\n      <xi:include href=\"xml/gunixconnection.xml\"/>\\n      <xi:include href=\"xml/gtcpconnection.xml\"/>\\n      <xi:include href=\"xml/gtcpwrapperconnection.xml\"/>\\n      <xi:include href=\"xml/gsocketlistener.xml\"/>\\n      <xi:include href=\"xml/gsocketservice.xml\"/>\\n      <xi:include href=\"xml/gthreadedsocketservice.xml\"/>\\n      <xi:include href=\"xml/gnetworkmonitor.xml\"/>\\n    </chapter>\\n    <chapter id=\"tls\">\\n      <title>TLS (SSL) support</title>\\n      <xi:include href=\"xml/gtls.xml\"/>\\n      <xi:include href=\"xml/gtlscertificate.xml\"/>\\n      <xi:include href=\"xml/gtlsconnection.xml\"/>\\n      <xi:include href=\"xml/gtlsclientconnection.xml\"/>\\n      <xi:include href=\"xml/gtlsserverconnection.xml\"/>\\n      <xi:include href=\"xml/gdtlsconnection.xml\"/>\\n      <xi:include href=\"xml/gdtlsclientconnection.xml\"/>\\n      <xi:include href=\"xml/gdtlsserverconnection.xml\"/>\\n      <xi:include href=\"xml/gtlsbackend.xml\"/>\\n      <xi:include href=\"xml/gtlsdatabase.xml\"/>\\n      <xi:include href=\"xml/gtlsfiledatabase.xml\"/>\\n      <xi:include href=\"xml/gtlsinteraction.xml\"/>\\n      <xi:include href=\"xml/gtlspassword.xml\"/>\\n    </chapter>\\n    <chapter id=\"resolver\">\\n      <title>DNS resolution</title>\\n      <xi:include href=\"xml/gresolver.xml\"/>\\n      <xi:include href=\"xml/gproxyresolver.xml\"/>\\n      <xi:include href=\"xml/gsimpleproxyresolver.xml\"/>\\n      <xi:include href=\"xml/gsocketconnectable.xml\"/>\\n      <xi:include href=\"xml/gnetworkaddress.xml\"/>\\n      <xi:include href=\"xml/gnetworkservice.xml\"/>\\n      <xi:include href=\"xml/gsrvtarget.xml\"/>\\n    </chapter>\\n    <chapter id=\"gdbus-lowlevel\">\\n      <title>Low-level D-Bus Support</title>\\n      <xi:include href=\"xml/gdbusutils.xml\"/>\\n      <xi:include href=\"xml/gdbusaddress.xml\"/>\\n      <xi:include href=\"xml/gdbusintrospection.xml\"/>\\n      <xi:include href=\"xml/gdbuserror.xml\"/>\\n      <xi:include href=\"xml/gdbusmessage.xml\"/>\\n      <xi:include href=\"xml/gdbusconnection.xml\"/>\\n      <xi:include href=\"xml/gdbusmethodinvocation.xml\"/>\\n      <xi:include href=\"xml/gdbusserver.xml\"/>\\n      <xi:include href=\"xml/gdbusauthobserver.xml\"/>\\n    </chapter>\\n    <chapter id=\"gdbus-convenience\">\\n      <title>High-level D-Bus Support</title>\\n      <xi:include href=\"xml/gdbusnameowning.xml\"/>\\n      <xi:include href=\"xml/gdbusnamewatching.xml\"/>\\n      <xi:include href=\"xml/gdbusinterface.xml\"/>\\n      <xi:include href=\"xml/gdbusinterfaceskeleton.xml\"/>\\n      <xi:include href=\"xml/gdbusproxy.xml\"/>\\n      <xi:include href=\"xml/gdbusobject.xml\"/>\\n      <xi:include href=\"xml/gdbusobjectskeleton.xml\"/>\\n      <xi:include href=\"xml/gdbusobjectproxy.xml\"/>\\n      <xi:include href=\"xml/gdbusobjectmanager.xml\"/>\\n      <xi:include href=\"xml/gdbusobjectmanagerserver.xml\"/>\\n      <xi:include href=\"xml/gdbusobjectmanagerclient.xml\"/>\\n    </chapter>\\n    <chapter id=\"settings\">\\n        <title>Settings</title>\\n        <xi:include href=\"xml/gsettings.xml\"/>\\n        <xi:include href=\"xml/gsettingsbackend.xml\"/>\\n        <xi:include href=\"xml/gsettingsschema.xml\"/>\\n    </chapter>\\n    <chapter id=\"resources\">\\n        <title>Resources</title>\\n        <xi:include href=\"xml/gresource.xml\"/>\\n    </chapter>\\n    <chapter id=\\'permissions\\'>\\n        <title>Permissions</title>\\n        <xi:include href=\"xml/gpermission.xml\"/>\\n        <xi:include href=\"xml/gsimplepermission.xml\"/>\\n    </chapter>\\n    <chapter id=\\'data-models\\'>\\n        <title>Data Models</title>\\n        <xi:include href=\"xml/glistmodel.xml\"/>\\n        <xi:include href=\"xml/gliststore.xml\"/>\\n    </chapter>\\n    <chapter id=\\'registry\\'>\\n        <title>Win32 registry support</title>\\n        <xi:include href=\"xml/gwin32registrykey.xml\"/>\\n    </chapter>\\n    <chapter id=\"application\">\\n        <title>Application support</title>\\n        <xi:include href=\"xml/gapplication.xml\"/>\\n        <xi:include href=\"xml/gapplicationcommandline.xml\"/>\\n        <xi:include href=\"xml/gactiongroup.xml\"/>\\n        <xi:include href=\"xml/gactionmap.xml\"/>\\n        <xi:include href=\"xml/gsimpleactiongroup.xml\"/>\\n        <xi:include href=\"xml/gaction.xml\"/>\\n        <xi:include href=\"xml/gsimpleaction.xml\"/>\\n        <xi:include href=\"xml/gpropertyaction.xml\"/>\\n        <xi:include href=\"xml/gremoteactiongroup.xml\"/>\\n        <xi:include href=\"xml/gactiongroupexporter.xml\"/>\\n        <xi:include href=\"xml/gdbusactiongroup.xml\"/>\\n        <xi:include href=\"xml/gmenumodel.xml\"/>\\n        <xi:include href=\"xml/gmenu.xml\"/>\\n        <xi:include href=\"xml/gmenuexporter.xml\"/>\\n        <xi:include href=\"xml/gdbusmenumodel.xml\"/>\\n        <xi:include href=\"xml/gnotification.xml\"/>\\n    </chapter>\\n    <chapter id=\"extending\">\\n        <title>Extending GIO</title>\\n        <xi:include href=\"xml/gvfs.xml\"/>\\n        <xi:include href=\"xml/giomodule.xml\"/>\\n        <xi:include href=\"xml/extensionpoints.xml\"/>\\n    </chapter>\\n    <chapter id=\"tools\">\\n        <title>GIO Tools</title>\\n        <xi:include href=\"gio-querymodules.xml\"/>\\n        <xi:include href=\"gsettings.xml\"/>\\n        <xi:include href=\"glib-compile-schemas.xml\"/>\\n        <xi:include href=\"glib-compile-resources.xml\"/>\\n        <xi:include href=\"gdbus.xml\"/>\\n        <xi:include href=\"xml/gdbus-codegen.xml\"/>\\n        <xi:include href=\"gresource.xml\"/>\\n        <xi:include href=\"gapplication.xml\"/>\\n        <xi:include href=\"gio.xml\"/>\\n    </chapter>\\n    <chapter id=\"testing\">\\n        <title>GIO Testing</title>\\n        <xi:include href=\"xml/gtestdbus.xml\"/>\\n    </chapter>\\n  </part>\\n\\n  <part id=\"migrating\">\\n    <title>Migrating to GIO</title>\\n    <xi:include href=\"xml/migrating-posix.xml\"/>\\n    <xi:include href=\"xml/migrating-gnome-vfs.xml\"/>\\n    <xi:include href=\"xml/migrating-gconf.xml\"/>\\n    <xi:include href=\"xml/migrating-gdbus.xml\"/>\\n  </part>\\n\\n  <chapter id=\"gio-hierarchy\">\\n    <title>Object Hierarchy</title>\\n      <xi:include href=\"xml/tree_index.sgml\"/>\\n  </chapter>\\n  \\n  <index id=\"api-index-full\">\\n    <title id=\"index-all\">Index</title>\\n    <xi:include href=\"xml/api-index-full.xml\"><xi:fallback /></xi:include>\\n  </index>\\n  <index id=\"api-index-deprecated\" role=\"deprecated\">\\n    <title>Index of deprecated symbols</title>\\n    <xi:include href=\"xml/api-index-deprecated.xml\"><xi:fallback /></xi:include>\\n  </index>\\n  <index id=\"api-index-2-18\" role=\"2.18\">\\n    <title>Index of new symbols in 2.18</title>\\n    <xi:include href=\"xml/api-index-2.18.xml\"><xi:fallback /></xi:include>\\n  </index>\\n  <index id=\"api-index-2-20\" role=\"2.20\">\\n    <title>Index of new symbols in 2.20</title>\\n    <xi:include href=\"xml/api-index-2.20.xml\"><xi:fallback /></xi:include>\\n  </index>\\n  <index id=\"api-index-2-22\" role=\"2.22\">\\n    <title>Index of new symbols in 2.22</title>\\n    <xi:include href=\"xml/api-index-2.22.xml\"><xi:fallback /></xi:include>\\n  </index>\\n  <index id=\"api-index-2-24\" role=\"2.24\">\\n    <title>Index of new symbols in 2.24</title>\\n    <xi:include href=\"xml/api-index-2.24.xml\"><xi:fallback /></xi:include>\\n  </index>\\n  <index id=\"api-index-2-26\" role=\"2.26\">\\n    <title>Index of new symbols in 2.26</title>\\n    <xi:include href=\"xml/api-index-2.26.xml\"><xi:fallback /></xi:include>\\n  </index>\\n  <index id=\"api-index-2-28\" role=\"2.28\">\\n    <title>Index of new symbols in 2.28</title>\\n    <xi:include href=\"xml/api-index-2.28.xml\"><xi:fallback /></xi:include>\\n  </index>\\n  <index id=\"api-index-2-30\" role=\"2.30\">\\n    <title>Index of new symbols in 2.30</title>\\n    <xi:include href=\"xml/api-index-2.30.xml\"><xi:fallback /></xi:include>\\n  </index>\\n  <index id=\"api-index-2-32\" role=\"2.32\">\\n    <title>Index of new symbols in 2.32</title>\\n    <xi:include href=\"xml/api-index-2.32.xml\"><xi:fallback /></xi:include>\\n  </index>\\n  <index id=\"api-index-2-34\" role=\"2.34\">\\n    <title>Index of new symbols in 2.34</title>\\n    <xi:include href=\"xml/api-index-2.34.xml\"><xi:fallback /></xi:include>\\n  </index>\\n  <index id=\"api-index-2-36\" role=\"2.36\">\\n    <title>Index of new symbols in 2.36</title>\\n    <xi:include href=\"xml/api-index-2.36.xml\"><xi:fallback /></xi:include>\\n  </index>\\n  <index id=\"api-index-2-38\" role=\"2.38\">\\n    <title>Index of new symbols in 2.38</title>\\n    <xi:include href=\"xml/api-index-2.38.xml\"><xi:fallback /></xi:include>\\n  </index>\\n  <index id=\"api-index-2-40\" role=\"2.40\">\\n    <title>Index of new symbols in 2.40</title>\\n    <xi:include href=\"xml/api-index-2.40.xml\"><xi:fallback /></xi:include>\\n  </index>\\n  <index id=\"api-index-2-42\" role=\"2.42\">\\n    <title>Index of new symbols in 2.42</title>\\n    <xi:include href=\"xml/api-index-2.42.xml\"><xi:fallback /></xi:include>\\n  </index>\\n  <index id=\"api-index-2-44\" role=\"2.44\">\\n    <title>Index of new symbols in 2.44</title>\\n    <xi:include href=\"xml/api-index-2.44.xml\"><xi:fallback /></xi:include>\\n  </index>\\n  <index id=\"api-index-2-46\" role=\"2.46\">\\n    <title>Index of new symbols in 2.46</title>\\n    <xi:include href=\"xml/api-index-2.46.xml\"><xi:fallback /></xi:include>\\n  </index>\\n  <index id=\"api-index-2-48\" role=\"2.48\">\\n    <title>Index of new symbols in 2.48</title>\\n    <xi:include href=\"xml/api-index-2.48.xml\"><xi:fallback /></xi:include>\\n  </index>\\n  <index id=\"api-index-2-50\" role=\"2.50\">\\n    <title>Index of new symbols in 2.50</title>\\n    <xi:include href=\"xml/api-index-2.50.xml\"><xi:fallback /></xi:include>\\n  </index>\\n  <index id=\"api-index-2-52\" role=\"2.52\">\\n    <title>Index of new symbols in 2.52</title>\\n    <xi:include href=\"xml/api-index-2.52.xml\"><xi:fallback /></xi:include>\\n  </index>\\n\\n  <xi:include href=\"xml/annotation-glossary.xml\"><xi:fallback /></xi:include>\\n</book>' at 0x000001C471058408>"
      ]
     },
     "execution_count": 2,
     "metadata": {},
     "output_type": "execute_result"
    }
   ],
   "source": [
    "filename = \"database/Day10_example_data.xml\"\n",
    "data = open(filename, \"r\").read()\n",
    "store = ET.Element(data)\n",
    "store"
   ]
  },
  {
   "cell_type": "markdown",
   "metadata": {
    "id": "4hBPRm3ETZqN"
   },
   "source": [
    "### 格式轉換\n",
    "- 從 `str` 轉為 `xml Element`\n",
    "  - 使用 `.fromstring()`\n",
    "\n",
    "\n"
   ]
  },
  {
   "cell_type": "code",
   "execution_count": 3,
   "metadata": {
    "colab": {
     "base_uri": "https://localhost:8080/"
    },
    "executionInfo": {
     "elapsed": 523,
     "status": "ok",
     "timestamp": 1653288730972,
     "user": {
      "displayName": "Abao JiunYiYang",
      "userId": "03267307845025036989"
     },
     "user_tz": -480
    },
    "id": "KRsVYq-yIv35",
    "outputId": "0ad26719-8c1f-4d48-959a-62daa9afc971"
   },
   "outputs": [
    {
     "data": {
      "text/plain": [
       "<Element 'store' at 0x000001C471078228>"
      ]
     },
     "execution_count": 3,
     "metadata": {},
     "output_type": "execute_result"
    }
   ],
   "source": [
    "xml_string = \"\"\"\n",
    "<store name=\"bookstore\">\n",
    "  <book lang=\"en\" id=\"gio\" xmlns:xi=\"http://www.w3.org/2003/XInclude\">\n",
    "    <bookinfo>\n",
    "      <title>GIO Reference Manual</title>\n",
    "      <releaseinfo>\n",
    "        The latest version of this documentation can be found on-line at\n",
    "        <ulink role=\"online-location\" url=\"https://developer.gnome.org/gio/unstable/\">https://developer.gnome.org/gio/unstable/</ulink>.\n",
    "      </releaseinfo>\n",
    "    </bookinfo>\n",
    "  </book>\n",
    "</store>\n",
    "\"\"\"\n",
    "\n",
    "root = ET.fromstring(xml_string)\n",
    "root"
   ]
  },
  {
   "cell_type": "markdown",
   "metadata": {
    "id": "gTsS2lBWxWxt"
   },
   "source": [
    "### 取得特定節點內容\n",
    "- 取得 `<title>` 標籤內的文字"
   ]
  },
  {
   "cell_type": "code",
   "execution_count": 4,
   "metadata": {
    "colab": {
     "base_uri": "https://localhost:8080/",
     "height": 35
    },
    "executionInfo": {
     "elapsed": 525,
     "status": "ok",
     "timestamp": 1653288732026,
     "user": {
      "displayName": "Abao JiunYiYang",
      "userId": "03267307845025036989"
     },
     "user_tz": -480
    },
    "id": "jF9VhpzKeRH1",
    "outputId": "075f659b-caa3-4489-bc35-5f1edfb96bb5"
   },
   "outputs": [
    {
     "data": {
      "text/plain": [
       "'GIO Reference Manual'"
      ]
     },
     "execution_count": 4,
     "metadata": {},
     "output_type": "execute_result"
    }
   ],
   "source": [
    "root.find(\"book/bookinfo/title\").text"
   ]
  },
  {
   "cell_type": "markdown",
   "metadata": {
    "id": "MDCXWBIteenH"
   },
   "source": [
    "- 取得 `<releaseinfo>` 內的 `<ulink>` 中的 `role` 屬性"
   ]
  },
  {
   "cell_type": "code",
   "execution_count": 5,
   "metadata": {
    "colab": {
     "base_uri": "https://localhost:8080/",
     "height": 35
    },
    "executionInfo": {
     "elapsed": 6,
     "status": "ok",
     "timestamp": 1653288734121,
     "user": {
      "displayName": "Abao JiunYiYang",
      "userId": "03267307845025036989"
     },
     "user_tz": -480
    },
    "id": "9ho2Yl7r_2p_",
    "outputId": "54ee4e9a-8797-43d4-c09d-98edcab15a6c"
   },
   "outputs": [
    {
     "data": {
      "text/plain": [
       "'online-location'"
      ]
     },
     "execution_count": 5,
     "metadata": {},
     "output_type": "execute_result"
    }
   ],
   "source": [
    "root.find(\"book/bookinfo/releaseinfo/ulink\").get(\"role\")"
   ]
  },
  {
   "cell_type": "markdown",
   "metadata": {
    "id": "_Q1UUjk4jW3Q"
   },
   "source": [
    "### 新增節點屬性\n",
    "- 在 `<releaseinfo>` 中新增 `publish_date` 的屬性"
   ]
  },
  {
   "cell_type": "code",
   "execution_count": 6,
   "metadata": {
    "colab": {
     "base_uri": "https://localhost:8080/"
    },
    "executionInfo": {
     "elapsed": 6,
     "status": "ok",
     "timestamp": 1653288734652,
     "user": {
      "displayName": "Abao JiunYiYang",
      "userId": "03267307845025036989"
     },
     "user_tz": -480
    },
    "id": "e9bWxx-TjWnZ",
    "outputId": "fe2580ef-231b-4e6c-98e7-0443deaf947d"
   },
   "outputs": [
    {
     "name": "stdout",
     "output_type": "stream",
     "text": [
      "1999-01-01\n"
     ]
    }
   ],
   "source": [
    "release_info = root.find(\"book/bookinfo/releaseinfo\")\n",
    "release_info.set(\"publish_date\", \"1999-01-01\")\n",
    "print(root.find(\"book/bookinfo/releaseinfo\").get(\"publish_date\"))"
   ]
  },
  {
   "cell_type": "markdown",
   "metadata": {
    "id": "ZJPuXE9BixbH"
   },
   "source": [
    "### 修改特定節點屬性\n",
    "- 將 `<ulink>` 屬性 `role` 改為 \"offline-location\""
   ]
  },
  {
   "cell_type": "code",
   "execution_count": 7,
   "metadata": {
    "id": "Drs_iLOei3z3"
   },
   "outputs": [],
   "source": [
    "ulink = root.find(\"book/bookinfo/releaseinfo/ulink\")\n",
    "ulink.set(\"role\", \"offline-location\")"
   ]
  },
  {
   "cell_type": "code",
   "execution_count": 8,
   "metadata": {
    "colab": {
     "base_uri": "https://localhost:8080/",
     "height": 35
    },
    "executionInfo": {
     "elapsed": 4,
     "status": "ok",
     "timestamp": 1653288736200,
     "user": {
      "displayName": "Abao JiunYiYang",
      "userId": "03267307845025036989"
     },
     "user_tz": -480
    },
    "id": "s6jsYhrfjFQl",
    "outputId": "92229b9e-4e7a-44b9-f2da-d9e0727118c4"
   },
   "outputs": [
    {
     "data": {
      "text/plain": [
       "'offline-location'"
      ]
     },
     "execution_count": 8,
     "metadata": {},
     "output_type": "execute_result"
    }
   ],
   "source": [
    "root.find(\"book/bookinfo/releaseinfo/ulink\").get(\"role\")"
   ]
  },
  {
   "cell_type": "markdown",
   "metadata": {
    "id": "CffiXKMjkGJW"
   },
   "source": [
    "### 新增節點"
   ]
  },
  {
   "cell_type": "code",
   "execution_count": 9,
   "metadata": {
    "colab": {
     "base_uri": "https://localhost:8080/"
    },
    "executionInfo": {
     "elapsed": 9,
     "status": "ok",
     "timestamp": 1653288736750,
     "user": {
      "displayName": "Abao JiunYiYang",
      "userId": "03267307845025036989"
     },
     "user_tz": -480
    },
    "id": "UX-pK-H9kH9d",
    "outputId": "c208df5f-d2b8-4e50-ef71-d8bd555fb524"
   },
   "outputs": [
    {
     "name": "stdout",
     "output_type": "stream",
     "text": [
      "<store name=\"bookstore\">\n",
      "  <book id=\"gio\" lang=\"en\">\n",
      "    <bookinfo>\n",
      "      <title>GIO Reference Manual</title>\n",
      "      <releaseinfo publish_date=\"1999-01-01\">\n",
      "        The latest version of this documentation can be found on-line at\n",
      "        <ulink role=\"offline-location\" url=\"https://developer.gnome.org/gio/unstable/\">https://developer.gnome.org/gio/unstable/</ulink>.\n",
      "      </releaseinfo>\n",
      "    </bookinfo>\n",
      "  </book>\n",
      "<book id=\"hio\" lang=\"en\" /></store>\n"
     ]
    }
   ],
   "source": [
    "book2 = ET.SubElement(root, \"book\")\n",
    "book2.set(\"id\", \"hio\")\n",
    "book2.set(\"lang\", \"en\")\n",
    "ET.dump(root)"
   ]
  },
  {
   "cell_type": "code",
   "execution_count": 10,
   "metadata": {
    "colab": {
     "base_uri": "https://localhost:8080/"
    },
    "executionInfo": {
     "elapsed": 257,
     "status": "ok",
     "timestamp": 1653288740349,
     "user": {
      "displayName": "Abao JiunYiYang",
      "userId": "03267307845025036989"
     },
     "user_tz": -480
    },
    "id": "_5uH0yjOmF4P",
    "outputId": "6ae8c8d1-0dba-4846-cb92-e3236fe6449e"
   },
   "outputs": [
    {
     "name": "stdout",
     "output_type": "stream",
     "text": [
      "<store name=\"bookstore\">\n",
      "  <book id=\"gio\" lang=\"en\">\n",
      "    <bookinfo>\n",
      "      <title>GIO Reference Manual</title>\n",
      "      <releaseinfo publish_date=\"1999-01-01\">\n",
      "        The latest version of this documentation can be found on-line at\n",
      "        <ulink role=\"offline-location\" url=\"https://developer.gnome.org/gio/unstable/\">https://developer.gnome.org/gio/unstable/</ulink>.\n",
      "      </releaseinfo>\n",
      "    </bookinfo>\n",
      "  </book>\n",
      "<book id=\"hio\" lang=\"en\"><bookinfo><title>HIO Reference Manual</title><releaseinfo publish_date=\"1999-02-12\">The latest version of this documentation can't be found online</releaseinfo></bookinfo></book></store>\n"
     ]
    }
   ],
   "source": [
    "bookinfo2 = ET.SubElement(book2, \"bookinfo\")\n",
    "title2 = ET.SubElement(bookinfo2, \"title\")\n",
    "title2.text = \"HIO Reference Manual\"\n",
    "releaseinfo2 = ET.SubElement(bookinfo2, \"releaseinfo\")\n",
    "releaseinfo2.set(\"publish_date\", \"1999-02-12\")\n",
    "releaseinfo2.text = \"The latest version of this documentation can't be found online\"\n",
    "ET.dump(root)"
   ]
  },
  {
   "cell_type": "code",
   "execution_count": 11,
   "metadata": {
    "colab": {
     "base_uri": "https://localhost:8080/"
    },
    "executionInfo": {
     "elapsed": 6,
     "status": "ok",
     "timestamp": 1653288741626,
     "user": {
      "displayName": "Abao JiunYiYang",
      "userId": "03267307845025036989"
     },
     "user_tz": -480
    },
    "id": "zH1fg50Dm7XW",
    "outputId": "d2fc5632-75d3-4ab3-8476-576573c05159"
   },
   "outputs": [
    {
     "data": {
      "text/plain": [
       "['1999-01-01', '1999-02-12']"
      ]
     },
     "execution_count": 11,
     "metadata": {},
     "output_type": "execute_result"
    }
   ],
   "source": [
    "[item.get(\"publish_date\") for item in root.findall(\"book/bookinfo/releaseinfo\")]"
   ]
  },
  {
   "cell_type": "markdown",
   "metadata": {
    "id": "T1EuFlRDjQo3"
   },
   "source": [
    "### 移除特定節點\n",
    "- 使用 `root.remove(node)`"
   ]
  },
  {
   "cell_type": "code",
   "execution_count": 12,
   "metadata": {
    "id": "DQEEiA34xp5F"
   },
   "outputs": [],
   "source": [
    "for book in root.findall(\"book\"):\n",
    "    pub_date = book.find(\"bookinfo/releaseinfo\").get(\"publish_date\")\n",
    "    if pub_date < \"1999-02-01\":\n",
    "        root.remove(book)"
   ]
  },
  {
   "cell_type": "code",
   "execution_count": 13,
   "metadata": {
    "colab": {
     "base_uri": "https://localhost:8080/"
    },
    "executionInfo": {
     "elapsed": 9,
     "status": "ok",
     "timestamp": 1653288744275,
     "user": {
      "displayName": "Abao JiunYiYang",
      "userId": "03267307845025036989"
     },
     "user_tz": -480
    },
    "id": "172ca8ATnjoz",
    "outputId": "2dd05c48-c611-437d-cc1b-c5cc0464909c"
   },
   "outputs": [
    {
     "name": "stdout",
     "output_type": "stream",
     "text": [
      "<store name=\"bookstore\">\n",
      "  <book id=\"hio\" lang=\"en\">\n",
      "    <bookinfo>\n",
      "      <title>HIO Reference Manual</title>\n",
      "      <releaseinfo publish_date=\"1999-02-12\">The latest version of this documentation can't be found online</releaseinfo>\n",
      "    </bookinfo>\n",
      "  </book>\n",
      "</store>\n"
     ]
    }
   ],
   "source": [
    "# 印出確認刪除節點後的樣貌\n",
    "def indent(elem, level=0):\n",
    "    i = \"\\n\" + level*\"  \"\n",
    "    if len(elem):\n",
    "        if not elem.text or not elem.text.strip():\n",
    "            elem.text = i + \"  \"\n",
    "        if not elem.tail or not elem.tail.strip():\n",
    "            elem.tail = i\n",
    "        for e in elem:\n",
    "            indent(e, level+1)\n",
    "        if not e.tail or not e.tail.strip():\n",
    "            e.tail = i\n",
    "    else:\n",
    "        if level and (not elem.tail or not elem.tail.strip()):\n",
    "            elem.tail = i\n",
    "\n",
    "indent(root)\n",
    "ET.dump(root)"
   ]
  },
  {
   "cell_type": "markdown",
   "metadata": {
    "id": "LWyjSj8Bn8--"
   },
   "source": [
    "### 存為 XML 格式\n",
    "- 使用 `tree.write()`"
   ]
  },
  {
   "cell_type": "code",
   "execution_count": 14,
   "metadata": {
    "id": "sl6hibQlE4hG"
   },
   "outputs": [],
   "source": [
    "output_filename = \"output/Day10_output_data.xml\"\n",
    "output = open(output_filename, \"wb\")\n",
    "tree = ET.ElementTree(root)\n",
    "tree.write(output, xml_declaration=True, encoding=\"utf-8\")\n"
   ]
  },
  {
   "cell_type": "code",
   "execution_count": 15,
   "metadata": {
    "colab": {
     "base_uri": "https://localhost:8080/"
    },
    "executionInfo": {
     "elapsed": 229,
     "status": "ok",
     "timestamp": 1653288909456,
     "user": {
      "displayName": "Abao JiunYiYang",
      "userId": "03267307845025036989"
     },
     "user_tz": -480
    },
    "id": "KxKntLbiqAQu",
    "outputId": "183b3232-e3d3-4819-ab45-fc9981311ebf"
   },
   "outputs": [
    {
     "name": "stdout",
     "output_type": "stream",
     "text": [
      "<store name=\"bookstore\">\n",
      "  <book id=\"hio\" lang=\"en\">\n",
      "    <bookinfo>\n",
      "      <title>HIO Reference Manual</title>\n",
      "      <releaseinfo publish_date=\"1999-02-12\">The latest version of this documentation can't be found online</releaseinfo>\n",
      "    </bookinfo>\n",
      "  </book>\n",
      "</store>\n"
     ]
    }
   ],
   "source": [
    "# 讀取確認寫出的檔案有效\n",
    "test = ET.XML(open(output_filename, \"r\").read())\n",
    "ET.dump(test)"
   ]
  },
  {
   "cell_type": "markdown",
   "metadata": {
    "id": "COwYZS-wxI4l"
   },
   "source": [
    "![](https://i.imgur.com/ogtU8zJ.png)"
   ]
  },
  {
   "cell_type": "code",
   "execution_count": null,
   "metadata": {
    "id": "tka8PJQCrFA2"
   },
   "outputs": [],
   "source": []
  }
 ],
 "metadata": {
  "colab": {
   "authorship_tag": "ABX9TyMuNhBnwrbaX0t0pltFSl+o",
   "collapsed_sections": [],
   "name": "Day10_hw.ipynb",
   "provenance": [],
   "toc_visible": true
  },
  "kernelspec": {
   "display_name": "Python 3",
   "language": "python",
   "name": "python3"
  },
  "language_info": {
   "codemirror_mode": {
    "name": "ipython",
    "version": 3
   },
   "file_extension": ".py",
   "mimetype": "text/x-python",
   "name": "python",
   "nbconvert_exporter": "python",
   "pygments_lexer": "ipython3",
   "version": "3.7.7"
  }
 },
 "nbformat": 4,
 "nbformat_minor": 1
}
