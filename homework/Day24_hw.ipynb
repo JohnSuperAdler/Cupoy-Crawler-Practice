{
 "cells": [
  {
   "cell_type": "markdown",
   "metadata": {},
   "source": [
    "# PTT 網路爬蟲實作練習\n",
    "\n",
    "\n",
    "* 能夠利用 Request + BeatifulSour 撰寫爬蟲，並存放到合適的資料結構\n"
   ]
  },
  {
   "cell_type": "markdown",
   "metadata": {},
   "source": [
    "## 作業目標\n",
    "\n",
    "根據範例 ，完成以下問題：\n",
    "\n",
    "* ① 印出最新文章的「作者」「標題」「時間」\n",
    "* ② 印出第一頁所有文章的「作者」「標題」「時間」\n"
   ]
  },
  {
   "cell_type": "markdown",
   "metadata": {},
   "source": [
    "### ① 印出最新文章的「作者」「標題」「時間」"
   ]
  },
  {
   "cell_type": "code",
   "execution_count": 1,
   "metadata": {},
   "outputs": [],
   "source": [
    "import requests\n",
    "from bs4 import BeautifulSoup\n",
    "import datetime"
   ]
  },
  {
   "cell_type": "code",
   "execution_count": 2,
   "metadata": {},
   "outputs": [],
   "source": [
    "#def convert_str_to_datetime(datetime_str, exp_format='%Y/%m/%d %H:%M'):\n",
    "#    return datetime.datetime.strptime(datetime_str, exp_format)"
   ]
  },
  {
   "cell_type": "code",
   "execution_count": 3,
   "metadata": {},
   "outputs": [],
   "source": [
    "url = 'https://www.ptt.cc/bbs/NBA/index.html'\n",
    "req_html = requests.get(url)\n",
    "soup = BeautifulSoup(req_html.text)"
   ]
  },
  {
   "cell_type": "code",
   "execution_count": 8,
   "metadata": {},
   "outputs": [
    {
     "name": "stdout",
     "output_type": "stream",
     "text": [
      "Latest article:\n",
      "Article: [花邊] 熱火「隊魂」也怕他！坦承「教父」氣場太\n",
      "Author: thnlkj0665\n",
      "Date: 9/06\n"
     ]
    }
   ],
   "source": [
    "stop_at = soup.find('div', class_='r-list-sep') # stop tag\n",
    "filtered_soup = stop_at.find_all_previous('div', class_='r-ent')\n",
    "\n",
    "latest_soup = filtered_soup[0]\n",
    "\n",
    "author = latest_soup.find(class_='author').text\n",
    "date = latest_soup.find(class_='date').text.strip()\n",
    "title = latest_soup.find('a').text\n",
    "\n",
    "print('Latest article:')\n",
    "print(f'Article: {title}')\n",
    "print(f'Author: {author}')\n",
    "print(f'Date: {date}')"
   ]
  },
  {
   "cell_type": "code",
   "execution_count": 7,
   "metadata": {},
   "outputs": [
    {
     "data": {
      "text/plain": [
       "12"
      ]
     },
     "execution_count": 7,
     "metadata": {},
     "output_type": "execute_result"
    }
   ],
   "source": [
    "len(filtered_soup)"
   ]
  },
  {
   "cell_type": "code",
   "execution_count": null,
   "metadata": {},
   "outputs": [],
   "source": [
    "for s in soup.find_all(class_='r-ent'):\n",
    "    author = s.find(class_='author').text\n",
    "    date = s.find(class_='date').text.strip()\n",
    "    title = s.find('a').text\n",
    "    \n"
   ]
  },
  {
   "cell_type": "code",
   "execution_count": 4,
   "metadata": {},
   "outputs": [
    {
     "data": {
      "text/plain": [
       "14"
      ]
     },
     "execution_count": 4,
     "metadata": {},
     "output_type": "execute_result"
    }
   ],
   "source": [
    "len(soup.find_all(class_='r-ent'))"
   ]
  },
  {
   "cell_type": "code",
   "execution_count": 5,
   "metadata": {},
   "outputs": [
    {
     "data": {
      "text/plain": [
       "<div class=\"r-ent\">\n",
       "<div class=\"nrec\"><span class=\"hl f3\">10</span></div>\n",
       "<div class=\"title\">\n",
       "<a href=\"/bbs/NBA/M.1662397423.A.945.html\">Re: [花邊] Jason Williams:喬丹在這時代得分會更難</a>\n",
       "</div>\n",
       "<div class=\"meta\">\n",
       "<div class=\"author\">Bibby99</div>\n",
       "<div class=\"article-menu\">\n",
       "<div class=\"trigger\">⋯</div>\n",
       "<div class=\"dropdown\">\n",
       "<div class=\"item\"><a href=\"/bbs/NBA/search?q=thread%3A%5B%E8%8A%B1%E9%82%8A%5D+Jason+Williams%3A%E5%96%AC%E4%B8%B9%E5%9C%A8%E9%80%99%E6%99%82%E4%BB%A3%E5%BE%97%E5%88%86%E6%9C%83%E6%9B%B4%E9%9B%A3\">搜尋同標題文章</a></div>\n",
       "<div class=\"item\"><a href=\"/bbs/NBA/search?q=author%3ABibby99\">搜尋看板內 Bibby99 的文章</a></div>\n",
       "</div>\n",
       "</div>\n",
       "<div class=\"date\"> 9/06</div>\n",
       "<div class=\"mark\"></div>\n",
       "</div>\n",
       "</div>"
      ]
     },
     "execution_count": 5,
     "metadata": {},
     "output_type": "execute_result"
    }
   ],
   "source": [
    "soup.find_all(class_='r-ent')[0]"
   ]
  },
  {
   "cell_type": "code",
   "execution_count": 8,
   "metadata": {},
   "outputs": [
    {
     "data": {
      "text/plain": [
       "'Bibby99'"
      ]
     },
     "execution_count": 8,
     "metadata": {},
     "output_type": "execute_result"
    }
   ],
   "source": [
    "soup.find_all(class_='r-ent')[0].find(class_='author').text"
   ]
  },
  {
   "cell_type": "code",
   "execution_count": 10,
   "metadata": {},
   "outputs": [
    {
     "data": {
      "text/plain": [
       "'9/06'"
      ]
     },
     "execution_count": 10,
     "metadata": {},
     "output_type": "execute_result"
    }
   ],
   "source": [
    "soup.find_all(class_='r-ent')[0].find(class_='date').text.strip()"
   ]
  },
  {
   "cell_type": "code",
   "execution_count": 11,
   "metadata": {},
   "outputs": [
    {
     "data": {
      "text/plain": [
       "'Re: [花邊] Jason Williams:喬丹在這時代得分會更難'"
      ]
     },
     "execution_count": 11,
     "metadata": {},
     "output_type": "execute_result"
    }
   ],
   "source": [
    "soup.find_all(class_='r-ent')[0].find('a').text"
   ]
  },
  {
   "cell_type": "code",
   "execution_count": null,
   "metadata": {},
   "outputs": [],
   "source": [
    "'''\n",
    "Your Code\n",
    "'''"
   ]
  },
  {
   "cell_type": "markdown",
   "metadata": {},
   "source": [
    "### ② 印出第一頁所有文章的「作者」「標題」「時間」"
   ]
  },
  {
   "cell_type": "code",
   "execution_count": null,
   "metadata": {},
   "outputs": [],
   "source": [
    "'''\n",
    "Your Code\n",
    "'''"
   ]
  },
  {
   "cell_type": "markdown",
   "metadata": {},
   "source": [
    "### ③ 試著爬爬看其他版的文章"
   ]
  },
  {
   "cell_type": "code",
   "execution_count": null,
   "metadata": {},
   "outputs": [],
   "source": [
    "'''\n",
    "Your Code\n",
    "'''"
   ]
  }
 ],
 "metadata": {
  "kernelspec": {
   "display_name": "Python 3.9.12 ('megalopolis')",
   "language": "python",
   "name": "python3"
  },
  "language_info": {
   "codemirror_mode": {
    "name": "ipython",
    "version": 3
   },
   "file_extension": ".py",
   "mimetype": "text/x-python",
   "name": "python",
   "nbconvert_exporter": "python",
   "pygments_lexer": "ipython3",
   "version": "3.9.12"
  },
  "vscode": {
   "interpreter": {
    "hash": "aba495fb94a2b494fb8e77d8190c72dcfcb81a421c06460a70b223bed402d3b1"
   }
  }
 },
 "nbformat": 4,
 "nbformat_minor": 2
}
