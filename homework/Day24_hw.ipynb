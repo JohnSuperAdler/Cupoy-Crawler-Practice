{
 "cells": [
  {
   "cell_type": "markdown",
   "metadata": {},
   "source": [
    "# PTT 網路爬蟲實作練習\n",
    "\n",
    "\n",
    "* 能夠利用 Request + BeatifulSour 撰寫爬蟲，並存放到合適的資料結構\n"
   ]
  },
  {
   "cell_type": "markdown",
   "metadata": {},
   "source": [
    "## 作業目標\n",
    "\n",
    "根據範例 ，完成以下問題：\n",
    "\n",
    "* ① 印出最新文章的「作者」「標題」「時間」\n",
    "* ② 印出第一頁所有文章的「作者」「標題」「時間」\n"
   ]
  },
  {
   "cell_type": "markdown",
   "metadata": {},
   "source": [
    "### ① 印出最新文章的「作者」「標題」「時間」"
   ]
  },
  {
   "cell_type": "code",
   "execution_count": 18,
   "metadata": {},
   "outputs": [],
   "source": [
    "import requests\n",
    "from bs4 import BeautifulSoup\n",
    "import datetime"
   ]
  },
  {
   "cell_type": "code",
   "execution_count": 19,
   "metadata": {},
   "outputs": [],
   "source": [
    "#def convert_str_to_datetime(datetime_str, exp_format='%Y/%m/%d %H:%M'):\n",
    "#    return datetime.datetime.strptime(datetime_str, exp_format)"
   ]
  },
  {
   "cell_type": "code",
   "execution_count": 20,
   "metadata": {},
   "outputs": [],
   "source": [
    "url = 'https://www.ptt.cc/bbs/NBA/index.html'\n",
    "req_html = requests.get(url)\n",
    "soup = BeautifulSoup(req_html.text)"
   ]
  },
  {
   "cell_type": "code",
   "execution_count": 21,
   "metadata": {},
   "outputs": [
    {
     "name": "stdout",
     "output_type": "stream",
     "text": [
      "Latest article:\n",
      "Article: (本文已被刪除) [ppp123]\n",
      "Author: -\n",
      "Date: 9/06\n"
     ]
    }
   ],
   "source": [
    "stop_at = soup.find('div', class_='r-list-sep') # stop tag\n",
    "filtered_soup = stop_at.find_all_previous('div', class_='r-ent')\n",
    "\n",
    "latest_soup = filtered_soup[0] # start finding form <div class_=\"r-list-sep\"></div>, reverse direction\n",
    "\n",
    "author = latest_soup.find(class_='author').text\n",
    "date = latest_soup.find(class_='date').text.strip()\n",
    "try:\n",
    "    title = latest_soup.find('a').text\n",
    "except:\n",
    "    title = latest_soup.find('div', class_='title').text.strip()\n",
    "\n",
    "print('Latest article:')\n",
    "print(f'Article: {title}')\n",
    "print(f'Author: {author}')\n",
    "print(f'Date: {date}')"
   ]
  },
  {
   "cell_type": "markdown",
   "metadata": {},
   "source": [
    "### ② 印出第一頁所有文章的「作者」「標題」「時間」"
   ]
  },
  {
   "cell_type": "code",
   "execution_count": 22,
   "metadata": {},
   "outputs": [
    {
     "name": "stdout",
     "output_type": "stream",
     "text": [
      "9/06\tBibby99\tRe: [花邊] Jason Williams:喬丹在這時代得分會更難\n",
      "9/06\tlove1500274\t[情報] 拓荒者和Devontae Cacok簽下訓練營合約\n",
      "9/06\tWojnarowski\t[花邊] LBJ稱讚Frances Tiafoe：年輕的國王\n",
      "9/06\tassggy\t[花邊] 2K23 Ben Simmons能力值:84\n",
      "9/06\tseguignol\t[新聞] 就要留你!詹皇父子老家看球 全場喊:我們\n",
      "9/06\tVedan\t[公告] pneumo、sckennytang實習小組長代管NBA板\n",
      "9/06\tJcHsu\t[新聞] 《NBA 2K23》球員能力值曝光 衛少大幅下\n",
      "9/06\tcody7052\t[情報] Dirk Nowitzki：Giannis每年都在不斷進步\n",
      "9/06\tc27932589\tRe: [新聞] 《NBA 2K23》球員能力值曝光 衛少大幅下\n",
      "9/06\t-\t(本文已被刪除) [goodgooddad]\n",
      "9/06\tsodistrues\t[花邊]比爾觀戰 詹皇恭賀 帝亞弗賽後欣喜若狂\n",
      "9/06\tthnlkj0665\t[花邊] 熱火「隊魂」也怕他！坦承「教父」氣場太\n",
      "9/06\t-\t(本文已被刪除) [ppp123]\n",
      "4/15\tpneumo\t[公告] 板規v10.0\n",
      "6/24\tlaigei\t[情報] 2022-23 自由市場 開市前整理   (7/26)\n",
      "6/24\tlaigei\t[情報] 2022-23 自由市場 球隊異動表格 (7/26)\n",
      "8/14\tBainite\t[公告] 板主徵選延長\n"
     ]
    }
   ],
   "source": [
    "filtered_soup = soup.find_all('div', class_='r-ent')\n",
    "\n",
    "for s in range(len(filtered_soup)):\n",
    "    author = filtered_soup[s].find(class_='author').text\n",
    "    date = filtered_soup[s].find(class_='date').text.strip()\n",
    "    try:\n",
    "        title = filtered_soup[s].find('a').text\n",
    "    except:\n",
    "        title = filtered_soup[s].find('div', class_='title').text.strip()\n",
    "    print(f'{date}\\t{author}\\t{title}')"
   ]
  },
  {
   "cell_type": "markdown",
   "metadata": {},
   "source": [
    "### ③ 試著爬爬看其他版的文章"
   ]
  },
  {
   "cell_type": "code",
   "execution_count": 23,
   "metadata": {},
   "outputs": [],
   "source": [
    "url = 'https://www.ptt.cc/bbs/Gossiping/index.html'\n",
    "req_html = requests.get(url, headers={'cookie':'_ga=GA1.2.2059797887.1578444341; _gid=GA1.2.598533125.1662468919; over18=1; _gat=1'})\n",
    "soup = BeautifulSoup(req_html.text)"
   ]
  },
  {
   "cell_type": "code",
   "execution_count": 24,
   "metadata": {},
   "outputs": [
    {
     "name": "stdout",
     "output_type": "stream",
     "text": [
      "9/06\tdrinkmuffin\t[問卦] 搬家會因為距離有這麼大的價格變化嗎？\n",
      "9/06\tThisisLongID\t[新聞] 林耕仁論文涉抄襲 沈慧虹：請即刻退選！\n",
      "9/06\tlinbasohigh\t[問卦] 為什麼台灣有國家統一綱領？\n",
      "9/06\tchadmu\t[問卦] 有沒有HCG的八卦？\n",
      "9/06\twang111283\t[問卦] 認真問台北有未來嗎？\n",
      "9/06\tifulita\t[新聞] 告狀南一中生沒讓座　反被網罵爆！阿伯\n",
      "9/06\tskn60694\t[問卦] 路人底迪棄坑手遊 如何處置?\n",
      "9/06\teddisontw\t[新聞] 影／BA.5疫情再起「逛夜市」可否邊走邊吃\n",
      "9/06\tlove1129\t[問卦] 維基的超難頁面都是誰編輯的？\n",
      "9/06\tyukihira\t[新聞] 台南吊車勾高壓電線 父目睹2子喪生心如刀\n",
      "9/06\tiammatrix\tRe: [新聞] 林耕仁論文涉抄襲 沈慧虹：請即刻退選！\n",
      "9/06\talexhsu0909\t[問卦] 廖老大證明你各位都有能力賺到錢\n",
      "2/21\tubcs\t[公告] 八卦板板規(2022.02.21)\n",
      "8/13\tlwt501cx\t[公告] 帳號盜用列表&精華區收藏路徑\n",
      "9/02\tjohnnygodsa\t[協尋] 9/2 18:35 淡水家樂福 行車紀錄器畫面\n",
      "9/06\tubcs\t[公告] 八卦板中秋節停止戶外烤肉改線上活動預告\n",
      "9/06\tHAN6520\t[協尋] 尋人啟事 - 台南建興國中國一男生\n"
     ]
    }
   ],
   "source": [
    "filtered_soup = soup.find_all('div', class_='r-ent')\n",
    "\n",
    "for s in range(len(filtered_soup)):\n",
    "    author = filtered_soup[s].find(class_='author').text\n",
    "    date = filtered_soup[s].find(class_='date').text.strip()\n",
    "    try:\n",
    "        title = filtered_soup[s].find('a').text\n",
    "    except:\n",
    "        title = filtered_soup[s].find('div', class_='title').text.strip()\n",
    "    print(f'{date}\\t{author}\\t{title}')"
   ]
  },
  {
   "cell_type": "code",
   "execution_count": null,
   "metadata": {},
   "outputs": [],
   "source": []
  }
 ],
 "metadata": {
  "kernelspec": {
   "display_name": "Python 3.9.12 ('megalopolis')",
   "language": "python",
   "name": "python3"
  },
  "language_info": {
   "codemirror_mode": {
    "name": "ipython",
    "version": 3
   },
   "file_extension": ".py",
   "mimetype": "text/x-python",
   "name": "python",
   "nbconvert_exporter": "python",
   "pygments_lexer": "ipython3",
   "version": "3.9.12"
  },
  "vscode": {
   "interpreter": {
    "hash": "aba495fb94a2b494fb8e77d8190c72dcfcb81a421c06460a70b223bed402d3b1"
   }
  }
 },
 "nbformat": 4,
 "nbformat_minor": 2
}
