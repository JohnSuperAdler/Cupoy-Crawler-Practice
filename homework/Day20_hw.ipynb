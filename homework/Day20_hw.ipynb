{
 "cells": [
  {
   "cell_type": "markdown",
   "metadata": {
    "id": "RmEW9BEct8Fk"
   },
   "source": [
    "# Day20\n",
    "## 網頁結構解析：使用 lxml 套件操作 XPath\n",
    "- 使用 lxml.html\n",
    "- 使用 XPath 語法獲取子節點"
   ]
  },
  {
   "cell_type": "markdown",
   "metadata": {
    "id": "CmrQ2eOx7X2U"
   },
   "source": [
    "## 作業說明\n",
    "由於 Day18 作業我們已經練習過一些定位工具，今天使用和 Day19 一樣的網站，針對 XPath 更多變化用法再深入練習吧。\n",
    "\n",
    "- 題目網站：\n",
    "https://pokemondb.net/pokedex/all\n",
    "- 使用 XPath 技巧把寶可夢表格抓下來"
   ]
  },
  {
   "cell_type": "markdown",
   "metadata": {},
   "source": [
    "## Self memo\n",
    "\n",
    "- [Xpath cheatsheet](https://devhints.io/xpath)"
   ]
  },
  {
   "cell_type": "code",
   "execution_count": 1,
   "metadata": {
    "id": "2vDuolRl88hz"
   },
   "outputs": [],
   "source": [
    "import lxml.html\n",
    "import requests"
   ]
  },
  {
   "cell_type": "markdown",
   "metadata": {
    "id": "ZbDTtqaRTnGD"
   },
   "source": [
    "### `GET` Request"
   ]
  },
  {
   "cell_type": "code",
   "execution_count": 2,
   "metadata": {
    "colab": {
     "base_uri": "https://localhost:8080/"
    },
    "id": "K1ONgiThK57V",
    "outputId": "9c0b9317-0a61-485b-d894-7e459c85dad6"
   },
   "outputs": [
    {
     "name": "stdout",
     "output_type": "stream",
     "text": [
      "200\n",
      "\n",
      "<!DOCTYPE html>\n",
      "<html lang=\"en\">\n",
      "<head>\n",
      "<meta charset=\"utf-8\">\n",
      "<title>Pokémon Pokédex: list of Pokémon with stats | Pokémon Database</title>\n",
      "<link rel=\"preconnect\" href=\"https://img.pokemondb.net\">\n",
      "<style>@font-face{font-family:\"Fira Sans\";font-style:normal;font-weight:400;font-display:swap;src:url(\"/static/fonts/fira-sans-v10-latin-400.woff2\") format(\"woff2\");unicode-range:U+0000-00FF,U+0131,U+0152-0153,U+02BB-02BC,U+02C6,U+02DA,U+02DC,U+2000-206F,U+2074,U+20AC,U+2122,U+2191,U+2193,U+2212,U+2215,U+FEFF,U+FFFD}@font-face{font-family:\"Fira Sans\";font-style:italic;font-weight:400;font-display:swap;src:url(\"/static/fonts/fira-sans-v10-latin-400i.woff2\") format(\"woff2\");unicode-range:U+0000-00FF,U+0131,U+0152-0153,U+02BB-02BC,U+02C6,U+02DA,U+02DC,U+2000-206F,U+2074,U+20AC,U+2122,U+2191,U+2193,U+2212,U+2215,U+FEFF,U+FFFD}@font-face{font-family:\"Fira Sans\";font-style:normal;font-weight:700;font-display:swap;src:url(\"/static/fonts/fira-sans-v10-latin-600.woff2\") format(\"woff2\");unicode-range:\n"
     ]
    }
   ],
   "source": [
    "url = 'https://pokemondb.net/pokedex/all'\n",
    "req_txt = requests.get(url)\n",
    "print(req_txt.status_code)\n",
    "print()\n",
    "print(req_txt.text[:1000])"
   ]
  },
  {
   "cell_type": "markdown",
   "metadata": {
    "id": "aTkbyICTKk9R"
   },
   "source": [
    "### 轉為 HTML Element 物件\n",
    "- 使用 `lxml.html.fromstring()`"
   ]
  },
  {
   "cell_type": "code",
   "execution_count": 3,
   "metadata": {
    "colab": {
     "base_uri": "https://localhost:8080/"
    },
    "id": "5OFshcBqTzWM",
    "outputId": "7b75991b-286f-4d53-bab0-2039b2228ece"
   },
   "outputs": [
    {
     "data": {
      "text/plain": [
       "<Element html at 0x1b25ff89368>"
      ]
     },
     "execution_count": 3,
     "metadata": {},
     "output_type": "execute_result"
    }
   ],
   "source": [
    "# 轉為 Element 物件\n",
    "\n",
    "tree = lxml.html.fromstring(req_txt.text)\n",
    "\n",
    "tree"
   ]
  },
  {
   "cell_type": "markdown",
   "metadata": {
    "id": "NYkukXglWGKT"
   },
   "source": [
    "### 指定相符特徵的節點\n",
    "- 找到寶可夢資訊表格\n",
    "- 使用：`tree.xpath('//<tag_name>[@<attribute>=<attribute_value>]')`\n"
   ]
  },
  {
   "cell_type": "code",
   "execution_count": 4,
   "metadata": {
    "colab": {
     "base_uri": "https://localhost:8080/"
    },
    "id": "N9vuuBiHUMqT",
    "outputId": "c8a4aa79-e426-491f-f027-d4ab124a3f37"
   },
   "outputs": [],
   "source": [
    "table = tree.xpath('//table[@id=\"pokedex\"]')[0]"
   ]
  },
  {
   "cell_type": "markdown",
   "metadata": {
    "id": "0Ug_m4s2wzC1"
   },
   "source": [
    "### 連續查找\n",
    "- 取得所有表格中的列"
   ]
  },
  {
   "cell_type": "code",
   "execution_count": 5,
   "metadata": {
    "id": "nQAdXkewwygN"
   },
   "outputs": [],
   "source": [
    "header = table.xpath('//thead/tr/th/div/text()')\n",
    "body_rows = table.xpath('//tbody/tr')"
   ]
  },
  {
   "cell_type": "markdown",
   "metadata": {
    "id": "61PQ74yH-2Bw"
   },
   "source": [
    "### 指定節點文字相符：找出文字是 Ivysaur 的節點\n",
    "- Hint: 使用 `tree.xpath('//<tag_name>[text()=\"some_string\"]')`"
   ]
  },
  {
   "cell_type": "code",
   "execution_count": 6,
   "metadata": {
    "colab": {
     "base_uri": "https://localhost:8080/",
     "height": 35
    },
    "id": "WnLgNjg47Oq4",
    "outputId": "1b62682f-9e2a-4864-bf0f-6021a611abd9"
   },
   "outputs": [
    {
     "data": {
      "text/plain": [
       "'Ivysaur'"
      ]
     },
     "execution_count": 6,
     "metadata": {},
     "output_type": "execute_result"
    }
   ],
   "source": [
    "table.xpath('//a[text()=\"Ivysaur\"]/text()')[0]"
   ]
  },
  {
   "cell_type": "markdown",
   "metadata": {
    "id": "MYXF4GyC_qi2"
   },
   "source": [
    "### 找出屬性包含部分文字的節點：找出各種類型的寶可夢種類標籤\n",
    "\n",
    "- 包含： `tree.xpath('//<tag_name>[contains(<attribute>, <attribute_value>)]')`\n",
    "- 不包含： `tree.xpath('//<tag_name>[not(contains(<attribute>, <attribute_value>))]')`"
   ]
  },
  {
   "cell_type": "code",
   "execution_count": 7,
   "metadata": {
    "colab": {
     "base_uri": "https://localhost:8080/"
    },
    "id": "eUPhP3fo70TS",
    "outputId": "319579f0-dfcc-41ab-adb1-a4fa4dd6af68"
   },
   "outputs": [
    {
     "data": {
      "text/plain": [
       "['Bug',\n",
       " 'Dark',\n",
       " 'Dragon',\n",
       " 'Electric',\n",
       " 'Fairy',\n",
       " 'Fighting',\n",
       " 'Fire',\n",
       " 'Flying',\n",
       " 'Ghost',\n",
       " 'Grass',\n",
       " 'Ground',\n",
       " 'Ice',\n",
       " 'Normal',\n",
       " 'Poison',\n",
       " 'Psychic',\n",
       " 'Rock',\n",
       " 'Steel',\n",
       " 'Water']"
      ]
     },
     "execution_count": 7,
     "metadata": {},
     "output_type": "execute_result"
    }
   ],
   "source": [
    "# 找出各種類型的寶可夢種類標籤(GRASS, POISON, ...)，用 set 過濾出不重複種類有哪幾種\n",
    "\n",
    "sorted(list(set(table.xpath('//tbody//td[@class=\"cell-icon\"]//a//text()'))))"
   ]
  },
  {
   "cell_type": "markdown",
   "metadata": {
    "id": "1Sao7e1vFtsE"
   },
   "source": [
    "### 將資訊組成表格"
   ]
  },
  {
   "cell_type": "code",
   "execution_count": 8,
   "metadata": {
    "id": "4Ka-hqfIDjew"
   },
   "outputs": [
    {
     "name": "stdout",
     "output_type": "stream",
     "text": [
      "['#', 'Name', 'Type', 'Total', 'HP', 'Attack', 'Defense', 'Sp. Atk', 'Sp. Def', 'Speed']\n",
      "[['001', 'Bulbasaur', 'Grass Poison', '318', '45', '49', '49', '65', '65', '45'], ['002', 'Ivysaur', 'Grass Poison', '405', '60', '62', '63', '80', '80', '60'], ['003', 'Venusaur', 'Grass Poison', '525', '80', '82', '83', '100', '100', '80'], ['003', 'Venusaur Mega Venusaur', 'Grass Poison', '625', '80', '100', '123', '122', '120', '80'], ['004', 'Charmander', 'Fire ', '309', '39', '52', '43', '60', '50', '65'], ['005', 'Charmeleon', 'Fire ', '405', '58', '64', '58', '80', '65', '80'], ['006', 'Charizard', 'Fire Flying', '534', '78', '84', '78', '109', '85', '100'], ['006', 'Charizard Mega Charizard X', 'Fire Dragon', '634', '78', '130', '111', '130', '85', '100'], ['006', 'Charizard Mega Charizard Y', 'Fire Flying', '634', '78', '104', '78', '159', '115', '100'], ['007', 'Squirtle', 'Water ', '314', '44', '48', '65', '50', '64', '43']]\n"
     ]
    }
   ],
   "source": [
    "header_cols = table.xpath('//thead/tr/th/div/text()')\n",
    "row_values = [[''.join(j.xpath('.//text()')) for j in i.xpath('./td')] for i in table.xpath('//tbody/tr')]\n",
    "\n",
    "print(header_cols)\n",
    "print(row_values[:10])"
   ]
  },
  {
   "cell_type": "code",
   "execution_count": 9,
   "metadata": {
    "colab": {
     "base_uri": "https://localhost:8080/",
     "height": 424
    },
    "id": "ovFc5koyHEnd",
    "outputId": "047677e5-6ba4-4780-91bf-77ad981d4424"
   },
   "outputs": [
    {
     "data": {
      "text/html": [
       "<div>\n",
       "<style scoped>\n",
       "    .dataframe tbody tr th:only-of-type {\n",
       "        vertical-align: middle;\n",
       "    }\n",
       "\n",
       "    .dataframe tbody tr th {\n",
       "        vertical-align: top;\n",
       "    }\n",
       "\n",
       "    .dataframe thead th {\n",
       "        text-align: right;\n",
       "    }\n",
       "</style>\n",
       "<table border=\"1\" class=\"dataframe\">\n",
       "  <thead>\n",
       "    <tr style=\"text-align: right;\">\n",
       "      <th></th>\n",
       "      <th>#</th>\n",
       "      <th>Name</th>\n",
       "      <th>Type</th>\n",
       "      <th>Total</th>\n",
       "      <th>HP</th>\n",
       "      <th>Attack</th>\n",
       "      <th>Defense</th>\n",
       "      <th>Sp. Atk</th>\n",
       "      <th>Sp. Def</th>\n",
       "      <th>Speed</th>\n",
       "    </tr>\n",
       "  </thead>\n",
       "  <tbody>\n",
       "    <tr>\n",
       "      <th>0</th>\n",
       "      <td>001</td>\n",
       "      <td>Bulbasaur</td>\n",
       "      <td>[Grass, Poison]</td>\n",
       "      <td>318</td>\n",
       "      <td>45</td>\n",
       "      <td>49</td>\n",
       "      <td>49</td>\n",
       "      <td>65</td>\n",
       "      <td>65</td>\n",
       "      <td>45</td>\n",
       "    </tr>\n",
       "    <tr>\n",
       "      <th>1</th>\n",
       "      <td>002</td>\n",
       "      <td>Ivysaur</td>\n",
       "      <td>[Grass, Poison]</td>\n",
       "      <td>405</td>\n",
       "      <td>60</td>\n",
       "      <td>62</td>\n",
       "      <td>63</td>\n",
       "      <td>80</td>\n",
       "      <td>80</td>\n",
       "      <td>60</td>\n",
       "    </tr>\n",
       "    <tr>\n",
       "      <th>2</th>\n",
       "      <td>003</td>\n",
       "      <td>Venusaur</td>\n",
       "      <td>[Grass, Poison]</td>\n",
       "      <td>525</td>\n",
       "      <td>80</td>\n",
       "      <td>82</td>\n",
       "      <td>83</td>\n",
       "      <td>100</td>\n",
       "      <td>100</td>\n",
       "      <td>80</td>\n",
       "    </tr>\n",
       "    <tr>\n",
       "      <th>3</th>\n",
       "      <td>003</td>\n",
       "      <td>Venusaur Mega Venusaur</td>\n",
       "      <td>[Grass, Poison]</td>\n",
       "      <td>625</td>\n",
       "      <td>80</td>\n",
       "      <td>100</td>\n",
       "      <td>123</td>\n",
       "      <td>122</td>\n",
       "      <td>120</td>\n",
       "      <td>80</td>\n",
       "    </tr>\n",
       "    <tr>\n",
       "      <th>4</th>\n",
       "      <td>004</td>\n",
       "      <td>Charmander</td>\n",
       "      <td>[Fire]</td>\n",
       "      <td>309</td>\n",
       "      <td>39</td>\n",
       "      <td>52</td>\n",
       "      <td>43</td>\n",
       "      <td>60</td>\n",
       "      <td>50</td>\n",
       "      <td>65</td>\n",
       "    </tr>\n",
       "    <tr>\n",
       "      <th>...</th>\n",
       "      <td>...</td>\n",
       "      <td>...</td>\n",
       "      <td>...</td>\n",
       "      <td>...</td>\n",
       "      <td>...</td>\n",
       "      <td>...</td>\n",
       "      <td>...</td>\n",
       "      <td>...</td>\n",
       "      <td>...</td>\n",
       "      <td>...</td>\n",
       "    </tr>\n",
       "    <tr>\n",
       "      <th>1070</th>\n",
       "      <td>902</td>\n",
       "      <td>Basculegion Female</td>\n",
       "      <td>[Water, Ghost]</td>\n",
       "      <td>530</td>\n",
       "      <td>120</td>\n",
       "      <td>92</td>\n",
       "      <td>65</td>\n",
       "      <td>100</td>\n",
       "      <td>75</td>\n",
       "      <td>78</td>\n",
       "    </tr>\n",
       "    <tr>\n",
       "      <th>1071</th>\n",
       "      <td>903</td>\n",
       "      <td>Sneasler</td>\n",
       "      <td>[Poison, Fighting]</td>\n",
       "      <td>510</td>\n",
       "      <td>80</td>\n",
       "      <td>130</td>\n",
       "      <td>60</td>\n",
       "      <td>40</td>\n",
       "      <td>80</td>\n",
       "      <td>120</td>\n",
       "    </tr>\n",
       "    <tr>\n",
       "      <th>1072</th>\n",
       "      <td>904</td>\n",
       "      <td>Overqwil</td>\n",
       "      <td>[Dark, Poison]</td>\n",
       "      <td>510</td>\n",
       "      <td>85</td>\n",
       "      <td>115</td>\n",
       "      <td>95</td>\n",
       "      <td>65</td>\n",
       "      <td>65</td>\n",
       "      <td>85</td>\n",
       "    </tr>\n",
       "    <tr>\n",
       "      <th>1073</th>\n",
       "      <td>905</td>\n",
       "      <td>Enamorus Incarnate Forme</td>\n",
       "      <td>[Fairy, Flying]</td>\n",
       "      <td>580</td>\n",
       "      <td>74</td>\n",
       "      <td>115</td>\n",
       "      <td>70</td>\n",
       "      <td>135</td>\n",
       "      <td>80</td>\n",
       "      <td>106</td>\n",
       "    </tr>\n",
       "    <tr>\n",
       "      <th>1074</th>\n",
       "      <td>905</td>\n",
       "      <td>Enamorus Therian Forme</td>\n",
       "      <td>[Fairy, Flying]</td>\n",
       "      <td>580</td>\n",
       "      <td>74</td>\n",
       "      <td>115</td>\n",
       "      <td>110</td>\n",
       "      <td>135</td>\n",
       "      <td>100</td>\n",
       "      <td>46</td>\n",
       "    </tr>\n",
       "  </tbody>\n",
       "</table>\n",
       "<p>1075 rows × 10 columns</p>\n",
       "</div>"
      ],
      "text/plain": [
       "        #                      Name                Type Total   HP Attack  \\\n",
       "0     001                 Bulbasaur     [Grass, Poison]   318   45     49   \n",
       "1     002                   Ivysaur     [Grass, Poison]   405   60     62   \n",
       "2     003                  Venusaur     [Grass, Poison]   525   80     82   \n",
       "3     003    Venusaur Mega Venusaur     [Grass, Poison]   625   80    100   \n",
       "4     004                Charmander              [Fire]   309   39     52   \n",
       "...   ...                       ...                 ...   ...  ...    ...   \n",
       "1070  902        Basculegion Female      [Water, Ghost]   530  120     92   \n",
       "1071  903                  Sneasler  [Poison, Fighting]   510   80    130   \n",
       "1072  904                  Overqwil      [Dark, Poison]   510   85    115   \n",
       "1073  905  Enamorus Incarnate Forme     [Fairy, Flying]   580   74    115   \n",
       "1074  905    Enamorus Therian Forme     [Fairy, Flying]   580   74    115   \n",
       "\n",
       "     Defense Sp. Atk Sp. Def Speed  \n",
       "0         49      65      65    45  \n",
       "1         63      80      80    60  \n",
       "2         83     100     100    80  \n",
       "3        123     122     120    80  \n",
       "4         43      60      50    65  \n",
       "...      ...     ...     ...   ...  \n",
       "1070      65     100      75    78  \n",
       "1071      60      40      80   120  \n",
       "1072      95      65      65    85  \n",
       "1073      70     135      80   106  \n",
       "1074     110     135     100    46  \n",
       "\n",
       "[1075 rows x 10 columns]"
      ]
     },
     "execution_count": 9,
     "metadata": {},
     "output_type": "execute_result"
    }
   ],
   "source": [
    "import pandas as pd\n",
    "\n",
    "df = pd.DataFrame(row_values, columns=header_cols)\n",
    "df[\"Type\"] = df[\"Type\"].apply(lambda x: x.strip().split(\" \"))\n",
    "df"
   ]
  },
  {
   "cell_type": "code",
   "execution_count": 10,
   "metadata": {
    "colab": {
     "base_uri": "https://localhost:8080/"
    },
    "id": "dSTy1rgBIV9b",
    "outputId": "6b945317-7322-4d16-c604-04a9ca78dc59"
   },
   "outputs": [
    {
     "name": "stdout",
     "output_type": "stream",
     "text": [
      "<class 'pandas.core.frame.DataFrame'>\n",
      "RangeIndex: 1075 entries, 0 to 1074\n",
      "Data columns (total 10 columns):\n",
      " #   Column   Non-Null Count  Dtype \n",
      "---  ------   --------------  ----- \n",
      " 0   #        1075 non-null   object\n",
      " 1   Name     1075 non-null   object\n",
      " 2   Type     1075 non-null   object\n",
      " 3   Total    1075 non-null   object\n",
      " 4   HP       1075 non-null   object\n",
      " 5   Attack   1075 non-null   object\n",
      " 6   Defense  1075 non-null   object\n",
      " 7   Sp. Atk  1075 non-null   object\n",
      " 8   Sp. Def  1075 non-null   object\n",
      " 9   Speed    1075 non-null   object\n",
      "dtypes: object(10)\n",
      "memory usage: 84.1+ KB\n"
     ]
    }
   ],
   "source": [
    "df.info()"
   ]
  },
  {
   "cell_type": "code",
   "execution_count": null,
   "metadata": {
    "id": "bdQQx9IyM03y"
   },
   "outputs": [],
   "source": []
  }
 ],
 "metadata": {
  "colab": {
   "collapsed_sections": [],
   "name": "Day20_hw.ipynb",
   "provenance": [],
   "toc_visible": true
  },
  "kernelspec": {
   "display_name": "Python 3",
   "language": "python",
   "name": "python3"
  },
  "language_info": {
   "codemirror_mode": {
    "name": "ipython",
    "version": 3
   },
   "file_extension": ".py",
   "mimetype": "text/x-python",
   "name": "python",
   "nbconvert_exporter": "python",
   "pygments_lexer": "ipython3",
   "version": "3.6.13"
  }
 },
 "nbformat": 4,
 "nbformat_minor": 1
}
