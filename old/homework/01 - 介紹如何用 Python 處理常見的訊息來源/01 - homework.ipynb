{
 "cells": [
  {
   "cell_type": "markdown",
   "id": "dying-collective",
   "metadata": {},
   "source": [
    "## 作業目標\n",
    "\n",
    "* 1.（簡答題）檔案、API、爬蟲三種取得資料方式有什麼不同？\n",
    "* 2.（實作）完成一個程式，需滿足下列需求：\n",
    "    * 下載指定檔案到 Data 資料夾，存成檔名 Homework.txt\n",
    "    * 檢查 Data 資料夾是否有 Homework.txt 檔名之檔案\n",
    "    * 將「Hello World」字串覆寫到 Homework.txt 檔案\n",
    "    * 檢查 Homework.txt 檔案字數是否符合 Hello World 字數\n"
   ]
  },
  {
   "cell_type": "markdown",
   "id": "uniform-proportion",
   "metadata": {},
   "source": [
    "## 1.  （簡答題）檔案、API、爬蟲三種取得資料方式有什麼不同？"
   ]
  },
  {
   "cell_type": "markdown",
   "id": "agricultural-still",
   "metadata": {},
   "source": [
    "- 檔案：檔案包含完整的資料與固定的格式。\n",
    "- API：提供資料的接口，使用者可以利用程式經由接口提取想要的資訊，不一定要下載整份檔案。\n",
    "- 爬蟲：雖然是公開的資訊，但沒有提供檔案下載或是API端口，需要用程式擷取並將資訊去蕪存菁。"
   ]
  },
  {
   "cell_type": "markdown",
   "id": "generous-conducting",
   "metadata": {},
   "source": [
    "## 2.（實作）完成一個程式，需滿足下列需求：\n",
    "* 下載指定檔案到 Data 資料夾，存成檔名 Homework.txt\n",
    "* 檢查 Data 資料夾是否有 Homework.txt 檔名之檔案\n",
    "* 將「Hello World」字串覆寫到 Homework.txt 檔案\n",
    "* 檢查 Homework.txt 檔案字數是否符合 Hello World 字數"
   ]
  },
  {
   "cell_type": "code",
   "execution_count": 1,
   "id": "offensive-collection",
   "metadata": {},
   "outputs": [],
   "source": [
    "##### Module import\n",
    "\n",
    "import os\n",
    "import sys\n",
    "from urllib.request import urlretrieve\n",
    "import chardet"
   ]
  },
  {
   "cell_type": "code",
   "execution_count": 2,
   "id": "regional-music",
   "metadata": {},
   "outputs": [
    {
     "data": {
      "text/plain": [
       "('./Data/Homework.txt', <http.client.HTTPMessage at 0x18e59523898>)"
      ]
     },
     "execution_count": 2,
     "metadata": {},
     "output_type": "execute_result"
    }
   ],
   "source": [
    "### 1.\n",
    "\n",
    "if not os.path.exists('./Data'):\n",
    "    os.mkdir('./Data')\n",
    "    \n",
    "urlretrieve('https://www.w3.org/TR/PNG/iso_8859-1.txt', './Data/Homework.txt')"
   ]
  },
  {
   "cell_type": "code",
   "execution_count": 3,
   "id": "advanced-frequency",
   "metadata": {},
   "outputs": [
    {
     "name": "stdout",
     "output_type": "stream",
     "text": [
      "File  \"./Data/Homework.txt\" exists.\n"
     ]
    }
   ],
   "source": [
    "### 2.\n",
    "\n",
    "if os.path.exists('./Data/Homework.txt'):\n",
    "    print(f'File  \"./Data/Homework.txt\" exists.')\n",
    "else:\n",
    "    print('FAILED')"
   ]
  },
  {
   "cell_type": "code",
   "execution_count": 4,
   "id": "arbitrary-chassis",
   "metadata": {},
   "outputs": [],
   "source": [
    "### 3.\n",
    "\n",
    "f_write = open('./Data/Homework.txt', 'w')\n",
    "f_write.write('Hello World')\n",
    "f_write.close()"
   ]
  },
  {
   "cell_type": "code",
   "execution_count": 5,
   "id": "lyric-visit",
   "metadata": {},
   "outputs": [
    {
     "name": "stdout",
     "output_type": "stream",
     "text": [
      "True\n"
     ]
    }
   ],
   "source": [
    "### 4.\n",
    "\n",
    "f_read =  open('./Data/Homework.txt', 'r')\n",
    "\n",
    "if len(f_read.read()) == len('Hello World'):\n",
    "    print('True')\n",
    "else:\n",
    "    print('FAILED')"
   ]
  },
  {
   "cell_type": "code",
   "execution_count": null,
   "id": "destroyed-unknown",
   "metadata": {},
   "outputs": [],
   "source": []
  }
 ],
 "metadata": {
  "kernelspec": {
   "display_name": "Python 3",
   "language": "python",
   "name": "python3"
  },
  "language_info": {
   "codemirror_mode": {
    "name": "ipython",
    "version": 3
   },
   "file_extension": ".py",
   "mimetype": "text/x-python",
   "name": "python",
   "nbconvert_exporter": "python",
   "pygments_lexer": "ipython3",
   "version": "3.6.13"
  }
 },
 "nbformat": 4,
 "nbformat_minor": 5
}
